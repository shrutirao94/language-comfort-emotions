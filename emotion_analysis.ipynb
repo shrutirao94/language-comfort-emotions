{
 "cells": [
  {
   "cell_type": "code",
   "execution_count": 1,
   "id": "5e270e4f",
   "metadata": {
    "tags": []
   },
   "outputs": [
    {
     "name": "stderr",
     "output_type": "stream",
     "text": [
      "[nltk_data] Downloading package stopwords to\n",
      "[nltk_data]     /Users/shrutirao/nltk_data...\n",
      "[nltk_data]   Package stopwords is already up-to-date!\n",
      "[nltk_data] Downloading package wordnet to\n",
      "[nltk_data]     /Users/shrutirao/nltk_data...\n",
      "[nltk_data]   Package wordnet is already up-to-date!\n",
      "[nltk_data] Downloading package vader_lexicon to\n",
      "[nltk_data]     /Users/shrutirao/nltk_data...\n",
      "[nltk_data]   Package vader_lexicon is already up-to-date!\n"
     ]
    }
   ],
   "source": [
    "import string\n",
    "\n",
    "import numpy as np\n",
    "import matplotlib.pyplot as plt \n",
    "import pandas as pd\n",
    "import seaborn as sns\n",
    "\n",
    "import nltk\n",
    "nltk.download(\"stopwords\")\n",
    "nltk.download('wordnet')\n",
    "nltk.download('vader_lexicon')\n",
    "\n",
    "from nltk.stem import PorterStemmer\n",
    "from nltk.tokenize import sent_tokenize, word_tokenize\n",
    "from nltk.stem import WordNetLemmatizer\n",
    "from nltk.corpus import stopwords\n",
    "from nltk import FreqDist\n",
    "from nltk.sentiment import SentimentIntensityAnalyzer\n",
    "\n",
    "from wordcloud import WordCloud"
   ]
  },
  {
   "cell_type": "code",
   "execution_count": 103,
   "id": "77b647ee",
   "metadata": {
    "tags": []
   },
   "outputs": [],
   "source": [
    "df = pd.read_csv('data/lab42_cleaned_data.csv', index_col=0)"
   ]
  },
  {
   "cell_type": "code",
   "execution_count": 110,
   "id": "2295557c-d645-4064-a1ea-def35412a58d",
   "metadata": {
    "tags": []
   },
   "outputs": [],
   "source": [
    "def apply_token(row):\n",
    "    \n",
    "    stop_words = set(stopwords.words(\"english\"))\n",
    "    words_in_sent = word_tokenize(row)\n",
    "\n",
    "    filtered_list = []\n",
    "    \n",
    "    for word in words_in_sent:\n",
    "        if word.casefold() not in stop_words:\n",
    "            filtered_list.append(word.lower())\n",
    "    \n",
    "    return filtered_list\n",
    "\n",
    "\n",
    "def remove_unecessary_tokens(tokens):\n",
    "    cleaned_tokens = list(filter(lambda x: len(x) > 2, tokens))\n",
    "\n",
    "    return cleaned_tokens\n",
    "\n",
    "\n",
    "def emotion_specific_cleanup(row):\n",
    "    filler_words = [\"bit\", \"little\", \"feeling\",\n",
    "                   \"look\", \"like\", \"assignment\", \"exam\",\n",
    "                    \"feel\", \"feels\", \"feeling\", \"looks\", \"around\",\n",
    "                    \"wanted\", \"last\", \"night\", \"say\", \"building\", \n",
    "                    \"able\", \"let\", \"able\", \"also\", \"space\",\n",
    "                    \"study\", \"studying\"\n",
    "                   ]\n",
    "    \n",
    "    cleaned_list = list(filter(lambda x: x not in filler_words, row))\n",
    "    return cleaned_list  \n",
    "\n",
    "\n",
    "def comfort_specific_cleanup(row):\n",
    "    filler_words = [\"bit\", \"little\", \"feeling\",\n",
    "                   \"look\", \"like\", \"assignment\", \"exam\",\n",
    "                    \"feel\", \"feels\", \"feeling\", \"looks\", \"around\",\n",
    "                    \"wanted\", \"last\", \"night\", \"say\", \"building\", \n",
    "                    \"able\", \"let\", \"able\", \"also\", \"space\",\n",
    "                    \"study\", \"studying\", \"many\", \"make\"\n",
    "                   ]\n",
    "    \n",
    "    cleaned_list = list(filter(lambda x: x not in filler_words, row))\n",
    "    return cleaned_list    "
   ]
  },
  {
   "cell_type": "markdown",
   "id": "16b73abf-a348-43b2-9dcf-ad0f6d46caa9",
   "metadata": {},
   "source": [
    "# Emotion"
   ]
  },
  {
   "cell_type": "code",
   "execution_count": 20,
   "id": "6b5075a5-cfd7-4c2b-ad48-11d1dd345e77",
   "metadata": {
    "tags": []
   },
   "outputs": [],
   "source": [
    "df_ground_floor = df.loc[df['floor'] == \"Ground floor\"][['ground-floor', 'emotion']].dropna()\n",
    "df_1_floor = df.loc[df['floor'] == \"1st Floor\"][['1-floor', 'emotion']].dropna()\n",
    "df_2_floor = df.loc[df['floor'] == \"2nd Floor\"][['2-floor', 'emotion']].dropna()\n",
    "df_3_floor = df.loc[df['floor'] == \"3rd Floor\"][['3-floor', 'emotion']].dropna()"
   ]
  },
  {
   "cell_type": "code",
   "execution_count": 94,
   "id": "a3a40635-b5c6-4938-8f15-bcdb423b9b69",
   "metadata": {
    "tags": []
   },
   "outputs": [],
   "source": [
    "floors = [df_ground_floor, df_1_floor, df_2_floor, df_3_floor]\n",
    "names = [\"ground-floor\", \"1-floor\", \"2-floor\", \"3-floor\"]\n",
    "\n",
    "emo_df = []\n",
    "\n",
    "for floor, name in zip(floors, names):\n",
    "    floor['tokens'] = floor.emotion.apply(apply_token)\n",
    "    floor['tokens'] = floor.tokens.apply(remove_unecessary_tokens)\n",
    "    floor['tokens'] = floor.tokens.apply(emotion_specific_cleanup)\n",
    "    emo_df.append(pd.DataFrame(floor.groupby([name])['tokens'].sum().reset_index()))"
   ]
  },
  {
   "cell_type": "code",
   "execution_count": 96,
   "id": "f434bbbf-d293-416f-8444-41bf0d869ead",
   "metadata": {
    "tags": []
   },
   "outputs": [
    {
     "name": "stdout",
     "output_type": "stream",
     "text": [
      "Green chairs by the entrance  :  ['chill', 'nice', 'pretty', 'quiet', 'relaxed'] \n",
      "\n",
      "Library learning room  :  ['aesthetic', 'calm', 'calm', 'cool', 'energising', 'exams', 'happy', 'motivated', 'normal', 'room', 'stressed'] \n",
      "\n",
      "Next to the lockers  :  ['acceptable', 'acoustics', 'als', 'atmosphere', 'atmosphere', 'background', 'calm', 'exposed', 'good', 'level', 'makes', 'near', 'neutral', 'noise', 'noises', 'others', 'overall', 'personally', 'relaxed', 'sad', 'work'] \n",
      "\n",
      "Round tables by the three plants (across wooden staircase)  :  ['atmosphere', 'atmosphere', 'big', 'calm', 'calm', 'calm', 'calm', 'cold', 'collected', 'concentration', 'cramped', 'fatigue', 'good', 'happy', 'majestic', 'mildly', 'moment', 'motivated', 'neutral', 'neutral', 'open', 'relaxed', 'rest', 'safe', 'stable', 'view'] \n",
      "\n",
      "Study corner next to the plant wall  :  ['cold', 'neutral', 'normal', 'pretty', 'relaxing', 'stressed'] \n",
      "\n",
      "Unsure  :  ['comfortable', 'happy', 'neutral', 'tired', 'tired'] \n",
      "\n"
     ]
    }
   ],
   "source": [
    "for space, emos in zip(emo_df[0][\"ground-floor\"], emo_df[0].tokens):\n",
    "    print(space, \" : \", sorted(emos), \"\\n\")"
   ]
  },
  {
   "cell_type": "code",
   "execution_count": 97,
   "id": "4f14e419-5d05-462a-bbcd-b769b4d02470",
   "metadata": {
    "tags": []
   },
   "outputs": [
    {
     "name": "stdout",
     "output_type": "stream",
     "text": [
      "Green group study tables (between a row of plants and railing)  :  ['ago', 'annoying', 'apart', 'booting', 'bored', 'calm', 'calm', 'calm', 'calm', 'calm', 'ceiling', 'chill', 'class', 'cold', 'comfortable', 'comfortable', 'comfortable', 'comfy', 'couple', 'cozy', 'cozy', 'dark', 'depends', 'directly', 'enjoyable', 'face', 'fact', 'fine', 'floors', 'focussed', 'good', 'good', 'good', 'got', 'guess', 'happy', 'hours', 'hungry', 'kindoff', 'light', 'mood', 'mood', 'mood', \"n't\", 'neutral', 'nice', 'nice', 'nice', 'normal', 'otherwise', 'peaceful', 'place', 'positive', 'quite', 'really', 'relaxed', 'relaxed', 'sad', 'shining', 'since', 'slowly', 'sometimes', 'somewhat', 'tired', 'tired', 'top', 'use', 'well', 'whether'] \n",
      "\n",
      "Library learning room  :  ['calm', 'classrooms', 'comfortable', 'comfortable', 'comfortable.make', 'concentration', 'due', 'easily', 'focused', 'getting', 'green', 'hear', 'impact', 'negative', 'nice', 'nice', 'noisy', 'offices/flexdesks', 'peaceful', 'person', 'quiet', 'quiet', 'quiet', 'ready', 'really', 'relaxed', 'relaxed', 'severe', 'stressed', 'successful', 'walls', 'work'] \n",
      "\n",
      "Partly covered green chairs (along glass wall)  :  ['always', 'area', 'areas', 'artificial', 'atmosphere', 'bathroom', 'blinds', 'calm', 'calm', 'calm', 'chair', 'chair', 'claustrophobic', 'comfortable', 'comfortable', 'comforting', 'concentrated', 'corpse', 'cozy', 'creates', 'deadline', 'drawn', 'energetic', 'facing', 'fact', 'fading', 'floors', 'focused', 'going', 'ground', 'hall/pass', 'happy', 'happy', 'isolated', 'light', 'light', 'make', 'makes', 'makes', 'motivated', 'motivated', 'naar', 'natural', 'necessarily', 'nice', 'open', 'open', 'opportunity', 'peaceful', 'people', 'perfect', 'place', 'position', 'posture', 'really', 'relaxed', 'relaxed', 'relaxed', 'relaxing', 'rhe', 'rooms', 'sad', 'seating', 'see', 'side', 'smells', 'somewhere', 'standing', 'stressed', 'sun', 'sunlight', 'sunny', 'turned', 'walking', 'warm', 'way', 'window', 'wish', 'womens', 'working', 'worried'] \n",
      "\n",
      "Tables on the landing (with wooden floor) accessible by the black staircase  :  ['besides', 'calm', 'calm', 'calm', 'calm', 'cool', 'day', 'ease', 'else', 'fine', 'fine', 'focused', 'focussen', 'great', 'however', 'hungry', 'lab', 'larger', 'motivated', 'motivation', 'opportunity', 'peacefull', 'peacefull', 'positive', 'relaxed', 'relaxed', 'since', 'site', 'someone', 'tables', 'taken', 'tired', 'working', 'working', 'would'] \n",
      "\n",
      "Unsure  :  ['calm', 'comfy', 'decluttered', 'focused', 'opressed', 'peaceful'] \n",
      "\n",
      "Yellow/white chairs & tables (besides the wooden staircase)  :  ['albeit', 'annoyed', 'anxious', 'atmosphere', 'calm', 'calm', 'chill', 'class', 'disturbing', 'due', 'ease', 'easy', 'facing', 'finding', 'floor', 'focused', 'focused', 'good', 'good', 'grass', 'ground', 'happy', 'happy', 'happy', 'hectic', 'hence', 'high', 'kinda', 'light', 'makes', 'mildly', 'natural', 'neutral', 'noice', 'place', 'positive', 'productive', 'productive', 'quite', 'quite', 'rates', 'relaxed', 'relaxed', 'screen', 'spacious', 'sufficient', 'time', 'tranquil', 'vibes', 'walls'] \n",
      "\n"
     ]
    }
   ],
   "source": [
    "for space, emos in zip(emo_df[1][\"1-floor\"], emo_df[1].tokens):\n",
    "    print(space, \" : \", sorted(emos), \"\\n\")"
   ]
  },
  {
   "cell_type": "code",
   "execution_count": 99,
   "id": "3d267ba4-db6e-43d8-9cb0-ec92a3cae502",
   "metadata": {
    "tags": []
   },
   "outputs": [
    {
     "name": "stdout",
     "output_type": "stream",
     "text": [
      "Group tables by the stairs  :  ['lighting', 'need', 'yes'] \n",
      "\n",
      "Library learning room  :  ['artificial', 'automatically', 'blinds', 'calm', 'calm', 'calm', 'calm', 'chill', 'closed', 'dark', 'day', 'day', 'focus', 'focused', 'frustrated', 'general', 'good', 'lighting', 'location', 'loving', 'makes', 'much', 'natural', 'open-space', 'peace', 'relaxed', 'resources', 'silence', 'sunlight', 'sunny', 'tired', 'used'] \n",
      "\n",
      "Unsure  :  ['3rd', 'areas', 'bridge', 'coffee', 'floor', 'lifeless', 'main', 'putside', 'shared', 'terrible'] \n",
      "\n"
     ]
    }
   ],
   "source": [
    "for space, emos in zip(emo_df[2][\"2-floor\"], emo_df[2].tokens):\n",
    "    print(space, \" : \", sorted(emos), \"\\n\")"
   ]
  },
  {
   "cell_type": "code",
   "execution_count": 100,
   "id": "8747679b-b55a-4eb7-8636-b4d96d1293e4",
   "metadata": {
    "tags": []
   },
   "outputs": [
    {
     "name": "stdout",
     "output_type": "stream",
     "text": [
      "Near the printer  :  ['day', 'tiredafter'] \n",
      "\n",
      "Open lounge area  :  ['anxious', 'neutral', 'open', 'pleasant'] \n",
      "\n",
      "Round tables by the coffee machine  :  ['happy'] \n",
      "\n",
      "Unsure  :  ['good', 'nice', 'sterile'] \n",
      "\n"
     ]
    }
   ],
   "source": [
    "for space, emos in zip(emo_df[3][\"3-floor\"], emo_df[3].tokens):\n",
    "    print(space, \" : \", sorted(emos), \"\\n\")"
   ]
  },
  {
   "cell_type": "markdown",
   "id": "1ecdc718-7f85-48ae-b26e-e1ef83fc7e98",
   "metadata": {},
   "source": [
    "# Comfort"
   ]
  },
  {
   "cell_type": "code",
   "execution_count": 111,
   "id": "93e413a6-b4ad-4431-9eb7-1d97c8204142",
   "metadata": {
    "tags": []
   },
   "outputs": [],
   "source": [
    "df_ground_floor = df.loc[df['floor'] == \"Ground floor\"][['ground-floor', 'comfort']].dropna()\n",
    "df_1_floor = df.loc[df['floor'] == \"1st Floor\"][['1-floor', 'comfort']].dropna()\n",
    "df_2_floor = df.loc[df['floor'] == \"2nd Floor\"][['2-floor', 'comfort']].dropna()\n",
    "df_3_floor = df.loc[df['floor'] == \"3rd Floor\"][['3-floor', 'comfort']].dropna()"
   ]
  },
  {
   "cell_type": "code",
   "execution_count": 112,
   "id": "4db1ce2d-8856-446e-a1ad-0b9a78f683ee",
   "metadata": {
    "tags": []
   },
   "outputs": [],
   "source": [
    "floors = [df_ground_floor, df_1_floor, df_2_floor, df_3_floor]\n",
    "names = [\"ground-floor\", \"1-floor\", \"2-floor\", \"3-floor\"]\n",
    "\n",
    "comfort_df = []\n",
    "\n",
    "for floor, name in zip(floors, names):\n",
    "    floor['tokens'] = floor.comfort.apply(apply_token)\n",
    "    floor['tokens'] = floor.tokens.apply(remove_unecessary_tokens)\n",
    "    floor['tokens'] = floor.tokens.apply(emotion_specific_cleanup)\n",
    "    comfort_df.append(pd.DataFrame(floor.groupby([name])['tokens'].sum().reset_index()))"
   ]
  },
  {
   "cell_type": "code",
   "execution_count": 113,
   "id": "e67c0a92-a2c7-4ea8-bd6b-9ddddf980ab1",
   "metadata": {
    "tags": []
   },
   "outputs": [
    {
     "name": "stdout",
     "output_type": "stream",
     "text": [
      "Green chairs by the entrance  :  ['comforting', 'especially', 'everything', 'front', 'garden', 'nice', 'nice', 'spacious', 'sure', 'terrace'] \n",
      "\n",
      "Library learning room  :  ['amount', 'cold', 'cold', 'colours', 'comfortable', 'comfortable', 'comfortably', 'daylight', 'great', 'lot', 'make', 'makes', 'many', 'nice', 'noises', 'normal', 'open', 'really', 'right', 'room', 'sunlight', 'usually', 'warm', 'warm', 'window'] \n",
      "\n",
      "Next to the lockers  :  ['air', 'annoying', 'comfort', 'comfortable', 'comfortable', 'couch', 'dark', 'door', 'every', 'focused', 'full', 'good', 'good', 'hard', 'leaving', 'life', 'lighting', 'maybe', 'minute', 'noisy', 'quality', 'quite', 'shadows', 'shawl', 'sitting', 'slamming', 'soft', 'sometimes', 'sound', 'temperature', 'thing', 'though', 'toilet', 'warm'] \n",
      "\n",
      "Round tables by the three plants (across wooden staircase)  :  ['background', 'blinded', 'breaks', 'close', 'cold', 'cold', 'cold', 'cold', 'comfortable', 'comfortable', 'comfortable', 'comfortable', 'concerning', 'door', 'enough', 'entrance', 'feet', 'floor', 'get', 'good', 'good', 'good', 'hands', 'hmmmm', 'hoorcollege', 'kind', 'light', 'light', 'lights', 'littered', 'loud', 'low', \"n't\", 'next', 'noise', 'noise', 'noise', 'noisy', 'noisy', 'noisy', 'open', 'overall', 'perfect', 'place', 'plants', 'privacy', 'quickly', 'quite', 'quite', 'remarks', 'right', 'second', 'soft', 'stairs', 'sunsight', 'temperature', 'temperature', 'tend', 'think', 'think', 'would'] \n",
      "\n",
      "Study corner next to the plant wall  :  ['7/10', 'back', 'chair', 'chalkboards', 'cold', 'cold', 'comfortable', 'existential', 'gives', 'greasy', 'hurt', 'lack', 'light', 'lil', 'makes', 'pain', 'quite', 'table'] \n",
      "\n",
      "Unsure  :  ['air', 'almost', 'cold', 'cold', 'comfortable', 'couch', 'enough', 'fine', 'good', 'light', 'much', 'nice', 'nice', 'noise،', 'otherwise', 'pretty', 'quality', 'right', 'sofa', 'sometimes', 'temperature'] \n",
      "\n"
     ]
    }
   ],
   "source": [
    "for space, comf in zip(comfort_df[0][\"ground-floor\"], comfort_df[0].tokens):\n",
    "    print(space, \" : \", sorted(comf), \"\\n\")"
   ]
  },
  {
   "cell_type": "code",
   "execution_count": 115,
   "id": "9c959d43-d1ea-48e5-8735-b974f5d91ad1",
   "metadata": {
    "tags": []
   },
   "outputs": [
    {
     "name": "stdout",
     "output_type": "stream",
     "text": [
      "Green group study tables (between a row of plants and railing)  :  ['actually', 'air', 'alright', 'annoying', 'background', 'better', 'chairs', 'chairs', 'class', 'classes', 'cold', 'cold', 'color', 'comfertable', 'comfortable', 'comfortable', 'comfortable', 'comfortable', 'comfortable', 'comfortable', 'comfortable', 'comfortable', 'comfortable', 'comfortable', 'comfortable', 'comfortable', 'comfortable', 'dark', 'downside', 'end', 'ended', 'even', 'face', 'feet', 'find', 'floor', 'good', 'good', 'good', 'great', 'greenery', 'light', 'light', 'light', 'light', 'lot', 'loud', 'loud', 'mind', 'much', 'much', \"n't\", 'natural', 'nice', 'nice', 'nice', 'noise', 'noise', 'noise', 'noise', 'noise', 'noisy', 'noisy', 'office', 'others', 'people', 'perfect', 'perfect', 'place', 'plants', 'pretty', 'pretty', 'pretty', 'quality', 'quite', 'quite', 'really', 'right', 'room', 'said', 'seats', 'shining', 'short', 'since', 'smaller', 'spaces', 'taste', 'temperature', 'temperature', 'though', 'times', 'touch', 'useage', 'usually', 'watched', 'wood'] \n",
      "\n",
      "Library learning room  :  ['air', 'air', 'air', 'annoying', 'beamer', 'circulation', 'comfortable', 'comfortable', 'comfortable', 'constant', 'could', 'day', 'desk', 'dividers', 'due', 'early', 'fresh', 'fresher', 'good', 'great', 'high', 'humming', 'isolated', 'lessons', 'light', 'light', 'light', 'make', 'many', 'many', 'natural', 'natural', 'nice', 'noise', 'okay', 'oxygenated', 'people', 'people', 'plenty', 'pretty', 'providing', 'quiet', 'quiet', 'quite', 'regards', 'right', 'room', 'room', 'room', 'room', 'silent', 'sites', 'sitting', 'sound', 'splendid', 'still', 'sure', 'surroundings', 'system', 'temperature', 'think', 'though', 'view', 'well', 'window', 'windows'] \n",
      "\n",
      "Partly covered green chairs (along glass wall)  :  [\"'curl\", 'adaptable', 'air', 'air', 'allergic', 'always', 'always', 'area', 'behind', 'bench', 'better', 'blidndinh', 'blinds', 'breaks', 'bubble', 'calming', 'chair', 'chairs', 'closing', 'colder', 'colours', 'comfortable', 'comfortable', 'comfortable', 'comfortable', 'concentration', 'could', 'crates', 'create', 'dark', 'day', 'distraction', 'disturb', 'disturbance', 'dont', 'effect', 'enough', 'even', 'factors', 'fine', 'give', 'gives', 'good', 'good', 'great', 'green', 'hallway', 'headphones', 'increases', 'isolated', 'kind', 'know', 'lectures', 'light', 'light', 'light', 'light', 'light', 'liking', 'lot', 'lot', 'love', 'love', 'makes', 'manually', 'matter', 'maybe', 'mech', 'much', 'natural', 'natural', 'natural', 'necessarily', 'negative', 'noise', 'noise', 'noise', 'noise', 'noisey', 'noisy', 'noisy', 'otherwise', 'peeps', 'people', 'point', 'quality', 'quality', 'quite', 'quite', 'really', 'relaxed', 'relaxed', 'semi', 'sensitive', 'sides', 'sitting', 'sitting', 'smells', 'soft', 'solution', 'sometimes', 'spacious', 'sunlight', 'superb', 'talking', 'temperature', 'temperature', 'therefore', 'though', 'uncomfortable', 'unpleasant', 'walls', 'want', 'warm', 'window', 'window', 'without', 'work', 'work', 'workspace'] \n",
      "\n",
      "Tables on the landing (with wooden floor) accessible by the black staircase  :  ['air', 'air', 'attention', 'background', 'better', 'case', 'chair', 'chairs', 'chairs', 'chairs', 'class', 'clean', 'clean', 'cold', 'comfortable', 'comfortable', 'comfortable', 'comfortable', 'comfortable', 'comfortable', 'coming', 'could', 'empty', 'enough', 'even', 'fact', 'good', 'good', 'green', 'group', 'hear', 'high', 'isnt', 'know', 'legs', 'less', 'library', 'light', 'light', 'light', 'lighting', 'lighting', 'looking', 'lot', 'makes', 'maybe', 'minimal', 'much', 'nice', 'nice', 'nice', 'noise', 'noise', 'noise', 'noise', 'noise', 'noticed', 'otherwise', 'paid', 'people', 'perfect', 'perfect', 'place', 'prefer', 'public', 'quality', 'quality', 'really', 'right', 'rooms', 'seem', 'seems', 'seems', 'side', 'silent', 'sits', 'sleepy', 'sort', 'survey', 'tables', 'temperature', 'temperature', 'though', 'uncomfortable', 'view', 'warm', 'work', 'would', 'would'] \n",
      "\n",
      "Unsure  :  ['comfortable', 'comfortable', 'everything', 'great', 'pretty'] \n",
      "\n",
      "Yellow/white chairs & tables (besides the wooden staircase)  :  ['air', 'air', 'air', 'air', 'alright', 'amount', 'ample', 'atmosphere', 'background', 'bathrooms', 'bend', 'break', 'bright', 'chair', 'cleaner', 'cold', 'cold', 'comfortable', 'comfortable', 'comfortable', 'comfortable', 'coming', 'constantly', 'decent', 'differ', 'distracting', 'doors', 'except', 'exceptionally', 'fact', 'fine', 'fine', 'freezing', 'full', 'gingen', 'give', 'good', 'good', 'good', 'good', 'good', 'harsh', 'hear', 'help', 'laptop', 'lectures', 'levels', 'light', 'light', 'light', 'light', 'lighting', 'listen', 'lit', 'lot', 'lot', 'loud', 'make', 'much', 'nearby', 'nice', 'noise', 'noise', 'noise', 'noise', 'noisy', 'normally', 'okay', 'people', 'people', 'pkay', 'plants', 'plants', 'pretty', 'pretty', 'quality', 'quality', 'quality', 'seems', 'shut', 'sometimes', 'sometimes', 'stuffy', 'subside', 'sufficient', 'temperature', 'temperature', 'temperature', 'tidy', 'triggering', 'use', 'vacuum', 'vibe', 'well', 'windows', 'yet'] \n",
      "\n"
     ]
    }
   ],
   "source": [
    "for space, comf in zip(comfort_df[1][\"1-floor\"], comfort_df[1].tokens):\n",
    "    print(space, \" : \", sorted(comf), \"\\n\")"
   ]
  },
  {
   "cell_type": "code",
   "execution_count": 116,
   "id": "d22b742c-d1c4-4442-be06-aedbba44daa3",
   "metadata": {
    "tags": []
   },
   "outputs": [
    {
     "name": "stdout",
     "output_type": "stream",
     "text": [
      "Group tables by the stairs  :  ['heating', 'lighting', 'need', 'need', 'yes'] \n",
      "\n",
      "Library learning room  :  ['air', 'air', 'area', 'aspects', 'automatic', 'becomes', 'besides', 'better', 'blinds', 'blinds', 'blinds', 'blockers', 'blocking', 'closed', 'closed', 'closing', 'comfortable', 'comfortable', 'comfortable', 'comfortable', 'comfortable', 'could', 'curtains', 'dark', 'dark', 'dark', 'enough', 'facing', 'get', 'gloomy', 'good', 'good', 'good', 'helps', 'inside', 'irregularity', 'light', 'light', 'lit', 'make', 'making', 'natural', 'nice', 'nicely', 'noises', 'often', 'open/staircase', 'please', 'point', 'pretty', 'pretty', 'pretty', 'quality', 'quality', 'room', 'room', 'sad', 'screen', 'slightly', 'stop', 'sun', 'sunny', 'temperature', 'though', 'uncomfortable', 'whole', 'window', 'window', 'worse'] \n",
      "\n",
      "Unsure  :  ['alright', 'everything'] \n",
      "\n"
     ]
    }
   ],
   "source": [
    "for space, comf in zip(comfort_df[2][\"2-floor\"], comfort_df[2].tokens):\n",
    "    print(space, \" : \", sorted(comf), \"\\n\")"
   ]
  },
  {
   "cell_type": "code",
   "execution_count": 117,
   "id": "404505a0-d5c5-4e04-b18b-181036d311ed",
   "metadata": {
    "tags": []
   },
   "outputs": [
    {
     "name": "stdout",
     "output_type": "stream",
     "text": [
      "Near the printer  :  ['fine', 'noisy', 'sometimes'] \n",
      "\n",
      "Open lounge area  :  ['always', 'cold', 'comfortable', 'dont', 'fine', 'fine', 'light', 'noise', 'open', 'open', 'pretty', 'temperature'] \n",
      "\n",
      "Round tables by the coffee machine  :  ['comfortable'] \n",
      "\n",
      "Unsure  :  [] \n",
      "\n"
     ]
    }
   ],
   "source": [
    "for space, comf in zip(comfort_df[3][\"3-floor\"], comfort_df[3].tokens):\n",
    "    print(space, \" : \", sorted(comf), \"\\n\")"
   ]
  },
  {
   "cell_type": "code",
   "execution_count": null,
   "id": "f4d39f2e-099c-4155-9edb-13648c4629fd",
   "metadata": {},
   "outputs": [],
   "source": []
  }
 ],
 "metadata": {
  "kernelspec": {
   "display_name": "venv",
   "language": "python",
   "name": "venv"
  },
  "language_info": {
   "codemirror_mode": {
    "name": "ipython",
    "version": 3
   },
   "file_extension": ".py",
   "mimetype": "text/x-python",
   "name": "python",
   "nbconvert_exporter": "python",
   "pygments_lexer": "ipython3",
   "version": "3.8.9"
  }
 },
 "nbformat": 4,
 "nbformat_minor": 5
}
