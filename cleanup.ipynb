{
 "cells": [
  {
   "cell_type": "code",
   "execution_count": 1,
   "id": "fe8481b3",
   "metadata": {
    "tags": []
   },
   "outputs": [],
   "source": [
    "import numpy as np\n",
    "import matplotlib.pyplot as plt \n",
    "import pandas as pd"
   ]
  },
  {
   "cell_type": "code",
   "execution_count": 2,
   "id": "5339bff1",
   "metadata": {
    "tags": []
   },
   "outputs": [],
   "source": [
    "df = pd.read_csv('data/904_data.csv', header=1)"
   ]
  },
  {
   "cell_type": "code",
   "execution_count": 3,
   "id": "de0eb028",
   "metadata": {
    "scrolled": true,
    "tags": []
   },
   "outputs": [
    {
     "data": {
      "text/plain": [
       "Index(['Start Date', 'End Date', 'Response Type', 'IP Address', 'Progress',\n",
       "       'Duration (in seconds)', 'Finished', 'Recorded Date', 'Response ID',\n",
       "       'Recipient Last Name', 'Recipient First Name', 'Recipient Email',\n",
       "       'External Data Reference', 'Location Latitude', 'Location Longitude',\n",
       "       'Distribution Channel', 'User Language', 'introduction',\n",
       "       'Could you tell where you are located?', 'floor', 'ground-floor',\n",
       "       'emotion', 'comfort'],\n",
       "      dtype='object')"
      ]
     },
     "execution_count": 3,
     "metadata": {},
     "output_type": "execute_result"
    }
   ],
   "source": [
    "df.columns"
   ]
  },
  {
   "cell_type": "code",
   "execution_count": 14,
   "id": "9ccd312d-13f0-4171-ad08-1b62a1369c58",
   "metadata": {
    "tags": []
   },
   "outputs": [
    {
     "data": {
      "text/html": [
       "<div>\n",
       "<style scoped>\n",
       "    .dataframe tbody tr th:only-of-type {\n",
       "        vertical-align: middle;\n",
       "    }\n",
       "\n",
       "    .dataframe tbody tr th {\n",
       "        vertical-align: top;\n",
       "    }\n",
       "\n",
       "    .dataframe thead th {\n",
       "        text-align: right;\n",
       "    }\n",
       "</style>\n",
       "<table border=\"1\" class=\"dataframe\">\n",
       "  <thead>\n",
       "    <tr style=\"text-align: right;\">\n",
       "      <th></th>\n",
       "      <th>Could you tell where you are located?</th>\n",
       "      <th>floor</th>\n",
       "      <th>ground-floor</th>\n",
       "      <th>emotion</th>\n",
       "      <th>comfort</th>\n",
       "    </tr>\n",
       "  </thead>\n",
       "  <tbody>\n",
       "    <tr>\n",
       "      <th>1</th>\n",
       "      <td>C</td>\n",
       "      <td>Ground floor</td>\n",
       "      <td>Group work tables</td>\n",
       "      <td>Chill</td>\n",
       "      <td>I feel comfortable but watched</td>\n",
       "    </tr>\n",
       "    <tr>\n",
       "      <th>2</th>\n",
       "      <td>C</td>\n",
       "      <td>Ground floor</td>\n",
       "      <td>Meeting/communal space</td>\n",
       "      <td>Relaxed, friendly,</td>\n",
       "      <td>NaN</td>\n",
       "    </tr>\n",
       "    <tr>\n",
       "      <th>3</th>\n",
       "      <td>A</td>\n",
       "      <td>Ground floor</td>\n",
       "      <td>Meeting/communal space</td>\n",
       "      <td>Relaxed</td>\n",
       "      <td>7/10</td>\n",
       "    </tr>\n",
       "    <tr>\n",
       "      <th>4</th>\n",
       "      <td>A</td>\n",
       "      <td>Ground floor</td>\n",
       "      <td>Cafe</td>\n",
       "      <td>Sad</td>\n",
       "      <td>Neutral</td>\n",
       "    </tr>\n",
       "    <tr>\n",
       "      <th>5</th>\n",
       "      <td>C</td>\n",
       "      <td>Ground floor</td>\n",
       "      <td>Meeting/communal space</td>\n",
       "      <td>Feels good to see people having fun (for examp...</td>\n",
       "      <td>The presence of sunlight gives a comfortable, ...</td>\n",
       "    </tr>\n",
       "    <tr>\n",
       "      <th>...</th>\n",
       "      <td>...</td>\n",
       "      <td>...</td>\n",
       "      <td>...</td>\n",
       "      <td>...</td>\n",
       "      <td>...</td>\n",
       "    </tr>\n",
       "    <tr>\n",
       "      <th>113</th>\n",
       "      <td>Unsure</td>\n",
       "      <td>1st Floor</td>\n",
       "      <td>Quiet study space</td>\n",
       "      <td>NaN</td>\n",
       "      <td>NaN</td>\n",
       "    </tr>\n",
       "    <tr>\n",
       "      <th>114</th>\n",
       "      <td>NaN</td>\n",
       "      <td>NaN</td>\n",
       "      <td>NaN</td>\n",
       "      <td>NaN</td>\n",
       "      <td>NaN</td>\n",
       "    </tr>\n",
       "    <tr>\n",
       "      <th>115</th>\n",
       "      <td>A</td>\n",
       "      <td>Ground floor</td>\n",
       "      <td>Cafe</td>\n",
       "      <td>I feel comfortably</td>\n",
       "      <td>NaN</td>\n",
       "    </tr>\n",
       "    <tr>\n",
       "      <th>116</th>\n",
       "      <td>NaN</td>\n",
       "      <td>NaN</td>\n",
       "      <td>NaN</td>\n",
       "      <td>NaN</td>\n",
       "      <td>NaN</td>\n",
       "    </tr>\n",
       "    <tr>\n",
       "      <th>117</th>\n",
       "      <td>NaN</td>\n",
       "      <td>NaN</td>\n",
       "      <td>NaN</td>\n",
       "      <td>NaN</td>\n",
       "      <td>NaN</td>\n",
       "    </tr>\n",
       "  </tbody>\n",
       "</table>\n",
       "<p>116 rows × 5 columns</p>\n",
       "</div>"
      ],
      "text/plain": [
       "    Could you tell where you are located?         floor  \\\n",
       "1                                       C  Ground floor   \n",
       "2                                       C  Ground floor   \n",
       "3                                       A  Ground floor   \n",
       "4                                       A  Ground floor   \n",
       "5                                       C  Ground floor   \n",
       "..                                    ...           ...   \n",
       "113                                Unsure     1st Floor   \n",
       "114                                   NaN           NaN   \n",
       "115                                     A  Ground floor   \n",
       "116                                   NaN           NaN   \n",
       "117                                   NaN           NaN   \n",
       "\n",
       "               ground-floor  \\\n",
       "1         Group work tables   \n",
       "2    Meeting/communal space   \n",
       "3    Meeting/communal space   \n",
       "4                      Cafe   \n",
       "5    Meeting/communal space   \n",
       "..                      ...   \n",
       "113       Quiet study space   \n",
       "114                     NaN   \n",
       "115                    Cafe   \n",
       "116                     NaN   \n",
       "117                     NaN   \n",
       "\n",
       "                                               emotion  \\\n",
       "1                                                Chill   \n",
       "2                                  Relaxed, friendly,    \n",
       "3                                              Relaxed   \n",
       "4                                                  Sad   \n",
       "5    Feels good to see people having fun (for examp...   \n",
       "..                                                 ...   \n",
       "113                                                NaN   \n",
       "114                                                NaN   \n",
       "115                                 I feel comfortably   \n",
       "116                                                NaN   \n",
       "117                                                NaN   \n",
       "\n",
       "                                               comfort  \n",
       "1                       I feel comfortable but watched  \n",
       "2                                                  NaN  \n",
       "3                                                 7/10  \n",
       "4                                              Neutral  \n",
       "5    The presence of sunlight gives a comfortable, ...  \n",
       "..                                                 ...  \n",
       "113                                                NaN  \n",
       "114                                                NaN  \n",
       "115                                                NaN  \n",
       "116                                                NaN  \n",
       "117                                                NaN  \n",
       "\n",
       "[116 rows x 5 columns]"
      ]
     },
     "execution_count": 14,
     "metadata": {},
     "output_type": "execute_result"
    }
   ],
   "source": [
    "df"
   ]
  },
  {
   "cell_type": "markdown",
   "id": "7335c7c1",
   "metadata": {},
   "source": [
    "# Remove Unwanted Rows and Columns\""
   ]
  },
  {
   "cell_type": "code",
   "execution_count": 6,
   "id": "de895edb",
   "metadata": {
    "tags": []
   },
   "outputs": [],
   "source": [
    "df = df.drop([0])\n",
    "df = df.drop(df.iloc[:,0:17], axis=1)"
   ]
  },
  {
   "cell_type": "code",
   "execution_count": 7,
   "id": "37e054e9-c555-44ce-a41f-fdbbb30cbfde",
   "metadata": {
    "tags": []
   },
   "outputs": [
    {
     "data": {
      "text/plain": [
       "(117, 6)"
      ]
     },
     "execution_count": 7,
     "metadata": {},
     "output_type": "execute_result"
    }
   ],
   "source": [
    "df.shape"
   ]
  },
  {
   "cell_type": "markdown",
   "id": "99dab67c",
   "metadata": {},
   "source": [
    "# Drop non-consenting paticipants"
   ]
  },
  {
   "cell_type": "code",
   "execution_count": 9,
   "id": "467e5a03",
   "metadata": {
    "tags": []
   },
   "outputs": [],
   "source": [
    "df = df[df.introduction != 'I do not wish to participate in the survey']"
   ]
  },
  {
   "cell_type": "code",
   "execution_count": 10,
   "id": "542e2cbf-7908-47a3-9670-05a9cbbdd53f",
   "metadata": {
    "tags": []
   },
   "outputs": [
    {
     "data": {
      "text/plain": [
       "(116, 6)"
      ]
     },
     "execution_count": 10,
     "metadata": {},
     "output_type": "execute_result"
    }
   ],
   "source": [
    "df.shape"
   ]
  },
  {
   "cell_type": "markdown",
   "id": "b3c1c59e-9489-48d3-bed3-40b6ba1d3955",
   "metadata": {
    "tags": []
   },
   "source": [
    "# Remapping Floors\n",
    "This applies only for LAB42 data."
   ]
  },
  {
   "cell_type": "code",
   "execution_count": 10,
   "id": "b321db0d-39c5-475d-b912-538ae1982a14",
   "metadata": {
    "tags": []
   },
   "outputs": [],
   "source": [
    "df = df.replace(\"5th Floor\", \"6th Floor\")\n",
    "df = df.replace(\"4th Floor\", \"3rd Floor\")"
   ]
  },
  {
   "cell_type": "code",
   "execution_count": 11,
   "id": "efdd972d-3027-4a67-a940-e8fb28c043ed",
   "metadata": {
    "tags": []
   },
   "outputs": [],
   "source": [
    "df['3-floor'] = df[df['floor'] == '3rd Floor'].loc[:, ['3-floor']].replace(np.nan, 'Unsure')"
   ]
  },
  {
   "cell_type": "markdown",
   "id": "4ba40956",
   "metadata": {
    "tags": []
   },
   "source": [
    "# Drop consent row and save df"
   ]
  },
  {
   "cell_type": "code",
   "execution_count": 12,
   "id": "559e8215",
   "metadata": {
    "tags": []
   },
   "outputs": [],
   "source": [
    "df = df.drop('introduction', axis=1)"
   ]
  },
  {
   "cell_type": "code",
   "execution_count": 13,
   "id": "f497f813",
   "metadata": {
    "tags": []
   },
   "outputs": [],
   "source": [
    "df.to_csv('data/904_cleaned_data.csv')"
   ]
  }
 ],
 "metadata": {
  "kernelspec": {
   "display_name": "venv",
   "language": "python",
   "name": "venv"
  },
  "language_info": {
   "codemirror_mode": {
    "name": "ipython",
    "version": 3
   },
   "file_extension": ".py",
   "mimetype": "text/x-python",
   "name": "python",
   "nbconvert_exporter": "python",
   "pygments_lexer": "ipython3",
   "version": "3.10.6"
  }
 },
 "nbformat": 4,
 "nbformat_minor": 5
}
