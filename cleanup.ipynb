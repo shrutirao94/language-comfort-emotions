{
 "cells": [
  {
   "cell_type": "code",
   "execution_count": 1,
   "id": "fe8481b3",
   "metadata": {
    "tags": []
   },
   "outputs": [],
   "source": [
    "import numpy as np\n",
    "import matplotlib.pyplot as plt \n",
    "import pandas as pd"
   ]
  },
  {
   "cell_type": "code",
   "execution_count": 2,
   "id": "5339bff1",
   "metadata": {
    "tags": []
   },
   "outputs": [],
   "source": [
    "df = pd.read_csv('data/data.csv', header=1)"
   ]
  },
  {
   "cell_type": "code",
   "execution_count": 3,
   "id": "de0eb028",
   "metadata": {
    "scrolled": true,
    "tags": []
   },
   "outputs": [
    {
     "data": {
      "text/plain": [
       "Index(['Start Date', 'End Date', 'Response Type', 'IP Address', 'Progress',\n",
       "       'Duration (in seconds)', 'Finished', 'Recorded Date', 'Response ID',\n",
       "       'Recipient Last Name', 'Recipient First Name', 'Recipient Email',\n",
       "       'External Data Reference', 'Location Latitude', 'Location Longitude',\n",
       "       'Distribution Channel', 'User Language', 'introduction', 'floor',\n",
       "       'ground-floor', '1-floor', '2-floor', '3-floor', 'emotion', 'comfort',\n",
       "       'occupation', 'usage', 'recruitment'],\n",
       "      dtype='object')"
      ]
     },
     "execution_count": 3,
     "metadata": {},
     "output_type": "execute_result"
    }
   ],
   "source": [
    "df.columns"
   ]
  },
  {
   "cell_type": "code",
   "execution_count": 4,
   "id": "9ccd312d-13f0-4171-ad08-1b62a1369c58",
   "metadata": {
    "tags": []
   },
   "outputs": [
    {
     "data": {
      "text/plain": [
       "(155, 28)"
      ]
     },
     "execution_count": 4,
     "metadata": {},
     "output_type": "execute_result"
    }
   ],
   "source": [
    "df.shape"
   ]
  },
  {
   "cell_type": "markdown",
   "id": "7335c7c1",
   "metadata": {},
   "source": [
    "# Remove Unwanted Rows and Columns\""
   ]
  },
  {
   "cell_type": "code",
   "execution_count": 5,
   "id": "de895edb",
   "metadata": {
    "tags": []
   },
   "outputs": [],
   "source": [
    "df = df.drop([0])\n",
    "df = df.drop(df.iloc[:,0:17], axis=1)"
   ]
  },
  {
   "cell_type": "code",
   "execution_count": 6,
   "id": "37e054e9-c555-44ce-a41f-fdbbb30cbfde",
   "metadata": {
    "tags": []
   },
   "outputs": [
    {
     "data": {
      "text/plain": [
       "(154, 11)"
      ]
     },
     "execution_count": 6,
     "metadata": {},
     "output_type": "execute_result"
    }
   ],
   "source": [
    "df.shape"
   ]
  },
  {
   "cell_type": "code",
   "execution_count": 7,
   "id": "16d07532",
   "metadata": {
    "tags": []
   },
   "outputs": [
    {
     "data": {
      "text/html": [
       "<div>\n",
       "<style scoped>\n",
       "    .dataframe tbody tr th:only-of-type {\n",
       "        vertical-align: middle;\n",
       "    }\n",
       "\n",
       "    .dataframe tbody tr th {\n",
       "        vertical-align: top;\n",
       "    }\n",
       "\n",
       "    .dataframe thead th {\n",
       "        text-align: right;\n",
       "    }\n",
       "</style>\n",
       "<table border=\"1\" class=\"dataframe\">\n",
       "  <thead>\n",
       "    <tr style=\"text-align: right;\">\n",
       "      <th></th>\n",
       "      <th>introduction</th>\n",
       "      <th>floor</th>\n",
       "      <th>ground-floor</th>\n",
       "      <th>1-floor</th>\n",
       "      <th>2-floor</th>\n",
       "      <th>3-floor</th>\n",
       "      <th>emotion</th>\n",
       "      <th>comfort</th>\n",
       "      <th>occupation</th>\n",
       "      <th>usage</th>\n",
       "      <th>recruitment</th>\n",
       "    </tr>\n",
       "  </thead>\n",
       "  <tbody>\n",
       "    <tr>\n",
       "      <th>1</th>\n",
       "      <td>I understand, and I agree to participate in th...</td>\n",
       "      <td>NaN</td>\n",
       "      <td>NaN</td>\n",
       "      <td>NaN</td>\n",
       "      <td>NaN</td>\n",
       "      <td>NaN</td>\n",
       "      <td>I always feel a bit zen when I am here. It’s q...</td>\n",
       "      <td>The light in the offices is perfect, as well a...</td>\n",
       "      <td>NaN</td>\n",
       "      <td>Yes</td>\n",
       "      <td>I will be only be participating in the survey</td>\n",
       "    </tr>\n",
       "    <tr>\n",
       "      <th>2</th>\n",
       "      <td>I understand, and I agree to participate in th...</td>\n",
       "      <td>NaN</td>\n",
       "      <td>NaN</td>\n",
       "      <td>NaN</td>\n",
       "      <td>NaN</td>\n",
       "      <td>NaN</td>\n",
       "      <td>Cold, a bit down</td>\n",
       "      <td>Temperature (it’s too cold), lack of light (bu...</td>\n",
       "      <td>NaN</td>\n",
       "      <td>Yes</td>\n",
       "      <td>I will be only be participating in the survey</td>\n",
       "    </tr>\n",
       "    <tr>\n",
       "      <th>3</th>\n",
       "      <td>I understand, and I agree to participate in th...</td>\n",
       "      <td>NaN</td>\n",
       "      <td>NaN</td>\n",
       "      <td>NaN</td>\n",
       "      <td>NaN</td>\n",
       "      <td>NaN</td>\n",
       "      <td>Calm</td>\n",
       "      <td>Comfortable temperature and pleasant lighting....</td>\n",
       "      <td>NaN</td>\n",
       "      <td>Yes</td>\n",
       "      <td>I will be only be participating in the survey</td>\n",
       "    </tr>\n",
       "    <tr>\n",
       "      <th>4</th>\n",
       "      <td>I understand, and I agree to participate in th...</td>\n",
       "      <td>6th Floor</td>\n",
       "      <td>NaN</td>\n",
       "      <td>NaN</td>\n",
       "      <td>NaN</td>\n",
       "      <td>NaN</td>\n",
       "      <td>Hungry, a bit cold</td>\n",
       "      <td>Cold, quiet, well lit</td>\n",
       "      <td>NaN</td>\n",
       "      <td>Yes</td>\n",
       "      <td>I would like to participate in a building walk</td>\n",
       "    </tr>\n",
       "    <tr>\n",
       "      <th>5</th>\n",
       "      <td>I understand, and I agree to participate in th...</td>\n",
       "      <td>Ground floor</td>\n",
       "      <td>Library learning room</td>\n",
       "      <td>NaN</td>\n",
       "      <td>NaN</td>\n",
       "      <td>NaN</td>\n",
       "      <td>Stressed about my exams but I am happy in this...</td>\n",
       "      <td>Usually it is really nice and comfortably warm...</td>\n",
       "      <td>Yes</td>\n",
       "      <td>Yes</td>\n",
       "      <td>I would like to participate in a building walk</td>\n",
       "    </tr>\n",
       "  </tbody>\n",
       "</table>\n",
       "</div>"
      ],
      "text/plain": [
       "                                        introduction         floor  \\\n",
       "1  I understand, and I agree to participate in th...           NaN   \n",
       "2  I understand, and I agree to participate in th...           NaN   \n",
       "3  I understand, and I agree to participate in th...           NaN   \n",
       "4  I understand, and I agree to participate in th...     6th Floor   \n",
       "5  I understand, and I agree to participate in th...  Ground floor   \n",
       "\n",
       "            ground-floor 1-floor 2-floor 3-floor  \\\n",
       "1                    NaN     NaN     NaN     NaN   \n",
       "2                    NaN     NaN     NaN     NaN   \n",
       "3                    NaN     NaN     NaN     NaN   \n",
       "4                    NaN     NaN     NaN     NaN   \n",
       "5  Library learning room     NaN     NaN     NaN   \n",
       "\n",
       "                                             emotion  \\\n",
       "1  I always feel a bit zen when I am here. It’s q...   \n",
       "2                                   Cold, a bit down   \n",
       "3                                               Calm   \n",
       "4                                 Hungry, a bit cold   \n",
       "5  Stressed about my exams but I am happy in this...   \n",
       "\n",
       "                                             comfort occupation usage  \\\n",
       "1  The light in the offices is perfect, as well a...        NaN   Yes   \n",
       "2  Temperature (it’s too cold), lack of light (bu...        NaN   Yes   \n",
       "3  Comfortable temperature and pleasant lighting....        NaN   Yes   \n",
       "4                             Cold, quiet, well lit         NaN   Yes   \n",
       "5  Usually it is really nice and comfortably warm...        Yes   Yes   \n",
       "\n",
       "                                      recruitment  \n",
       "1   I will be only be participating in the survey  \n",
       "2   I will be only be participating in the survey  \n",
       "3   I will be only be participating in the survey  \n",
       "4  I would like to participate in a building walk  \n",
       "5  I would like to participate in a building walk  "
      ]
     },
     "execution_count": 7,
     "metadata": {},
     "output_type": "execute_result"
    }
   ],
   "source": [
    "df.head()"
   ]
  },
  {
   "cell_type": "markdown",
   "id": "99dab67c",
   "metadata": {},
   "source": [
    "# Drop non-consenting paticipants"
   ]
  },
  {
   "cell_type": "code",
   "execution_count": 8,
   "id": "467e5a03",
   "metadata": {
    "tags": []
   },
   "outputs": [],
   "source": [
    "df = df[df.introduction != 'I do not wish to participate in the survey']"
   ]
  },
  {
   "cell_type": "code",
   "execution_count": 9,
   "id": "542e2cbf-7908-47a3-9670-05a9cbbdd53f",
   "metadata": {
    "tags": []
   },
   "outputs": [
    {
     "data": {
      "text/plain": [
       "(147, 11)"
      ]
     },
     "execution_count": 9,
     "metadata": {},
     "output_type": "execute_result"
    }
   ],
   "source": [
    "df.shape"
   ]
  },
  {
   "cell_type": "markdown",
   "id": "b3c1c59e-9489-48d3-bed3-40b6ba1d3955",
   "metadata": {
    "tags": []
   },
   "source": [
    "# Remapping Floors"
   ]
  },
  {
   "cell_type": "code",
   "execution_count": 10,
   "id": "b321db0d-39c5-475d-b912-538ae1982a14",
   "metadata": {
    "tags": []
   },
   "outputs": [],
   "source": [
    "df = df.replace(\"5th Floor\", \"6th Floor\")\n",
    "df = df.replace(\"4th Floor\", \"3rd Floor\")"
   ]
  },
  {
   "cell_type": "code",
   "execution_count": 11,
   "id": "efdd972d-3027-4a67-a940-e8fb28c043ed",
   "metadata": {
    "tags": []
   },
   "outputs": [],
   "source": [
    "df['3-floor'] = df[df['floor'] == '3rd Floor'].loc[:, ['3-floor']].replace(np.nan, 'Unsure')"
   ]
  },
  {
   "cell_type": "markdown",
   "id": "4ba40956",
   "metadata": {
    "tags": []
   },
   "source": [
    "# Drop consent row and save df"
   ]
  },
  {
   "cell_type": "code",
   "execution_count": 12,
   "id": "559e8215",
   "metadata": {
    "tags": []
   },
   "outputs": [],
   "source": [
    "df = df.drop('introduction', axis=1)"
   ]
  },
  {
   "cell_type": "code",
   "execution_count": 13,
   "id": "f497f813",
   "metadata": {
    "tags": []
   },
   "outputs": [],
   "source": [
    "df.to_csv('data/cleaned_data.csv')"
   ]
  }
 ],
 "metadata": {
  "kernelspec": {
   "display_name": "venv",
   "language": "python",
   "name": "venv"
  },
  "language_info": {
   "codemirror_mode": {
    "name": "ipython",
    "version": 3
   },
   "file_extension": ".py",
   "mimetype": "text/x-python",
   "name": "python",
   "nbconvert_exporter": "python",
   "pygments_lexer": "ipython3",
   "version": "3.10.6"
  }
 },
 "nbformat": 4,
 "nbformat_minor": 5
}
