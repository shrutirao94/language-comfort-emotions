{
 "cells": [
  {
   "cell_type": "code",
   "execution_count": 66,
   "id": "fe8481b3",
   "metadata": {},
   "outputs": [],
   "source": [
    "import numpy as np\n",
    "import matplotlib.pyplot as plt \n",
    "import pandas as pd"
   ]
  },
  {
   "cell_type": "code",
   "execution_count": 67,
   "id": "5339bff1",
   "metadata": {},
   "outputs": [],
   "source": [
    "df = pd.read_csv('data/data.csv', header=1)"
   ]
  },
  {
   "cell_type": "code",
   "execution_count": 68,
   "id": "de0eb028",
   "metadata": {
    "scrolled": true
   },
   "outputs": [
    {
     "data": {
      "text/plain": [
       "Index(['Start Date', 'End Date', 'Response Type', 'IP Address', 'Progress',\n",
       "       'Duration (in seconds)', 'Finished', 'Recorded Date', 'Response ID',\n",
       "       'Recipient Last Name', 'Recipient First Name', 'Recipient Email',\n",
       "       'External Data Reference', 'Location Latitude', 'Location Longitude',\n",
       "       'Distribution Channel', 'User Language', 'introduction', 'floor',\n",
       "       'ground-floor', '1-floor', '2-floor', '3-floor', 'emotion', 'comfort',\n",
       "       'occupation', 'usage', 'recruitment'],\n",
       "      dtype='object')"
      ]
     },
     "execution_count": 68,
     "metadata": {},
     "output_type": "execute_result"
    }
   ],
   "source": [
    "df.columns"
   ]
  },
  {
   "cell_type": "markdown",
   "id": "7335c7c1",
   "metadata": {},
   "source": [
    "# Remove Unwanted Rows and Columns\""
   ]
  },
  {
   "cell_type": "code",
   "execution_count": 69,
   "id": "de895edb",
   "metadata": {},
   "outputs": [],
   "source": [
    "df = df.drop([0])\n",
    "df = df.drop(df.iloc[:,0:17], axis=1)"
   ]
  },
  {
   "cell_type": "code",
   "execution_count": 70,
   "id": "16d07532",
   "metadata": {},
   "outputs": [
    {
     "data": {
      "text/html": [
       "<div>\n",
       "<style scoped>\n",
       "    .dataframe tbody tr th:only-of-type {\n",
       "        vertical-align: middle;\n",
       "    }\n",
       "\n",
       "    .dataframe tbody tr th {\n",
       "        vertical-align: top;\n",
       "    }\n",
       "\n",
       "    .dataframe thead th {\n",
       "        text-align: right;\n",
       "    }\n",
       "</style>\n",
       "<table border=\"1\" class=\"dataframe\">\n",
       "  <thead>\n",
       "    <tr style=\"text-align: right;\">\n",
       "      <th></th>\n",
       "      <th>introduction</th>\n",
       "      <th>floor</th>\n",
       "      <th>ground-floor</th>\n",
       "      <th>1-floor</th>\n",
       "      <th>2-floor</th>\n",
       "      <th>3-floor</th>\n",
       "      <th>emotion</th>\n",
       "      <th>comfort</th>\n",
       "      <th>occupation</th>\n",
       "      <th>usage</th>\n",
       "      <th>recruitment</th>\n",
       "    </tr>\n",
       "  </thead>\n",
       "  <tbody>\n",
       "    <tr>\n",
       "      <th>1</th>\n",
       "      <td>I understand, and I agree to participate in th...</td>\n",
       "      <td>NaN</td>\n",
       "      <td>NaN</td>\n",
       "      <td>NaN</td>\n",
       "      <td>NaN</td>\n",
       "      <td>NaN</td>\n",
       "      <td>I always feel a bit zen when I am here. It’s q...</td>\n",
       "      <td>The light in the offices is perfect, as well a...</td>\n",
       "      <td>NaN</td>\n",
       "      <td>Yes</td>\n",
       "      <td>I will be only be participating in the survey</td>\n",
       "    </tr>\n",
       "    <tr>\n",
       "      <th>2</th>\n",
       "      <td>I understand, and I agree to participate in th...</td>\n",
       "      <td>NaN</td>\n",
       "      <td>NaN</td>\n",
       "      <td>NaN</td>\n",
       "      <td>NaN</td>\n",
       "      <td>NaN</td>\n",
       "      <td>Cold, a bit down</td>\n",
       "      <td>Temperature (it’s too cold), lack of light (bu...</td>\n",
       "      <td>NaN</td>\n",
       "      <td>Yes</td>\n",
       "      <td>I will be only be participating in the survey</td>\n",
       "    </tr>\n",
       "    <tr>\n",
       "      <th>3</th>\n",
       "      <td>I understand, and I agree to participate in th...</td>\n",
       "      <td>NaN</td>\n",
       "      <td>NaN</td>\n",
       "      <td>NaN</td>\n",
       "      <td>NaN</td>\n",
       "      <td>NaN</td>\n",
       "      <td>Calm</td>\n",
       "      <td>Comfortable temperature and pleasant lighting....</td>\n",
       "      <td>NaN</td>\n",
       "      <td>Yes</td>\n",
       "      <td>I will be only be participating in the survey</td>\n",
       "    </tr>\n",
       "    <tr>\n",
       "      <th>4</th>\n",
       "      <td>I understand, and I agree to participate in th...</td>\n",
       "      <td>6th Floor</td>\n",
       "      <td>NaN</td>\n",
       "      <td>NaN</td>\n",
       "      <td>NaN</td>\n",
       "      <td>NaN</td>\n",
       "      <td>Hungry, a bit cold</td>\n",
       "      <td>Cold, quiet, well lit</td>\n",
       "      <td>NaN</td>\n",
       "      <td>Yes</td>\n",
       "      <td>I would like to participate in a building walk</td>\n",
       "    </tr>\n",
       "    <tr>\n",
       "      <th>5</th>\n",
       "      <td>I understand, and I agree to participate in th...</td>\n",
       "      <td>Ground floor</td>\n",
       "      <td>Library learning room</td>\n",
       "      <td>NaN</td>\n",
       "      <td>NaN</td>\n",
       "      <td>NaN</td>\n",
       "      <td>Stressed about my exams but I am happy in this...</td>\n",
       "      <td>Usually it is really nice and comfortably warm...</td>\n",
       "      <td>Yes</td>\n",
       "      <td>Yes</td>\n",
       "      <td>I would like to participate in a building walk</td>\n",
       "    </tr>\n",
       "  </tbody>\n",
       "</table>\n",
       "</div>"
      ],
      "text/plain": [
       "                                        introduction         floor  \\\n",
       "1  I understand, and I agree to participate in th...           NaN   \n",
       "2  I understand, and I agree to participate in th...           NaN   \n",
       "3  I understand, and I agree to participate in th...           NaN   \n",
       "4  I understand, and I agree to participate in th...     6th Floor   \n",
       "5  I understand, and I agree to participate in th...  Ground floor   \n",
       "\n",
       "            ground-floor 1-floor 2-floor 3-floor  \\\n",
       "1                    NaN     NaN     NaN     NaN   \n",
       "2                    NaN     NaN     NaN     NaN   \n",
       "3                    NaN     NaN     NaN     NaN   \n",
       "4                    NaN     NaN     NaN     NaN   \n",
       "5  Library learning room     NaN     NaN     NaN   \n",
       "\n",
       "                                             emotion  \\\n",
       "1  I always feel a bit zen when I am here. It’s q...   \n",
       "2                                   Cold, a bit down   \n",
       "3                                               Calm   \n",
       "4                                 Hungry, a bit cold   \n",
       "5  Stressed about my exams but I am happy in this...   \n",
       "\n",
       "                                             comfort occupation usage  \\\n",
       "1  The light in the offices is perfect, as well a...        NaN   Yes   \n",
       "2  Temperature (it’s too cold), lack of light (bu...        NaN   Yes   \n",
       "3  Comfortable temperature and pleasant lighting....        NaN   Yes   \n",
       "4                             Cold, quiet, well lit         NaN   Yes   \n",
       "5  Usually it is really nice and comfortably warm...        Yes   Yes   \n",
       "\n",
       "                                      recruitment  \n",
       "1   I will be only be participating in the survey  \n",
       "2   I will be only be participating in the survey  \n",
       "3   I will be only be participating in the survey  \n",
       "4  I would like to participate in a building walk  \n",
       "5  I would like to participate in a building walk  "
      ]
     },
     "execution_count": 70,
     "metadata": {},
     "output_type": "execute_result"
    }
   ],
   "source": [
    "df.head()"
   ]
  },
  {
   "cell_type": "markdown",
   "id": "99dab67c",
   "metadata": {},
   "source": [
    "# Drop non-consenting paticipants"
   ]
  },
  {
   "cell_type": "code",
   "execution_count": 73,
   "id": "467e5a03",
   "metadata": {},
   "outputs": [],
   "source": [
    "df = df[df.introduction != 'I do not wish to participate in the survey']"
   ]
  },
  {
   "cell_type": "markdown",
   "id": "4ba40956",
   "metadata": {},
   "source": [
    "# Drop consent row and save df"
   ]
  },
  {
   "cell_type": "code",
   "execution_count": 81,
   "id": "559e8215",
   "metadata": {},
   "outputs": [],
   "source": [
    "df = df.drop('introduction', axis=1)"
   ]
  },
  {
   "cell_type": "code",
   "execution_count": 83,
   "id": "f497f813",
   "metadata": {},
   "outputs": [],
   "source": [
    "df.to_csv('data/cleaned_data.csv')"
   ]
  },
  {
   "cell_type": "code",
   "execution_count": null,
   "id": "ef80eb32",
   "metadata": {},
   "outputs": [],
   "source": []
  }
 ],
 "metadata": {
  "kernelspec": {
   "display_name": "venv",
   "language": "python",
   "name": "venv"
  },
  "language_info": {
   "codemirror_mode": {
    "name": "ipython",
    "version": 3
   },
   "file_extension": ".py",
   "mimetype": "text/x-python",
   "name": "python",
   "nbconvert_exporter": "python",
   "pygments_lexer": "ipython3",
   "version": "3.10.6"
  }
 },
 "nbformat": 4,
 "nbformat_minor": 5
}
