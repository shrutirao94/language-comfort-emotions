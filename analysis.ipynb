{
 "cells": [
  {
   "cell_type": "code",
   "execution_count": 1,
   "id": "5e270e4f",
   "metadata": {
    "tags": []
   },
   "outputs": [
    {
     "name": "stderr",
     "output_type": "stream",
     "text": [
      "[nltk_data] Downloading package stopwords to\n",
      "[nltk_data]     /Users/shrutirao/nltk_data...\n",
      "[nltk_data]   Package stopwords is already up-to-date!\n",
      "[nltk_data] Downloading package wordnet to\n",
      "[nltk_data]     /Users/shrutirao/nltk_data...\n",
      "[nltk_data]   Package wordnet is already up-to-date!\n",
      "[nltk_data] Downloading package vader_lexicon to\n",
      "[nltk_data]     /Users/shrutirao/nltk_data...\n",
      "[nltk_data]   Package vader_lexicon is already up-to-date!\n"
     ]
    }
   ],
   "source": [
    "import string\n",
    "\n",
    "import numpy as np\n",
    "import matplotlib.pyplot as plt \n",
    "import pandas as pd\n",
    "import seaborn as sns\n",
    "\n",
    "import nltk\n",
    "nltk.download(\"stopwords\")\n",
    "nltk.download('wordnet')\n",
    "nltk.download('vader_lexicon')\n",
    "\n",
    "from nltk.stem import PorterStemmer\n",
    "from nltk.tokenize import sent_tokenize, word_tokenize\n",
    "from nltk.stem import WordNetLemmatizer\n",
    "from nltk.corpus import stopwords\n",
    "from nltk import FreqDist\n",
    "from nltk.sentiment import SentimentIntensityAnalyzer"
   ]
  },
  {
   "cell_type": "code",
   "execution_count": 10,
   "id": "77b647ee",
   "metadata": {
    "tags": []
   },
   "outputs": [],
   "source": [
    "df = pd.read_csv('data/lab42_cleaned_data.csv', index_col=0)\n",
    "df_j = pd.read_csv('data/lab42_cleaned_jan_data.csv', index_col=0)\n"
   ]
  },
  {
   "cell_type": "code",
   "execution_count": 11,
   "id": "98bcd8b1-356f-4bce-a709-c3b5dd0d7499",
   "metadata": {},
   "outputs": [
    {
     "data": {
      "text/html": [
       "<div>\n",
       "<style scoped>\n",
       "    .dataframe tbody tr th:only-of-type {\n",
       "        vertical-align: middle;\n",
       "    }\n",
       "\n",
       "    .dataframe tbody tr th {\n",
       "        vertical-align: top;\n",
       "    }\n",
       "\n",
       "    .dataframe thead th {\n",
       "        text-align: right;\n",
       "    }\n",
       "</style>\n",
       "<table border=\"1\" class=\"dataframe\">\n",
       "  <thead>\n",
       "    <tr style=\"text-align: right;\">\n",
       "      <th></th>\n",
       "      <th>floor</th>\n",
       "      <th>ground-floor</th>\n",
       "      <th>1-floor</th>\n",
       "      <th>2-floor</th>\n",
       "      <th>3-floor</th>\n",
       "      <th>emotion</th>\n",
       "      <th>comfort</th>\n",
       "      <th>occupation</th>\n",
       "      <th>usage</th>\n",
       "      <th>recruitment</th>\n",
       "    </tr>\n",
       "  </thead>\n",
       "  <tbody>\n",
       "    <tr>\n",
       "      <th>1</th>\n",
       "      <td>NaN</td>\n",
       "      <td>NaN</td>\n",
       "      <td>NaN</td>\n",
       "      <td>NaN</td>\n",
       "      <td>NaN</td>\n",
       "      <td>I always feel a bit zen when I am here. It’s q...</td>\n",
       "      <td>The light in the offices is perfect, as well a...</td>\n",
       "      <td>NaN</td>\n",
       "      <td>Yes</td>\n",
       "      <td>I will be only be participating in the survey</td>\n",
       "    </tr>\n",
       "    <tr>\n",
       "      <th>2</th>\n",
       "      <td>NaN</td>\n",
       "      <td>NaN</td>\n",
       "      <td>NaN</td>\n",
       "      <td>NaN</td>\n",
       "      <td>NaN</td>\n",
       "      <td>Cold, a bit down</td>\n",
       "      <td>Temperature (it’s too cold), lack of light (bu...</td>\n",
       "      <td>NaN</td>\n",
       "      <td>Yes</td>\n",
       "      <td>I will be only be participating in the survey</td>\n",
       "    </tr>\n",
       "    <tr>\n",
       "      <th>3</th>\n",
       "      <td>NaN</td>\n",
       "      <td>NaN</td>\n",
       "      <td>NaN</td>\n",
       "      <td>NaN</td>\n",
       "      <td>NaN</td>\n",
       "      <td>Calm</td>\n",
       "      <td>Comfortable temperature and pleasant lighting....</td>\n",
       "      <td>NaN</td>\n",
       "      <td>Yes</td>\n",
       "      <td>I will be only be participating in the survey</td>\n",
       "    </tr>\n",
       "    <tr>\n",
       "      <th>4</th>\n",
       "      <td>6th Floor</td>\n",
       "      <td>NaN</td>\n",
       "      <td>NaN</td>\n",
       "      <td>NaN</td>\n",
       "      <td>NaN</td>\n",
       "      <td>Hungry, a bit cold</td>\n",
       "      <td>Cold, quiet, well lit</td>\n",
       "      <td>NaN</td>\n",
       "      <td>Yes</td>\n",
       "      <td>I would like to participate in a building walk</td>\n",
       "    </tr>\n",
       "    <tr>\n",
       "      <th>5</th>\n",
       "      <td>Ground floor</td>\n",
       "      <td>Library learning room</td>\n",
       "      <td>NaN</td>\n",
       "      <td>NaN</td>\n",
       "      <td>NaN</td>\n",
       "      <td>Stressed about my exams but I am happy in this...</td>\n",
       "      <td>Usually it is really nice and comfortably warm...</td>\n",
       "      <td>Yes</td>\n",
       "      <td>Yes</td>\n",
       "      <td>I would like to participate in a building walk</td>\n",
       "    </tr>\n",
       "  </tbody>\n",
       "</table>\n",
       "</div>"
      ],
      "text/plain": [
       "          floor           ground-floor 1-floor 2-floor 3-floor  \\\n",
       "1           NaN                    NaN     NaN     NaN     NaN   \n",
       "2           NaN                    NaN     NaN     NaN     NaN   \n",
       "3           NaN                    NaN     NaN     NaN     NaN   \n",
       "4     6th Floor                    NaN     NaN     NaN     NaN   \n",
       "5  Ground floor  Library learning room     NaN     NaN     NaN   \n",
       "\n",
       "                                             emotion  \\\n",
       "1  I always feel a bit zen when I am here. It’s q...   \n",
       "2                                   Cold, a bit down   \n",
       "3                                               Calm   \n",
       "4                                 Hungry, a bit cold   \n",
       "5  Stressed about my exams but I am happy in this...   \n",
       "\n",
       "                                             comfort occupation usage  \\\n",
       "1  The light in the offices is perfect, as well a...        NaN   Yes   \n",
       "2  Temperature (it’s too cold), lack of light (bu...        NaN   Yes   \n",
       "3  Comfortable temperature and pleasant lighting....        NaN   Yes   \n",
       "4                             Cold, quiet, well lit         NaN   Yes   \n",
       "5  Usually it is really nice and comfortably warm...        Yes   Yes   \n",
       "\n",
       "                                      recruitment  \n",
       "1   I will be only be participating in the survey  \n",
       "2   I will be only be participating in the survey  \n",
       "3   I will be only be participating in the survey  \n",
       "4  I would like to participate in a building walk  \n",
       "5  I would like to participate in a building walk  "
      ]
     },
     "execution_count": 11,
     "metadata": {},
     "output_type": "execute_result"
    }
   ],
   "source": [
    "df.head()"
   ]
  },
  {
   "cell_type": "code",
   "execution_count": 16,
   "id": "6cd4e161-c8ca-495f-a674-e35b4ff690a2",
   "metadata": {},
   "outputs": [
    {
     "data": {
      "text/plain": [
       "Index(['floor', 'ground-floor', '1-floor', '2-floor', '3-floor', 'emotion',\n",
       "       'comfort', 'space usage', 'occupation', 'usage'],\n",
       "      dtype='object')"
      ]
     },
     "execution_count": 16,
     "metadata": {},
     "output_type": "execute_result"
    }
   ],
   "source": [
    "df_j.columns"
   ]
  },
  {
   "cell_type": "markdown",
   "id": "bc39456d-9647-42a9-9287-09bb817f2b3a",
   "metadata": {},
   "source": [
    "# Combine Jans Dataset with Shrutis"
   ]
  },
  {
   "cell_type": "code",
   "execution_count": 23,
   "id": "64442df8-25c2-4196-9cee-6dc831d0f9df",
   "metadata": {},
   "outputs": [],
   "source": [
    "df = pd.concat([df.drop(columns=['occupation', 'usage', 'recruitment']),\n",
    "                df_j.drop(columns=['space usage', 'occupation', 'usage']) ])"
   ]
  },
  {
   "cell_type": "markdown",
   "id": "58014772-f9d5-4c97-9164-4c885966d8c2",
   "metadata": {},
   "source": [
    "# Grouping by Shared vs Individual Space\n",
    "\n",
    "'Unsure': Unsure\n",
    "\n",
    "## Group\n",
    "'Round tables by the three plants (across wooden staircase)'\n",
    "'Next to the lockers'\n",
    "'Study corner next to the plant wall'\n",
    "'Yellow/white chairs & tables (besides the wooden staircase)'\n",
    "'Tables on the landing (with wooden floor) accessible by the black staircase'\n",
    "'Green group study tables (between a row of plants and railing)'\n",
    "'Group tables by the stairs'\n",
    "'Open lounge area'\n",
    "'Near the printer'\n",
    "'Round tables by the coffee machine'\n",
    "\n",
    "## Individual\n",
    "'Library learning room'\n",
    "'Green chairs by the entrance'\n",
    "'Partly covered green chairs (along glass wall)'"
   ]
  },
  {
   "cell_type": "code",
   "execution_count": 24,
   "id": "5719b065-79bb-4ad7-9eec-6d225c355502",
   "metadata": {
    "tags": []
   },
   "outputs": [],
   "source": [
    "group = ['Round tables by the three plants (across wooden staircase)',\n",
    "                        'Next to the lockers',\n",
    "                        'Study corner next to the plant wall',\n",
    "                        'Yellow/white chairs & tables (besides the wooden staircase)',\n",
    "                        'Tables on the landing (with wooden floor) accessible by the black staircase',\n",
    "                        'Green group study tables (between a row of plants and railing)',\n",
    "                        'Group tables by the stairs',\n",
    "                        'Open lounge area',\n",
    "                        'Near the printer',\n",
    "                        'Round tables by the coffee machine']\n",
    "\n",
    "individual =  ['Library learning room',\n",
    "                             'Green chairs by the entrance',\n",
    "                             'Partly covered green chairs (along glass wall)']\n",
    "\n",
    "unsure = [\"Unsure\"]\n",
    "\n",
    "def assign_types_to_spaces(space):\n",
    "    if space in group:\n",
    "        return \"group\"\n",
    "    if space in individual:\n",
    "        return \"individual\"\n",
    "    if space in unsure:\n",
    "        return \"unsure\"\n",
    "    \n",
    "def merge_spaces(df):\n",
    "    df[\"space-type\"] = df[\"space-ground-floor\"] + df[\"space-1-floor\"] + df[\"space-2-floor\"] + df[\"space-3-floor\"]\n",
    "    df = df.drop(columns =[\"space-ground-floor\", \"space-1-floor\", \"space-2-floor\", \"space-3-floor\"])\n",
    "    \n",
    "    return df\n",
    "\n",
    "\n",
    "def create_group_solo_space_labels(df):\n",
    "    spaces = [\"ground-floor\", \"1-floor\", \"2-floor\", \"3-floor\"]\n",
    "    \n",
    "    for space in spaces:\n",
    "        df[\"space-\" + space] = df[space].apply(lambda space: assign_types_to_spaces(space)).fillna(\"\")\n",
    "    \n",
    "    return df\n",
    "\n",
    "\n",
    "df = create_group_solo_space_labels(df)\n",
    "df = merge_spaces(df)"
   ]
  },
  {
   "cell_type": "code",
   "execution_count": 52,
   "id": "6559d9c5-5899-4c20-87d2-d242273efce1",
   "metadata": {
    "tags": []
   },
   "outputs": [
    {
     "data": {
      "text/plain": [
       "1st Floor       134\n",
       "Ground floor     66\n",
       "2nd Floor        16\n",
       "3rd Floor        14\n",
       "6th Floor         7\n",
       "Name: floor, dtype: int64"
      ]
     },
     "execution_count": 52,
     "metadata": {},
     "output_type": "execute_result"
    }
   ],
   "source": [
    "df.floor.value_counts()"
   ]
  },
  {
   "cell_type": "markdown",
   "id": "5d52b848-92bf-4779-87f6-394c4d38c6b0",
   "metadata": {},
   "source": [
    "# Overview of Respondents"
   ]
  },
  {
   "cell_type": "code",
   "execution_count": 5,
   "id": "dd95ce21-383b-48d0-a60b-a5e529959c48",
   "metadata": {
    "tags": []
   },
   "outputs": [
    {
     "data": {
      "text/plain": [
       "Yes    114\n",
       "No      11\n",
       "Name: occupation, dtype: int64"
      ]
     },
     "execution_count": 5,
     "metadata": {},
     "output_type": "execute_result"
    }
   ],
   "source": [
    "df.occupation.value_counts()"
   ]
  },
  {
   "cell_type": "code",
   "execution_count": 6,
   "id": "793abf72-e96f-45d3-9dd2-db133d70ccaa",
   "metadata": {
    "tags": []
   },
   "outputs": [
    {
     "data": {
      "text/plain": [
       "I will be only be participating in the survey     99\n",
       "I would like to participate in a building walk    26\n",
       "Name: recruitment, dtype: int64"
      ]
     },
     "execution_count": 6,
     "metadata": {},
     "output_type": "execute_result"
    }
   ],
   "source": [
    "df.recruitment.value_counts()"
   ]
  },
  {
   "cell_type": "markdown",
   "id": "45298478",
   "metadata": {
    "tags": []
   },
   "source": [
    "# Students Across the Floors"
   ]
  },
  {
   "cell_type": "code",
   "execution_count": 81,
   "id": "9dc9c63b",
   "metadata": {
    "scrolled": true,
    "tags": []
   },
   "outputs": [
    {
     "data": {
      "image/png": "[encoded data removed]",
      "text/plain": [
       "<Figure size 800x700 with 1 Axes>"
      ]
     },
     "metadata": {},
     "output_type": "display_data"
    }
   ],
   "source": [
    "fig, ax = plt.subplots()\n",
    "data = df.floor.value_counts()\n",
    "data = pd.DataFrame(data).reset_index().rename(columns={\"index\": \"Floor\", \"floor\": \"Count of Responses\"})\n",
    "width = 0.6\n",
    "\n",
    "p=ax.bar(data.Floor, data[\"Count of Responses\"], width, color = \"#3182bd\")\n",
    "ax.bar_label(p, label_type='edge')\n",
    "plt.ylabel(\"Count of responses\")\n",
    "plt.xlabel(\"Floors at LAB 42\")\n",
    "fig.set_size_inches(8, 7)\n",
    "plt.savefig('plots/floors-responses.jpg', dpi=300, bbox_inches=\"tight\")"
   ]
  },
  {
   "cell_type": "markdown",
   "id": "73ad7c53-9d0d-4f76-a76d-1c00994d0801",
   "metadata": {},
   "source": [
    "### Grouped by Floor and Space Type"
   ]
  },
  {
   "cell_type": "code",
   "execution_count": 75,
   "id": "b8980514-6930-40e9-ab53-f7147ecf89e9",
   "metadata": {},
   "outputs": [
    {
     "name": "stderr",
     "output_type": "stream",
     "text": [
      "/var/folders/37/5q1f19yn0f19tsfhqd_3fsnh0000gn/T/ipykernel_28926/2757327659.py:1: FutureWarning: Indexing with multiple keys (implicitly converted to a tuple of keys) will be deprecated, use a list instead.\n",
      "  test = df.groupby(['floor', 'space-type'])['ground-floor', '1-floor', '2-floor', '3-floor'].count()\n"
     ]
    }
   ],
   "source": [
    "test = df.groupby(['floor', 'space-type'])['ground-floor', '1-floor', '2-floor', '3-floor'].count()\n",
    "test['counts'] = test['ground-floor'] + test['1-floor'] + test['2-floor'] + test['3-floor']\n",
    "test = test['counts'].reset_index().drop([0,4,10])"
   ]
  },
  {
   "cell_type": "code",
   "execution_count": 86,
   "id": "e0487915-fc72-44b0-8a9b-9e70378669a2",
   "metadata": {},
   "outputs": [
    {
     "data": {
      "text/plain": [
       "<Figure size 800x700 with 0 Axes>"
      ]
     },
     "metadata": {},
     "output_type": "display_data"
    },
    {
     "data": {
      "image/png": "[encoded data removed]",
      "text/plain": [
       "<Figure size 500x500 with 1 Axes>"
      ]
     },
     "metadata": {},
     "output_type": "display_data"
    }
   ],
   "source": [
    "plt.figure(figsize=(8, 7))\n",
    "custom_palette = {'group': '#3182bd',\n",
    "                  'individual': '#de2d26',\n",
    "                  'unsure': '#636363'}\n",
    "\n",
    "plot = sns.catplot(x='floor',\n",
    "                   y='counts',\n",
    "                   hue='space-type',\n",
    "                   kind='bar',\n",
    "                   data=test,\n",
    "                   legend=False,\n",
    "                   palette=custom_palette\n",
    "                  )\n",
    "\n",
    "plt.xlabel('Floor')\n",
    "plt.ylabel('Count')\n",
    "\n",
    "ax = plot.ax\n",
    "handles, labels = ax.get_legend_handles_labels()\n",
    "ax.legend(handles[0:3], labels[0:3], title='Space Type')\n",
    "plt.tight_layout()\n",
    "plt.savefig('plots/floors-space-type.jpg', dpi=300, bbox_inches=\"tight\")"
   ]
  },
  {
   "cell_type": "code",
   "execution_count": 37,
   "id": "f6946e62-a1ab-46c3-90d3-93335653bde9",
   "metadata": {
    "tags": []
   },
   "outputs": [
    {
     "data": {
      "text/html": [
       "<div>\n",
       "<style scoped>\n",
       "    .dataframe tbody tr th:only-of-type {\n",
       "        vertical-align: middle;\n",
       "    }\n",
       "\n",
       "    .dataframe tbody tr th {\n",
       "        vertical-align: top;\n",
       "    }\n",
       "\n",
       "    .dataframe thead th {\n",
       "        text-align: right;\n",
       "    }\n",
       "</style>\n",
       "<table border=\"1\" class=\"dataframe\">\n",
       "  <thead>\n",
       "    <tr style=\"text-align: right;\">\n",
       "      <th></th>\n",
       "      <th>floor</th>\n",
       "      <th>ground-floor</th>\n",
       "      <th>1-floor</th>\n",
       "      <th>2-floor</th>\n",
       "      <th>3-floor</th>\n",
       "      <th>emotion</th>\n",
       "      <th>comfort</th>\n",
       "      <th>space-type</th>\n",
       "    </tr>\n",
       "  </thead>\n",
       "  <tbody>\n",
       "    <tr>\n",
       "      <th>4</th>\n",
       "      <td>6th Floor</td>\n",
       "      <td>NaN</td>\n",
       "      <td>NaN</td>\n",
       "      <td>NaN</td>\n",
       "      <td>NaN</td>\n",
       "      <td>Hungry, a bit cold</td>\n",
       "      <td>Cold, quiet, well lit</td>\n",
       "      <td></td>\n",
       "    </tr>\n",
       "    <tr>\n",
       "      <th>18</th>\n",
       "      <td>6th Floor</td>\n",
       "      <td>NaN</td>\n",
       "      <td>NaN</td>\n",
       "      <td>NaN</td>\n",
       "      <td>NaN</td>\n",
       "      <td>NaN</td>\n",
       "      <td>NaN</td>\n",
       "      <td></td>\n",
       "    </tr>\n",
       "    <tr>\n",
       "      <th>37</th>\n",
       "      <td>6th Floor</td>\n",
       "      <td>NaN</td>\n",
       "      <td>NaN</td>\n",
       "      <td>NaN</td>\n",
       "      <td>NaN</td>\n",
       "      <td>Tired, busy</td>\n",
       "      <td>Noisy (poor sound insulation between rooms)</td>\n",
       "      <td></td>\n",
       "    </tr>\n",
       "    <tr>\n",
       "      <th>38</th>\n",
       "      <td>6th Floor</td>\n",
       "      <td>NaN</td>\n",
       "      <td>NaN</td>\n",
       "      <td>NaN</td>\n",
       "      <td>NaN</td>\n",
       "      <td>Peaceful</td>\n",
       "      <td>Default brightness is a little bright</td>\n",
       "      <td></td>\n",
       "    </tr>\n",
       "    <tr>\n",
       "      <th>41</th>\n",
       "      <td>6th Floor</td>\n",
       "      <td>NaN</td>\n",
       "      <td>NaN</td>\n",
       "      <td>NaN</td>\n",
       "      <td>NaN</td>\n",
       "      <td>Ok</td>\n",
       "      <td>Ok</td>\n",
       "      <td></td>\n",
       "    </tr>\n",
       "    <tr>\n",
       "      <th>75</th>\n",
       "      <td>6th Floor</td>\n",
       "      <td>NaN</td>\n",
       "      <td>NaN</td>\n",
       "      <td>NaN</td>\n",
       "      <td>NaN</td>\n",
       "      <td>Convenient, and calm sometime</td>\n",
       "      <td>I am quite comfortable with the overall enviro...</td>\n",
       "      <td></td>\n",
       "    </tr>\n",
       "    <tr>\n",
       "      <th>123</th>\n",
       "      <td>6th Floor</td>\n",
       "      <td>NaN</td>\n",
       "      <td>NaN</td>\n",
       "      <td>NaN</td>\n",
       "      <td>NaN</td>\n",
       "      <td>Calm</td>\n",
       "      <td>8/10</td>\n",
       "      <td></td>\n",
       "    </tr>\n",
       "  </tbody>\n",
       "</table>\n",
       "</div>"
      ],
      "text/plain": [
       "         floor ground-floor 1-floor 2-floor 3-floor  \\\n",
       "4    6th Floor          NaN     NaN     NaN     NaN   \n",
       "18   6th Floor          NaN     NaN     NaN     NaN   \n",
       "37   6th Floor          NaN     NaN     NaN     NaN   \n",
       "38   6th Floor          NaN     NaN     NaN     NaN   \n",
       "41   6th Floor          NaN     NaN     NaN     NaN   \n",
       "75   6th Floor          NaN     NaN     NaN     NaN   \n",
       "123  6th Floor          NaN     NaN     NaN     NaN   \n",
       "\n",
       "                           emotion  \\\n",
       "4               Hungry, a bit cold   \n",
       "18                             NaN   \n",
       "37                     Tired, busy   \n",
       "38                        Peaceful   \n",
       "41                              Ok   \n",
       "75   Convenient, and calm sometime   \n",
       "123                           Calm   \n",
       "\n",
       "                                               comfort space-type  \n",
       "4                               Cold, quiet, well lit              \n",
       "18                                                 NaN             \n",
       "37         Noisy (poor sound insulation between rooms)             \n",
       "38              Default brightness is a little bright              \n",
       "41                                                  Ok             \n",
       "75   I am quite comfortable with the overall enviro...             \n",
       "123                                               8/10             "
      ]
     },
     "execution_count": 37,
     "metadata": {},
     "output_type": "execute_result"
    }
   ],
   "source": [
    "df[df['floor'] == '6th Floor']"
   ]
  },
  {
   "cell_type": "code",
   "execution_count": 39,
   "id": "7cbef2ab",
   "metadata": {
    "scrolled": true,
    "tags": []
   },
   "outputs": [
    {
     "data": {
      "image/png": "[encoded data removed]",
      "text/plain": [
       "<Figure size 640x480 with 1 Axes>"
      ]
     },
     "metadata": {},
     "output_type": "display_data"
    },
    {
     "data": {
      "image/png": "[encoded data removed]",
      "text/plain": [
       "<Figure size 640x480 with 1 Axes>"
      ]
     },
     "metadata": {},
     "output_type": "display_data"
    },
    {
     "data": {
      "image/png": "[encoded data removed]",
      "text/plain": [
       "<Figure size 640x480 with 1 Axes>"
      ]
     },
     "metadata": {},
     "output_type": "display_data"
    },
    {
     "data": {
      "image/png": "[encoded data removed]",
      "text/plain": [
       "<Figure size 640x480 with 1 Axes>"
      ]
     },
     "metadata": {},
     "output_type": "display_data"
    }
   ],
   "source": [
    "def plot_responses_rooms(floor):\n",
    "    # ax = plt.subplot(2, 2, n + 1)\n",
    "    p = df[floor].value_counts().plot.bar()\n",
    "    # ax.bar_label(p, label_type='edge')\n",
    "    plt.ylabel(\"Count of responses\")\n",
    "    plt.title(floor.capitalize())\n",
    "\n",
    "# plt.figure(figsize=(15, 12))\n",
    "# plt.subplots_adjust(hspace=3)\n",
    "floors = ['ground-floor', '1-floor', '2-floor', '3-floor']\n",
    "\n",
    "for floor in floors:\n",
    "    fig, ax = plt.subplots()\n",
    "    plot_responses_rooms(floor)\n",
    "    plt.savefig('plots/' + floor + '.jpg',\n",
    "            dpi=300, bbox_inches='tight')"
   ]
  },
  {
   "cell_type": "markdown",
   "id": "7a2e4f7e",
   "metadata": {},
   "source": [
    "# Emotions"
   ]
  },
  {
   "cell_type": "code",
   "execution_count": 9,
   "id": "ed1b248e",
   "metadata": {
    "tags": []
   },
   "outputs": [],
   "source": [
    "df_emo = df.emotion.dropna()\n",
    "df_emo = df_emo.apply(lambda x: x.replace('’', ''))"
   ]
  },
  {
   "cell_type": "markdown",
   "id": "4ecdce06",
   "metadata": {},
   "source": [
    "### Tokenise"
   ]
  },
  {
   "cell_type": "code",
   "execution_count": 10,
   "id": "cca25a87",
   "metadata": {
    "tags": []
   },
   "outputs": [],
   "source": [
    "import string\n",
    "\n",
    "def apply_token(row):\n",
    "    stop_words = set(stopwords.words(\"english\"))\n",
    "    words_in_sent = word_tokenize(row)\n",
    "\n",
    "    filtered_list = []\n",
    "    \n",
    "    for word in words_in_sent:\n",
    "        if word.casefold() not in stop_words:\n",
    "            filtered_list.append(word)\n",
    "    \n",
    "    return filtered_list\n",
    "\n",
    "def cleanup(df_emo):\n",
    "    combo_emo = []\n",
    "    for row in df_emo:\n",
    "        combo_emo.append(row)\n",
    "    \n",
    "    combo_emo = list(np.concatenate(combo_emo).flat)\n",
    "    combo_emo = list(filter(lambda token: token not in string.punctuation,\n",
    "                            combo_emo))\n",
    "    combo_emo = [x.lower() for x in combo_emo]\n",
    "    \n",
    "    return combo_emo"
   ]
  },
  {
   "cell_type": "code",
   "execution_count": 11,
   "id": "32184762",
   "metadata": {
    "tags": []
   },
   "outputs": [],
   "source": [
    "df_emo = df_emo.apply(apply_token)\n",
    "combo_emo_list = cleanup(df_emo)"
   ]
  },
  {
   "cell_type": "code",
   "execution_count": 12,
   "id": "961226c9",
   "metadata": {
    "tags": []
   },
   "outputs": [],
   "source": [
    "def frequency_distribution(lst, label):\n",
    "    top_n = FreqDist(lst).most_common(20)\n",
    "    frequency_distribution = pd.Series(dict(top_n))\n",
    "\n",
    "    sns.set_theme(style=\"ticks\")\n",
    "    sns.barplot(y=frequency_distribution.index,\n",
    "                x=frequency_distribution.values,\n",
    "                palette = 'hls',\n",
    "                saturation = 8)\n",
    "    plt.xlabel(\"Count of responses\")\n",
    "    plt.ylabel(\"Most frequently occuring responses\")\n",
    "    plt.gcf().set_size_inches(5,7)\n",
    "    # plt.xlim(0,20)\n",
    "\n",
    "    plt.savefig('plots/' + label + '-freq-dist.jpg',\n",
    "            dpi=300, bbox_inches='tight')"
   ]
  },
  {
   "cell_type": "code",
   "execution_count": 15,
   "id": "1230a262-9f51-4f64-806e-ea697c740237",
   "metadata": {
    "tags": []
   },
   "outputs": [],
   "source": [
    "frequency_distribution = FreqDist(combo_emo_list)"
   ]
  },
  {
   "cell_type": "code",
   "execution_count": 16,
   "id": "2616c90f-ca3f-4523-8863-0d718a424ff2",
   "metadata": {
    "tags": []
   },
   "outputs": [
    {
     "ename": "TypeError",
     "evalue": "'FreqDist' object is not callable",
     "output_type": "error",
     "traceback": [
      "\u001b[0;31m---------------------------------------------------------------------------\u001b[0m",
      "\u001b[0;31mTypeError\u001b[0m                                 Traceback (most recent call last)",
      "Cell \u001b[0;32mIn[16], line 2\u001b[0m\n\u001b[1;32m      1\u001b[0m frequency_distribution\u001b[38;5;241m.\u001b[39mmost_common(\u001b[38;5;241m20\u001b[39m)\n\u001b[0;32m----> 2\u001b[0m \u001b[43mfrequency_distribution\u001b[49m\u001b[43m(\u001b[49m\u001b[43mcombo_emo_list\u001b[49m\u001b[43m,\u001b[49m\u001b[43m \u001b[49m\u001b[38;5;124;43m'\u001b[39;49m\u001b[38;5;124;43memo\u001b[39;49m\u001b[38;5;124;43m'\u001b[39;49m\u001b[43m)\u001b[49m\n",
      "\u001b[0;31mTypeError\u001b[0m: 'FreqDist' object is not callable"
     ]
    }
   ],
   "source": [
    "frequency_distribution.most_common(20)\n",
    "frequency_distribution(combo_emo_list, 'emo')"
   ]
  },
  {
   "cell_type": "markdown",
   "id": "fda8cd38",
   "metadata": {},
   "source": [
    "calm (19), bit (6), nice (5), feel (4), quiet (4), neutral (4), relaxed (4), focused (4), noisy (3), cold (3), stressed (3), happy (3), motivated (3), peaceful (3), tired (3), good (3), study (3), building (3)\n",
    "\n",
    "Interesting to note that words associated with emotion questions also included some words about comfort such as `cold` and `noisy`. Overall, we see that words associated with emotions are a mix of emotions, moods, sentiments, that are also typically associated with learning (`stressed`, `focused`, `motivated`)"
   ]
  },
  {
   "cell_type": "markdown",
   "id": "3872d4b7",
   "metadata": {},
   "source": [
    "### Lemmatisation"
   ]
  },
  {
   "cell_type": "code",
   "execution_count": 18,
   "id": "9eae4daf",
   "metadata": {
    "tags": []
   },
   "outputs": [],
   "source": [
    "def lemmatiser(labels):\n",
    "    lemmatizer = WordNetLemmatizer()\n",
    "    lemmatized_words = [lemmatizer.lemmatize(word) for word in labels]\n",
    "    return lemmatized_words\n",
    "\n",
    "def check_collocations(lst):\n",
    "    return nltk.Text(lst).collocations()\n",
    "    \n",
    "def find_collocations(df_emo):\n",
    "    lem_emo = df_emo.apply(lemmatiser)\n",
    "    combined_emos = list(np.concatenate(lem_emo.to_list()).flat)\n",
    "    return check_collocations(combined_emos)"
   ]
  },
  {
   "cell_type": "code",
   "execution_count": 19,
   "id": "7794cf8d",
   "metadata": {
    "tags": []
   },
   "outputs": [
    {
     "name": "stdout",
     "output_type": "stream",
     "text": [
      "feeling fine; ground floor; natural light; feel like; day studying;\n",
      "Nice quiet; feel bit; feel cozy; calm comfortable; study Calm; calm\n",
      "Calm\n"
     ]
    }
   ],
   "source": [
    "find_collocations(df_emo)"
   ]
  },
  {
   "cell_type": "markdown",
   "id": "397dd2cf",
   "metadata": {},
   "source": [
    "study calm were the most frequently occuring pair of words (collocations) in the list of emotions."
   ]
  },
  {
   "cell_type": "markdown",
   "id": "9a2ebb15",
   "metadata": {},
   "source": [
    "# Comfort"
   ]
  },
  {
   "cell_type": "code",
   "execution_count": null,
   "id": "40b874c1",
   "metadata": {
    "tags": []
   },
   "outputs": [],
   "source": [
    "df_comfort = df.comfort.dropna()\n",
    "df_comfort = df_comfort.apply(lambda x: x.replace('’', ''))"
   ]
  },
  {
   "cell_type": "markdown",
   "id": "b26a0318",
   "metadata": {},
   "source": [
    "### Tokenise"
   ]
  },
  {
   "cell_type": "code",
   "execution_count": null,
   "id": "05a46ea9",
   "metadata": {
    "tags": []
   },
   "outputs": [],
   "source": [
    "df_comfort = df_comfort.apply(apply_token)\n",
    "combo_comfort_list = cleanup(df_comfort)"
   ]
  },
  {
   "cell_type": "code",
   "execution_count": null,
   "id": "b956b206-7608-4dae-ae2a-0f13fdb31bdc",
   "metadata": {
    "tags": []
   },
   "outputs": [],
   "source": [
    "combo_comfort_list = [word for word in combo_comfort_list if word != \"'s\"]"
   ]
  },
  {
   "cell_type": "code",
   "execution_count": null,
   "id": "69f9e5ea",
   "metadata": {
    "tags": []
   },
   "outputs": [],
   "source": [
    "frequency_distribution = FreqDist(combo_comfort_list)\n",
    "frequency_distribution.most_common(20)"
   ]
  },
  {
   "cell_type": "code",
   "execution_count": null,
   "id": "0e7ff8a8-acfb-40ba-b546-412c06479a37",
   "metadata": {
    "tags": []
   },
   "outputs": [],
   "source": [
    "frequency_distribution(combo_comfort_list, 'comfort')"
   ]
  },
  {
   "cell_type": "markdown",
   "id": "5c3fc928",
   "metadata": {},
   "source": [
    "'comfortable' (23), 'light'(12), 'cold' (10), 'good' (10), 'noise' (9), 'temperature' (8), 'air' (8), 'nice' (8), 'room' (7), ('pretty', 7), ('space', 5), ('quality', 5), ('window', 5), ('fine', 5), ('like', 5), ('noisy', 5), ('little', 5), ('well', 4), ('lighting', 4), ('warm', 4), ('lot', 4), ('make', 4), ('feel', 4), ('blinds', 4), ('dark', 4), ('natural', 4), ('ok', 4), ('perfect', 3)\n",
    "\n",
    "Most focus on light and temperature followed by noise. People also noted overall space and comfort as a whole. "
   ]
  },
  {
   "cell_type": "markdown",
   "id": "c672bfe5",
   "metadata": {},
   "source": [
    "### Lemmatisation"
   ]
  },
  {
   "cell_type": "code",
   "execution_count": null,
   "id": "c41b832e",
   "metadata": {
    "tags": []
   },
   "outputs": [],
   "source": [
    "find_collocations(df_comfort)"
   ]
  },
  {
   "cell_type": "markdown",
   "id": "261da374",
   "metadata": {},
   "source": [
    "Air quality was the most ferquently occuring word."
   ]
  },
  {
   "cell_type": "code",
   "execution_count": null,
   "id": "33aea4b5",
   "metadata": {
    "tags": []
   },
   "outputs": [],
   "source": [
    "from collections import Counter\n",
    "combo_comfort_cloud=Counter(combo_comfort_list)\n",
    "\n",
    "wordcloud = WordCloud(width=600, \n",
    "                     height=400, \n",
    "                     random_state=2, \n",
    "                     max_font_size=100).generate_from_frequencies(combo_comfort_cloud)\n",
    "\n",
    "plt.figure(figsize=(10, 7))\n",
    "plt.imshow(wordcloud, interpolation='bilinear')\n",
    "plt.axis('off');"
   ]
  },
  {
   "cell_type": "markdown",
   "id": "db6ddeda-33aa-4ffa-bd30-9807bdc85f42",
   "metadata": {},
   "source": [
    "# Sentiment Analysis"
   ]
  },
  {
   "cell_type": "code",
   "execution_count": 17,
   "id": "cbbf1add-a6ff-4853-9a40-a228a7f8586e",
   "metadata": {
    "tags": []
   },
   "outputs": [],
   "source": [
    "def sentiment_analysis(df, label):\n",
    "    analyzer = SentimentIntensityAnalyzer()\n",
    "    df[label + '-polarity'] = df[label].apply(lambda x: analyzer.polarity_scores(str(x)))\n",
    "    df = pd.concat([df, df[label + '-polarity'].apply(pd.Series)], axis=1)\n",
    "    df[label + '-sentiment'] = df['compound'].apply(lambda x: 'positive' if x >0 else 'neutral' if x==0 else 'negative')\n",
    "\n",
    "    print(\"Most positive emotion statement: \", df.loc[df['compound'].idxmax()].values)\n",
    "    print(\"\\n\")\n",
    "    print(\"Most negative emotion statement: \", df.loc[df['compound'].idxmin()].values)\n",
    "    \n",
    "    return df "
   ]
  },
  {
   "cell_type": "code",
   "execution_count": 22,
   "id": "bc6b25ca-1b69-47c3-a938-b7c3ab6c53c0",
   "metadata": {
    "tags": []
   },
   "outputs": [],
   "source": [
    "def plot_sentiment_analysis(df, label):\n",
    "    sns.countplot(y=label+'-sentiment', \n",
    "                  data=df,\n",
    "                  palette=['#b2d8d8',\"#008080\", '#db3d13'],\n",
    "                  order=[\"positive\", \"negative\", \"neutral\"])\n",
    "    plt.ylabel(\"Sentiment for \" + label + \" Text\")\n",
    "    plt.xlabel(\"Count\")\n",
    "    # plt.xlim(0,45)\n",
    "    plt.savefig('plots/' + label + '-sentiment-count.jpg',\n",
    "                dpi=300, bbox_inches='tight')\n",
    "    \n",
    "    plt.clf()\n",
    "    \n",
    "    sns.boxplot(x='floor', y='compound', data=df)\n",
    "    plt.xlabel(\"Floor\")\n",
    "    plt.ylabel(\"Sentiment Value \\n (1 = Most Positive; 0 = Neutral; -1 = Most Negative)\")\n",
    "    plt.tick_params(bottom=False)\n",
    "    plt.axhline(0, ls='--', c = 'grey')\n",
    "    plt.savefig('plots/' + label + '-sentiment-distribution.jpg',\n",
    "                dpi=300, bbox_inches='tight')\n",
    "    \n",
    "\n",
    "def plot_sentiment_analysis_spaces(df, label):\n",
    "    df = df.where(df[\"space-type\"] != \"\").dropna(how=\"all\")\n",
    "    f = plt.figure(figsize=(10, 6))\n",
    "    sns.boxplot(x='space-type', y='compound', width=0.5,\n",
    " data=df)\n",
    "    plt.xlabel(\"Space Type\")\n",
    "    plt.ylabel(\"Sentiment Value \\n (1 = Most Positive; 0 = Neutral; -1 = Most Negative)\")\n",
    "    plt.tick_params(bottom=False)\n",
    "    plt.axhline(0, ls='--', c = 'grey')\n",
    "    plt.savefig('plots/lab42-' + label + '-space-wise-sentiment-distribution.jpg',\n",
    "                dpi=300, bbox_inches='tight')"
   ]
  },
  {
   "cell_type": "code",
   "execution_count": 18,
   "id": "4db5d9a9-e922-4015-92af-509a23d1a652",
   "metadata": {
    "tags": []
   },
   "outputs": [
    {
     "name": "stdout",
     "output_type": "stream",
     "text": [
      "Most positive emotion statement:  ['1st Floor' nan 'Partly covered green chairs (along glass wall)' nan nan\n",
      " 'It is open, and this does not necessarily make me relaxed, it feels like i am standing in a hall/pass way, not really a study area. I like that it is naar window, where you can see people walking and going somewhere. I like it is fading rhe sunny side, makes me happy'\n",
      " 'It is a little too noisey, and too spacious, it smells like building, temperature is comfortable, like the natural light '\n",
      " 'Yes' 'Yes' 'I will be only be participating in the survey' 'individual'\n",
      " {'neg': 0.0, 'neu': 0.709, 'pos': 0.291, 'compound': 0.9451} 0.0 0.709\n",
      " 0.291 0.9451 'positive']\n",
      "\n",
      "\n",
      "Most negative emotion statement:  ['1st Floor' nan\n",
      " 'Green group study tables (between a row of plants and railing)' nan nan\n",
      " \"Normal. Just sad about the fact that we can't use the other floors. (3, 4, 5, 6)\"\n",
      " nan nan nan nan 'group'\n",
      " {'neg': 0.162, 'neu': 0.838, 'pos': 0.0, 'compound': -0.4767} 0.162 0.838\n",
      " 0.0 -0.4767 'negative']\n"
     ]
    }
   ],
   "source": [
    "df = df.dropna(subset=['emotion'], how='all')\n",
    "df_sent_emo = sentiment_analysis(df, 'emotion')\n",
    "df_sent_emo.to_csv('data/sentiment_data/students-emo-lab42.csv')\n",
    "plot_sentiment_analysis(df_sent_emo, 'emotion')\n",
    "plot_sentiment_analysis_spaces(df_sent_emo, \"emotion\")"
   ]
  },
  {
   "cell_type": "code",
   "execution_count": 19,
   "id": "d39a9cc6-4284-463f-b142-aac47cf1dfe2",
   "metadata": {},
   "outputs": [
    {
     "data": {
      "text/html": [
       "<div>\n",
       "<style scoped>\n",
       "    .dataframe tbody tr th:only-of-type {\n",
       "        vertical-align: middle;\n",
       "    }\n",
       "\n",
       "    .dataframe tbody tr th {\n",
       "        vertical-align: top;\n",
       "    }\n",
       "\n",
       "    .dataframe thead th {\n",
       "        text-align: right;\n",
       "    }\n",
       "</style>\n",
       "<table border=\"1\" class=\"dataframe\">\n",
       "  <thead>\n",
       "    <tr style=\"text-align: right;\">\n",
       "      <th></th>\n",
       "      <th>floor</th>\n",
       "      <th>ground-floor</th>\n",
       "      <th>1-floor</th>\n",
       "      <th>2-floor</th>\n",
       "      <th>3-floor</th>\n",
       "      <th>emotion</th>\n",
       "      <th>comfort</th>\n",
       "      <th>occupation</th>\n",
       "      <th>usage</th>\n",
       "      <th>recruitment</th>\n",
       "      <th>space-type</th>\n",
       "      <th>emotion-polarity</th>\n",
       "      <th>neg</th>\n",
       "      <th>neu</th>\n",
       "      <th>pos</th>\n",
       "      <th>compound</th>\n",
       "      <th>emotion-sentiment</th>\n",
       "    </tr>\n",
       "  </thead>\n",
       "  <tbody>\n",
       "    <tr>\n",
       "      <th>1</th>\n",
       "      <td>NaN</td>\n",
       "      <td>NaN</td>\n",
       "      <td>NaN</td>\n",
       "      <td>NaN</td>\n",
       "      <td>NaN</td>\n",
       "      <td>I always feel a bit zen when I am here. It’s q...</td>\n",
       "      <td>The light in the offices is perfect, as well a...</td>\n",
       "      <td>NaN</td>\n",
       "      <td>Yes</td>\n",
       "      <td>I will be only be participating in the survey</td>\n",
       "      <td></td>\n",
       "      <td>{'neg': 0.098, 'neu': 0.865, 'pos': 0.037, 'co...</td>\n",
       "      <td>0.098</td>\n",
       "      <td>0.865</td>\n",
       "      <td>0.037</td>\n",
       "      <td>-0.2732</td>\n",
       "      <td>negative</td>\n",
       "    </tr>\n",
       "    <tr>\n",
       "      <th>2</th>\n",
       "      <td>NaN</td>\n",
       "      <td>NaN</td>\n",
       "      <td>NaN</td>\n",
       "      <td>NaN</td>\n",
       "      <td>NaN</td>\n",
       "      <td>Cold, a bit down</td>\n",
       "      <td>Temperature (it’s too cold), lack of light (bu...</td>\n",
       "      <td>NaN</td>\n",
       "      <td>Yes</td>\n",
       "      <td>I will be only be participating in the survey</td>\n",
       "      <td></td>\n",
       "      <td>{'neg': 0.0, 'neu': 1.0, 'pos': 0.0, 'compound...</td>\n",
       "      <td>0.000</td>\n",
       "      <td>1.000</td>\n",
       "      <td>0.000</td>\n",
       "      <td>0.0000</td>\n",
       "      <td>neutral</td>\n",
       "    </tr>\n",
       "    <tr>\n",
       "      <th>3</th>\n",
       "      <td>NaN</td>\n",
       "      <td>NaN</td>\n",
       "      <td>NaN</td>\n",
       "      <td>NaN</td>\n",
       "      <td>NaN</td>\n",
       "      <td>Calm</td>\n",
       "      <td>Comfortable temperature and pleasant lighting....</td>\n",
       "      <td>NaN</td>\n",
       "      <td>Yes</td>\n",
       "      <td>I will be only be participating in the survey</td>\n",
       "      <td></td>\n",
       "      <td>{'neg': 0.0, 'neu': 0.0, 'pos': 1.0, 'compound...</td>\n",
       "      <td>0.000</td>\n",
       "      <td>0.000</td>\n",
       "      <td>1.000</td>\n",
       "      <td>0.3182</td>\n",
       "      <td>positive</td>\n",
       "    </tr>\n",
       "    <tr>\n",
       "      <th>4</th>\n",
       "      <td>6th Floor</td>\n",
       "      <td>NaN</td>\n",
       "      <td>NaN</td>\n",
       "      <td>NaN</td>\n",
       "      <td>NaN</td>\n",
       "      <td>Hungry, a bit cold</td>\n",
       "      <td>Cold, quiet, well lit</td>\n",
       "      <td>NaN</td>\n",
       "      <td>Yes</td>\n",
       "      <td>I would like to participate in a building walk</td>\n",
       "      <td></td>\n",
       "      <td>{'neg': 0.0, 'neu': 1.0, 'pos': 0.0, 'compound...</td>\n",
       "      <td>0.000</td>\n",
       "      <td>1.000</td>\n",
       "      <td>0.000</td>\n",
       "      <td>0.0000</td>\n",
       "      <td>neutral</td>\n",
       "    </tr>\n",
       "    <tr>\n",
       "      <th>5</th>\n",
       "      <td>Ground floor</td>\n",
       "      <td>Library learning room</td>\n",
       "      <td>NaN</td>\n",
       "      <td>NaN</td>\n",
       "      <td>NaN</td>\n",
       "      <td>Stressed about my exams but I am happy in this...</td>\n",
       "      <td>Usually it is really nice and comfortably warm...</td>\n",
       "      <td>Yes</td>\n",
       "      <td>Yes</td>\n",
       "      <td>I would like to participate in a building walk</td>\n",
       "      <td>individual</td>\n",
       "      <td>{'neg': 0.06, 'neu': 0.421, 'pos': 0.519, 'com...</td>\n",
       "      <td>0.060</td>\n",
       "      <td>0.421</td>\n",
       "      <td>0.519</td>\n",
       "      <td>0.9337</td>\n",
       "      <td>positive</td>\n",
       "    </tr>\n",
       "    <tr>\n",
       "      <th>...</th>\n",
       "      <td>...</td>\n",
       "      <td>...</td>\n",
       "      <td>...</td>\n",
       "      <td>...</td>\n",
       "      <td>...</td>\n",
       "      <td>...</td>\n",
       "      <td>...</td>\n",
       "      <td>...</td>\n",
       "      <td>...</td>\n",
       "      <td>...</td>\n",
       "      <td>...</td>\n",
       "      <td>...</td>\n",
       "      <td>...</td>\n",
       "      <td>...</td>\n",
       "      <td>...</td>\n",
       "      <td>...</td>\n",
       "      <td>...</td>\n",
       "    </tr>\n",
       "    <tr>\n",
       "      <th>148</th>\n",
       "      <td>1st Floor</td>\n",
       "      <td>NaN</td>\n",
       "      <td>Green group study tables (between a row of pla...</td>\n",
       "      <td>NaN</td>\n",
       "      <td>NaN</td>\n",
       "      <td>I’m a little cold, but otherwise calm and comf...</td>\n",
       "      <td>There is a nice background noise, and natural ...</td>\n",
       "      <td>Yes</td>\n",
       "      <td>Yes</td>\n",
       "      <td>I will be only be participating in the survey</td>\n",
       "      <td>group</td>\n",
       "      <td>{'neg': 0.0, 'neu': 0.448, 'pos': 0.552, 'comp...</td>\n",
       "      <td>0.000</td>\n",
       "      <td>0.448</td>\n",
       "      <td>0.552</td>\n",
       "      <td>0.8126</td>\n",
       "      <td>positive</td>\n",
       "    </tr>\n",
       "    <tr>\n",
       "      <th>149</th>\n",
       "      <td>1st Floor</td>\n",
       "      <td>NaN</td>\n",
       "      <td>Yellow/white chairs &amp; tables (besides the wood...</td>\n",
       "      <td>NaN</td>\n",
       "      <td>NaN</td>\n",
       "      <td>Relaxed and focused</td>\n",
       "      <td>Temperature okay, I can hear the people around...</td>\n",
       "      <td>Yes</td>\n",
       "      <td>Yes</td>\n",
       "      <td>I will be only be participating in the survey</td>\n",
       "      <td>group</td>\n",
       "      <td>{'neg': 0.0, 'neu': 0.147, 'pos': 0.853, 'comp...</td>\n",
       "      <td>0.000</td>\n",
       "      <td>0.147</td>\n",
       "      <td>0.853</td>\n",
       "      <td>0.7003</td>\n",
       "      <td>positive</td>\n",
       "    </tr>\n",
       "    <tr>\n",
       "      <th>150</th>\n",
       "      <td>Ground floor</td>\n",
       "      <td>Green chairs by the entrance</td>\n",
       "      <td>NaN</td>\n",
       "      <td>NaN</td>\n",
       "      <td>NaN</td>\n",
       "      <td>Pretty relaxed</td>\n",
       "      <td>Sure</td>\n",
       "      <td>Yes</td>\n",
       "      <td>NaN</td>\n",
       "      <td>NaN</td>\n",
       "      <td>individual</td>\n",
       "      <td>{'neg': 0.0, 'neu': 0.0, 'pos': 1.0, 'compound...</td>\n",
       "      <td>0.000</td>\n",
       "      <td>0.000</td>\n",
       "      <td>1.000</td>\n",
       "      <td>0.7506</td>\n",
       "      <td>positive</td>\n",
       "    </tr>\n",
       "    <tr>\n",
       "      <th>152</th>\n",
       "      <td>1st Floor</td>\n",
       "      <td>NaN</td>\n",
       "      <td>Green group study tables (between a row of pla...</td>\n",
       "      <td>NaN</td>\n",
       "      <td>NaN</td>\n",
       "      <td>Comfortable</td>\n",
       "      <td>Color</td>\n",
       "      <td>Yes</td>\n",
       "      <td>Yes</td>\n",
       "      <td>NaN</td>\n",
       "      <td>group</td>\n",
       "      <td>{'neg': 0.0, 'neu': 0.0, 'pos': 1.0, 'compound...</td>\n",
       "      <td>0.000</td>\n",
       "      <td>0.000</td>\n",
       "      <td>1.000</td>\n",
       "      <td>0.5106</td>\n",
       "      <td>positive</td>\n",
       "    </tr>\n",
       "    <tr>\n",
       "      <th>153</th>\n",
       "      <td>1st Floor</td>\n",
       "      <td>NaN</td>\n",
       "      <td>Yellow/white chairs &amp; tables (besides the wood...</td>\n",
       "      <td>NaN</td>\n",
       "      <td>NaN</td>\n",
       "      <td>It’s good</td>\n",
       "      <td>Comfortable</td>\n",
       "      <td>Yes</td>\n",
       "      <td>Yes</td>\n",
       "      <td>NaN</td>\n",
       "      <td>group</td>\n",
       "      <td>{'neg': 0.0, 'neu': 0.256, 'pos': 0.744, 'comp...</td>\n",
       "      <td>0.000</td>\n",
       "      <td>0.256</td>\n",
       "      <td>0.744</td>\n",
       "      <td>0.4404</td>\n",
       "      <td>positive</td>\n",
       "    </tr>\n",
       "  </tbody>\n",
       "</table>\n",
       "<p>126 rows × 17 columns</p>\n",
       "</div>"
      ],
      "text/plain": [
       "            floor                  ground-floor  \\\n",
       "1             NaN                           NaN   \n",
       "2             NaN                           NaN   \n",
       "3             NaN                           NaN   \n",
       "4       6th Floor                           NaN   \n",
       "5    Ground floor         Library learning room   \n",
       "..            ...                           ...   \n",
       "148     1st Floor                           NaN   \n",
       "149     1st Floor                           NaN   \n",
       "150  Ground floor  Green chairs by the entrance   \n",
       "152     1st Floor                           NaN   \n",
       "153     1st Floor                           NaN   \n",
       "\n",
       "                                               1-floor 2-floor 3-floor  \\\n",
       "1                                                  NaN     NaN     NaN   \n",
       "2                                                  NaN     NaN     NaN   \n",
       "3                                                  NaN     NaN     NaN   \n",
       "4                                                  NaN     NaN     NaN   \n",
       "5                                                  NaN     NaN     NaN   \n",
       "..                                                 ...     ...     ...   \n",
       "148  Green group study tables (between a row of pla...     NaN     NaN   \n",
       "149  Yellow/white chairs & tables (besides the wood...     NaN     NaN   \n",
       "150                                                NaN     NaN     NaN   \n",
       "152  Green group study tables (between a row of pla...     NaN     NaN   \n",
       "153  Yellow/white chairs & tables (besides the wood...     NaN     NaN   \n",
       "\n",
       "                                               emotion  \\\n",
       "1    I always feel a bit zen when I am here. It’s q...   \n",
       "2                                     Cold, a bit down   \n",
       "3                                                 Calm   \n",
       "4                                   Hungry, a bit cold   \n",
       "5    Stressed about my exams but I am happy in this...   \n",
       "..                                                 ...   \n",
       "148  I’m a little cold, but otherwise calm and comf...   \n",
       "149                               Relaxed and focused    \n",
       "150                                     Pretty relaxed   \n",
       "152                                       Comfortable    \n",
       "153                                         It’s good    \n",
       "\n",
       "                                               comfort occupation usage  \\\n",
       "1    The light in the offices is perfect, as well a...        NaN   Yes   \n",
       "2    Temperature (it’s too cold), lack of light (bu...        NaN   Yes   \n",
       "3    Comfortable temperature and pleasant lighting....        NaN   Yes   \n",
       "4                               Cold, quiet, well lit         NaN   Yes   \n",
       "5    Usually it is really nice and comfortably warm...        Yes   Yes   \n",
       "..                                                 ...        ...   ...   \n",
       "148  There is a nice background noise, and natural ...        Yes   Yes   \n",
       "149  Temperature okay, I can hear the people around...        Yes   Yes   \n",
       "150                                               Sure        Yes   NaN   \n",
       "152                                              Color        Yes   Yes   \n",
       "153                                       Comfortable         Yes   Yes   \n",
       "\n",
       "                                        recruitment  space-type  \\\n",
       "1     I will be only be participating in the survey               \n",
       "2     I will be only be participating in the survey               \n",
       "3     I will be only be participating in the survey               \n",
       "4    I would like to participate in a building walk               \n",
       "5    I would like to participate in a building walk  individual   \n",
       "..                                              ...         ...   \n",
       "148   I will be only be participating in the survey       group   \n",
       "149   I will be only be participating in the survey       group   \n",
       "150                                             NaN  individual   \n",
       "152                                             NaN       group   \n",
       "153                                             NaN       group   \n",
       "\n",
       "                                      emotion-polarity    neg    neu    pos  \\\n",
       "1    {'neg': 0.098, 'neu': 0.865, 'pos': 0.037, 'co...  0.098  0.865  0.037   \n",
       "2    {'neg': 0.0, 'neu': 1.0, 'pos': 0.0, 'compound...  0.000  1.000  0.000   \n",
       "3    {'neg': 0.0, 'neu': 0.0, 'pos': 1.0, 'compound...  0.000  0.000  1.000   \n",
       "4    {'neg': 0.0, 'neu': 1.0, 'pos': 0.0, 'compound...  0.000  1.000  0.000   \n",
       "5    {'neg': 0.06, 'neu': 0.421, 'pos': 0.519, 'com...  0.060  0.421  0.519   \n",
       "..                                                 ...    ...    ...    ...   \n",
       "148  {'neg': 0.0, 'neu': 0.448, 'pos': 0.552, 'comp...  0.000  0.448  0.552   \n",
       "149  {'neg': 0.0, 'neu': 0.147, 'pos': 0.853, 'comp...  0.000  0.147  0.853   \n",
       "150  {'neg': 0.0, 'neu': 0.0, 'pos': 1.0, 'compound...  0.000  0.000  1.000   \n",
       "152  {'neg': 0.0, 'neu': 0.0, 'pos': 1.0, 'compound...  0.000  0.000  1.000   \n",
       "153  {'neg': 0.0, 'neu': 0.256, 'pos': 0.744, 'comp...  0.000  0.256  0.744   \n",
       "\n",
       "     compound emotion-sentiment  \n",
       "1     -0.2732          negative  \n",
       "2      0.0000           neutral  \n",
       "3      0.3182          positive  \n",
       "4      0.0000           neutral  \n",
       "5      0.9337          positive  \n",
       "..        ...               ...  \n",
       "148    0.8126          positive  \n",
       "149    0.7003          positive  \n",
       "150    0.7506          positive  \n",
       "152    0.5106          positive  \n",
       "153    0.4404          positive  \n",
       "\n",
       "[126 rows x 17 columns]"
      ]
     },
     "execution_count": 19,
     "metadata": {},
     "output_type": "execute_result"
    }
   ],
   "source": [
    "df_sent_emo"
   ]
  },
  {
   "cell_type": "markdown",
   "id": "e861f8d2-42e8-4293-8434-529148f29815",
   "metadata": {},
   "source": [
    "### Emotion: `Calm`"
   ]
  },
  {
   "cell_type": "code",
   "execution_count": null,
   "id": "cc9b734e-d28f-4972-aa6e-03e577aa4afc",
   "metadata": {
    "tags": []
   },
   "outputs": [],
   "source": [
    "df_sent_emo[['floor','emotion', 'emotion-sentiment']][df_sent_emo['emotion'].str.contains(\"calm\")==True]"
   ]
  },
  {
   "cell_type": "code",
   "execution_count": null,
   "id": "20a9d140-d4eb-4820-9884-3e539279e383",
   "metadata": {
    "tags": []
   },
   "outputs": [],
   "source": [
    "df_sent_emo['emotion'][df_sent_emo['emotion'].str.contains(\"relaxed\")==True]:\n",
    "    print(row)"
   ]
  },
  {
   "cell_type": "markdown",
   "id": "07e84237-bc6f-4052-a856-4b78b137f27c",
   "metadata": {
    "tags": []
   },
   "source": [
    "## Comfort: `light`"
   ]
  },
  {
   "cell_type": "code",
   "execution_count": 26,
   "id": "0485f2f1-dfef-4019-86d7-a62cd1de092b",
   "metadata": {
    "tags": []
   },
   "outputs": [
    {
     "name": "stdout",
     "output_type": "stream",
     "text": [
      "Most positive emotion statement:  ['1st Floor' nan 'Partly covered green chairs (along glass wall)' nan nan\n",
      " 'Calm. Motivated. '\n",
      " \"I love sitting by the window to have more (natural) light. it's a bit dark otherwise and air quality could be better, but I'm allergic and therefore more sensitive. it's a bit too warm for my liking, but not necessarily unpleasant. I love the colours. Green always has a calming effect on me\"\n",
      " 'Yes' 'Yes' 'I will be only be participating in the survey' 'individual'\n",
      " {'neg': 0.0, 'neu': 0.0, 'pos': 1.0, 'compound': 0.6486}\n",
      " {'neg': 0.042, 'neu': 0.607, 'pos': 0.351, 'compound': 0.9654} 0.042\n",
      " 0.607 0.351 0.9654 'positive']\n",
      "\n",
      "\n",
      "Most negative emotion statement:  ['Ground floor' 'Study corner next to the plant wall' nan nan nan\n",
      " 'Neutral'\n",
      " 'My chair makes my back hurt and I the lack chalkboards gives me existential pain. 7/10'\n",
      " 'Yes' 'Yes' 'I will be only be participating in the survey' 'group'\n",
      " {'neg': 0.0, 'neu': 1.0, 'pos': 0.0, 'compound': 0.0}\n",
      " {'neg': 0.429, 'neu': 0.571, 'pos': 0.0, 'compound': -0.8402} 0.429 0.571\n",
      " 0.0 -0.8402 'negative']\n"
     ]
    },
    {
     "data": {
      "image/png": "[encoded data removed]",
      "text/plain": [
       "<Figure size 640x480 with 1 Axes>"
      ]
     },
     "metadata": {},
     "output_type": "display_data"
    },
    {
     "data": {
      "image/png": "[encoded data removed]",
      "text/plain": [
       "<Figure size 1000x600 with 1 Axes>"
      ]
     },
     "metadata": {},
     "output_type": "display_data"
    }
   ],
   "source": [
    "df = df.dropna(subset=['comfort'], how='all')\n",
    "df_sent_comfort = sentiment_analysis(df, 'comfort')\n",
    "df_sent_comfort.to_csv('data/sentiment_data/students-comfort-lab42.csv')\n",
    "plot_sentiment_analysis(df_sent_comfort, 'comfort')\n",
    "plot_sentiment_analysis_spaces(df_sent_comfort, \"comfort\")"
   ]
  },
  {
   "cell_type": "code",
   "execution_count": null,
   "id": "c1b47ac0-6452-4d97-8f7d-caff2c6b52b0",
   "metadata": {},
   "outputs": [],
   "source": []
  }
 ],
 "metadata": {
  "kernelspec": {
   "display_name": "venv",
   "language": "python",
   "name": "venv"
  },
  "language_info": {
   "codemirror_mode": {
    "name": "ipython",
    "version": 3
   },
   "file_extension": ".py",
   "mimetype": "text/x-python",
   "name": "python",
   "nbconvert_exporter": "python",
   "pygments_lexer": "ipython3",
   "version": "3.8.9"
  }
 },
 "nbformat": 4,
 "nbformat_minor": 5
}
