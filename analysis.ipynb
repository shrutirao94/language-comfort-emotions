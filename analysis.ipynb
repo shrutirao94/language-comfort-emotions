{
 "cells": [
  {
   "cell_type": "code",
   "execution_count": 1,
   "id": "5e270e4f",
   "metadata": {
    "tags": []
   },
   "outputs": [
    {
     "name": "stderr",
     "output_type": "stream",
     "text": [
      "[nltk_data] Downloading package stopwords to\n",
      "[nltk_data]     /Users/shrutirao/nltk_data...\n",
      "[nltk_data]   Package stopwords is already up-to-date!\n",
      "[nltk_data] Downloading package wordnet to\n",
      "[nltk_data]     /Users/shrutirao/nltk_data...\n",
      "[nltk_data]   Package wordnet is already up-to-date!\n",
      "[nltk_data] Downloading package vader_lexicon to\n",
      "[nltk_data]     /Users/shrutirao/nltk_data...\n",
      "[nltk_data]   Package vader_lexicon is already up-to-date!\n"
     ]
    }
   ],
   "source": [
    "import string\n",
    "\n",
    "import numpy as np\n",
    "import matplotlib.pyplot as plt \n",
    "import pandas as pd\n",
    "import seaborn as sns\n",
    "\n",
    "import nltk\n",
    "nltk.download(\"stopwords\")\n",
    "nltk.download('wordnet')\n",
    "nltk.download('vader_lexicon')\n",
    "\n",
    "\n",
    "\n",
    "from nltk.stem import PorterStemmer\n",
    "from nltk.tokenize import sent_tokenize, word_tokenize\n",
    "from nltk.stem import WordNetLemmatizer\n",
    "from nltk.corpus import stopwords\n",
    "from nltk import FreqDist\n",
    "from nltk.sentiment import SentimentIntensityAnalyzer\n",
    "\n",
    "\n",
    "from wordcloud import WordCloud"
   ]
  },
  {
   "cell_type": "code",
   "execution_count": 2,
   "id": "77b647ee",
   "metadata": {
    "tags": []
   },
   "outputs": [],
   "source": [
    "df = pd.read_csv('data/cleaned_data.csv', index_col=0)"
   ]
  },
  {
   "cell_type": "code",
   "execution_count": 3,
   "id": "e136c0db",
   "metadata": {
    "scrolled": true,
    "tags": []
   },
   "outputs": [
    {
     "data": {
      "text/html": [
       "<div>\n",
       "<style scoped>\n",
       "    .dataframe tbody tr th:only-of-type {\n",
       "        vertical-align: middle;\n",
       "    }\n",
       "\n",
       "    .dataframe tbody tr th {\n",
       "        vertical-align: top;\n",
       "    }\n",
       "\n",
       "    .dataframe thead th {\n",
       "        text-align: right;\n",
       "    }\n",
       "</style>\n",
       "<table border=\"1\" class=\"dataframe\">\n",
       "  <thead>\n",
       "    <tr style=\"text-align: right;\">\n",
       "      <th></th>\n",
       "      <th>floor</th>\n",
       "      <th>ground-floor</th>\n",
       "      <th>1-floor</th>\n",
       "      <th>2-floor</th>\n",
       "      <th>3-floor</th>\n",
       "      <th>emotion</th>\n",
       "      <th>comfort</th>\n",
       "      <th>occupation</th>\n",
       "      <th>usage</th>\n",
       "      <th>recruitment</th>\n",
       "    </tr>\n",
       "  </thead>\n",
       "  <tbody>\n",
       "    <tr>\n",
       "      <th>count</th>\n",
       "      <td>113</td>\n",
       "      <td>28</td>\n",
       "      <td>51</td>\n",
       "      <td>13</td>\n",
       "      <td>13</td>\n",
       "      <td>100</td>\n",
       "      <td>96</td>\n",
       "      <td>97</td>\n",
       "      <td>101</td>\n",
       "      <td>100</td>\n",
       "    </tr>\n",
       "    <tr>\n",
       "      <th>unique</th>\n",
       "      <td>5</td>\n",
       "      <td>6</td>\n",
       "      <td>6</td>\n",
       "      <td>3</td>\n",
       "      <td>4</td>\n",
       "      <td>90</td>\n",
       "      <td>89</td>\n",
       "      <td>2</td>\n",
       "      <td>2</td>\n",
       "      <td>2</td>\n",
       "    </tr>\n",
       "    <tr>\n",
       "      <th>top</th>\n",
       "      <td>1st Floor</td>\n",
       "      <td>Round tables by the three plants (across woode...</td>\n",
       "      <td>Yellow/white chairs &amp; tables (besides the wood...</td>\n",
       "      <td>Library learning room</td>\n",
       "      <td>Open lounge area</td>\n",
       "      <td>Neutral</td>\n",
       "      <td>Very comfortable</td>\n",
       "      <td>Yes</td>\n",
       "      <td>Yes</td>\n",
       "      <td>I will be only be participating in the survey</td>\n",
       "    </tr>\n",
       "    <tr>\n",
       "      <th>freq</th>\n",
       "      <td>52</td>\n",
       "      <td>11</td>\n",
       "      <td>12</td>\n",
       "      <td>9</td>\n",
       "      <td>5</td>\n",
       "      <td>4</td>\n",
       "      <td>4</td>\n",
       "      <td>87</td>\n",
       "      <td>85</td>\n",
       "      <td>76</td>\n",
       "    </tr>\n",
       "  </tbody>\n",
       "</table>\n",
       "</div>"
      ],
      "text/plain": [
       "            floor                                       ground-floor  \\\n",
       "count         113                                                 28   \n",
       "unique          5                                                  6   \n",
       "top     1st Floor  Round tables by the three plants (across woode...   \n",
       "freq           52                                                 11   \n",
       "\n",
       "                                                  1-floor  \\\n",
       "count                                                  51   \n",
       "unique                                                  6   \n",
       "top     Yellow/white chairs & tables (besides the wood...   \n",
       "freq                                                   12   \n",
       "\n",
       "                      2-floor           3-floor  emotion           comfort  \\\n",
       "count                      13                13      100                96   \n",
       "unique                      3                 4       90                89   \n",
       "top     Library learning room  Open lounge area  Neutral  Very comfortable   \n",
       "freq                        9                 5        4                 4   \n",
       "\n",
       "       occupation usage                                    recruitment  \n",
       "count          97   101                                            100  \n",
       "unique          2     2                                              2  \n",
       "top           Yes   Yes  I will be only be participating in the survey  \n",
       "freq           87    85                                             76  "
      ]
     },
     "execution_count": 3,
     "metadata": {},
     "output_type": "execute_result"
    }
   ],
   "source": [
    "df.describe()"
   ]
  },
  {
   "cell_type": "markdown",
   "id": "45298478",
   "metadata": {
    "tags": []
   },
   "source": [
    "# Students Across the Floors"
   ]
  },
  {
   "cell_type": "code",
   "execution_count": 4,
   "id": "9dc9c63b",
   "metadata": {
    "scrolled": true,
    "tags": []
   },
   "outputs": [
    {
     "data": {
      "image/png": "[encoded data removed]",
      "text/plain": [
       "<Figure size 800x500 with 1 Axes>"
      ]
     },
     "metadata": {},
     "output_type": "display_data"
    }
   ],
   "source": [
    "fig, ax = plt.subplots()\n",
    "data = df.floor.value_counts()\n",
    "data = pd.DataFrame(data).reset_index().rename(columns={\"index\": \"Floor\", \"floor\": \"Count of Responses\"})\n",
    "width = 0.6\n",
    "\n",
    "\n",
    "p=ax.bar(data.Floor, data[\"Count of Responses\"], width)\n",
    "ax.bar_label(p, label_type='edge')\n",
    "plt.ylabel(\"Count of responses\")\n",
    "plt.xlabel(\"Floors at LAB 42\")\n",
    "fig.set_size_inches(8, 5)\n",
    "plt.savefig('plots/floors-responses.jpg', dpi=300, bbox_inches=\"tight\")"
   ]
  },
  {
   "cell_type": "code",
   "execution_count": 5,
   "id": "46bcbb8f-a2dc-47b5-9de1-fb37bd2fb012",
   "metadata": {
    "tags": []
   },
   "outputs": [],
   "source": [
    "floor_df = df[['floor', 'ground-floor', '1-floor', '2-floor', '3-floor' ]]\n",
    "ground_floor = floor_df[floor_df['floor'] == 'Ground floor'].iloc[:, 0:2].value_counts()\n",
    "first_floor = floor_df[floor_df['floor'] == '1st Floor'].loc[:, ['floor', '1-floor']].value_counts()\n",
    "second_floor = floor_df[floor_df['floor'] == '2nd Floor'].loc[:, ['floor', '2-floor']].value_counts()\n",
    "third_floor = floor_df[floor_df['floor'] == '3rd Floor'].loc[:, ['floor', '3-floor']].value_counts()"
   ]
  },
  {
   "cell_type": "code",
   "execution_count": 6,
   "id": "f6946e62-a1ab-46c3-90d3-93335653bde9",
   "metadata": {
    "tags": []
   },
   "outputs": [
    {
     "data": {
      "text/html": [
       "<div>\n",
       "<style scoped>\n",
       "    .dataframe tbody tr th:only-of-type {\n",
       "        vertical-align: middle;\n",
       "    }\n",
       "\n",
       "    .dataframe tbody tr th {\n",
       "        vertical-align: top;\n",
       "    }\n",
       "\n",
       "    .dataframe thead th {\n",
       "        text-align: right;\n",
       "    }\n",
       "</style>\n",
       "<table border=\"1\" class=\"dataframe\">\n",
       "  <thead>\n",
       "    <tr style=\"text-align: right;\">\n",
       "      <th></th>\n",
       "      <th>floor</th>\n",
       "      <th>ground-floor</th>\n",
       "      <th>1-floor</th>\n",
       "      <th>2-floor</th>\n",
       "      <th>3-floor</th>\n",
       "      <th>emotion</th>\n",
       "      <th>comfort</th>\n",
       "      <th>occupation</th>\n",
       "      <th>usage</th>\n",
       "      <th>recruitment</th>\n",
       "    </tr>\n",
       "  </thead>\n",
       "  <tbody>\n",
       "    <tr>\n",
       "      <th>4</th>\n",
       "      <td>6th Floor</td>\n",
       "      <td>NaN</td>\n",
       "      <td>NaN</td>\n",
       "      <td>NaN</td>\n",
       "      <td>NaN</td>\n",
       "      <td>Hungry, a bit cold</td>\n",
       "      <td>Cold, quiet, well lit</td>\n",
       "      <td>NaN</td>\n",
       "      <td>Yes</td>\n",
       "      <td>I would like to participate in a building walk</td>\n",
       "    </tr>\n",
       "    <tr>\n",
       "      <th>18</th>\n",
       "      <td>6th Floor</td>\n",
       "      <td>NaN</td>\n",
       "      <td>NaN</td>\n",
       "      <td>NaN</td>\n",
       "      <td>NaN</td>\n",
       "      <td>NaN</td>\n",
       "      <td>NaN</td>\n",
       "      <td>No</td>\n",
       "      <td>Yes</td>\n",
       "      <td>I would like to participate in a building walk</td>\n",
       "    </tr>\n",
       "    <tr>\n",
       "      <th>37</th>\n",
       "      <td>6th Floor</td>\n",
       "      <td>NaN</td>\n",
       "      <td>NaN</td>\n",
       "      <td>NaN</td>\n",
       "      <td>NaN</td>\n",
       "      <td>Tired, busy</td>\n",
       "      <td>Noisy (poor sound insulation between rooms)</td>\n",
       "      <td>No</td>\n",
       "      <td>Yes</td>\n",
       "      <td>I will be only be participating in the survey</td>\n",
       "    </tr>\n",
       "    <tr>\n",
       "      <th>38</th>\n",
       "      <td>6th Floor</td>\n",
       "      <td>NaN</td>\n",
       "      <td>NaN</td>\n",
       "      <td>NaN</td>\n",
       "      <td>NaN</td>\n",
       "      <td>Peaceful</td>\n",
       "      <td>Default brightness is a little bright</td>\n",
       "      <td>Yes</td>\n",
       "      <td>Yes</td>\n",
       "      <td>I would like to participate in a building walk</td>\n",
       "    </tr>\n",
       "    <tr>\n",
       "      <th>41</th>\n",
       "      <td>6th Floor</td>\n",
       "      <td>NaN</td>\n",
       "      <td>NaN</td>\n",
       "      <td>NaN</td>\n",
       "      <td>NaN</td>\n",
       "      <td>Ok</td>\n",
       "      <td>Ok</td>\n",
       "      <td>Yes</td>\n",
       "      <td>Yes</td>\n",
       "      <td>I will be only be participating in the survey</td>\n",
       "    </tr>\n",
       "    <tr>\n",
       "      <th>75</th>\n",
       "      <td>6th Floor</td>\n",
       "      <td>NaN</td>\n",
       "      <td>NaN</td>\n",
       "      <td>NaN</td>\n",
       "      <td>NaN</td>\n",
       "      <td>Convenient, and calm sometime</td>\n",
       "      <td>I am quite comfortable with the overall enviro...</td>\n",
       "      <td>No</td>\n",
       "      <td>Yes</td>\n",
       "      <td>I will be only be participating in the survey</td>\n",
       "    </tr>\n",
       "  </tbody>\n",
       "</table>\n",
       "</div>"
      ],
      "text/plain": [
       "        floor ground-floor 1-floor 2-floor 3-floor  \\\n",
       "4   6th Floor          NaN     NaN     NaN     NaN   \n",
       "18  6th Floor          NaN     NaN     NaN     NaN   \n",
       "37  6th Floor          NaN     NaN     NaN     NaN   \n",
       "38  6th Floor          NaN     NaN     NaN     NaN   \n",
       "41  6th Floor          NaN     NaN     NaN     NaN   \n",
       "75  6th Floor          NaN     NaN     NaN     NaN   \n",
       "\n",
       "                          emotion  \\\n",
       "4              Hungry, a bit cold   \n",
       "18                            NaN   \n",
       "37                    Tired, busy   \n",
       "38                       Peaceful   \n",
       "41                             Ok   \n",
       "75  Convenient, and calm sometime   \n",
       "\n",
       "                                              comfort occupation usage  \\\n",
       "4                              Cold, quiet, well lit         NaN   Yes   \n",
       "18                                                NaN         No   Yes   \n",
       "37        Noisy (poor sound insulation between rooms)         No   Yes   \n",
       "38             Default brightness is a little bright         Yes   Yes   \n",
       "41                                                 Ok        Yes   Yes   \n",
       "75  I am quite comfortable with the overall enviro...         No   Yes   \n",
       "\n",
       "                                       recruitment  \n",
       "4   I would like to participate in a building walk  \n",
       "18  I would like to participate in a building walk  \n",
       "37   I will be only be participating in the survey  \n",
       "38  I would like to participate in a building walk  \n",
       "41   I will be only be participating in the survey  \n",
       "75   I will be only be participating in the survey  "
      ]
     },
     "execution_count": 6,
     "metadata": {},
     "output_type": "execute_result"
    }
   ],
   "source": [
    "df[df['floor'] == '6th Floor']"
   ]
  },
  {
   "cell_type": "code",
   "execution_count": null,
   "id": "ffa7c66d-0911-4ba8-8383-28902bf35e2c",
   "metadata": {},
   "outputs": [],
   "source": []
  },
  {
   "cell_type": "code",
   "execution_count": 7,
   "id": "7cbef2ab",
   "metadata": {
    "scrolled": true,
    "tags": []
   },
   "outputs": [
    {
     "data": {
      "image/png": "[encoded data removed]",
      "text/plain": [
       "<Figure size 640x480 with 1 Axes>"
      ]
     },
     "metadata": {},
     "output_type": "display_data"
    }
   ],
   "source": [
    "def plot_responses_rooms(floor):\n",
    "    # ax = plt.subplot(2, 2, n + 1)\n",
    "    df[floor].value_counts().plot.bar()\n",
    "    plt.ylabel(\"Count of responses\")\n",
    "    plt.title(floor.capitalize())\n",
    "\n",
    "# plt.figure(figsize=(15, 12))\n",
    "# plt.subplots_adjust(hspace=3)\n",
    "floors = ['ground-floor', '1-floor', '2-floor', '3-floor']\n",
    "\n",
    "for floor in floors:\n",
    "    plot_responses_rooms(floor)\n",
    "\n",
    "plt.savefig('plots/spaces-per-floor.jpg',\n",
    "            dpi=300, bbox_inches='tight')"
   ]
  },
  {
   "cell_type": "markdown",
   "id": "7a2e4f7e",
   "metadata": {},
   "source": [
    "# Emotions"
   ]
  },
  {
   "cell_type": "code",
   "execution_count": 8,
   "id": "ed1b248e",
   "metadata": {
    "tags": []
   },
   "outputs": [],
   "source": [
    "df_emo = df.emotion.dropna()\n",
    "\n",
    "df_emo = df_emo.apply(lambda x: x.replace('’', ''))"
   ]
  },
  {
   "cell_type": "markdown",
   "id": "4ecdce06",
   "metadata": {},
   "source": [
    "### Tokenise"
   ]
  },
  {
   "cell_type": "code",
   "execution_count": 9,
   "id": "d161f4a1",
   "metadata": {
    "tags": []
   },
   "outputs": [
    {
     "data": {
      "text/plain": [
       "1      I always feel a bit zen when I am here. Its qu...\n",
       "2                                       Cold, a bit down\n",
       "3                                                   Calm\n",
       "4                                     Hungry, a bit cold\n",
       "5      Stressed about my exams but I am happy in this...\n",
       "                             ...                        \n",
       "118                       Focused, happy and productive.\n",
       "119                                                Chill\n",
       "120                              Calm and in a good mood\n",
       "121                           Good concentration. Happy.\n",
       "122                          Safe, open, calm, relaxed. \n",
       "Name: emotion, Length: 100, dtype: object"
      ]
     },
     "execution_count": 9,
     "metadata": {},
     "output_type": "execute_result"
    }
   ],
   "source": [
    "df_emo"
   ]
  },
  {
   "cell_type": "code",
   "execution_count": 10,
   "id": "cca25a87",
   "metadata": {
    "tags": []
   },
   "outputs": [],
   "source": [
    "import string\n",
    "\n",
    "def apply_token(row):\n",
    "    stop_words = set(stopwords.words(\"english\"))\n",
    "    words_in_sent = word_tokenize(row)\n",
    "\n",
    "    filtered_list = []\n",
    "    \n",
    "    for word in words_in_sent:\n",
    "        if word.casefold() not in stop_words:\n",
    "            filtered_list.append(word)\n",
    "    \n",
    "    return filtered_list"
   ]
  },
  {
   "cell_type": "code",
   "execution_count": 11,
   "id": "32184762",
   "metadata": {
    "tags": []
   },
   "outputs": [],
   "source": [
    "df_emo = df_emo.apply(apply_token)"
   ]
  },
  {
   "cell_type": "code",
   "execution_count": 12,
   "id": "edb3be48",
   "metadata": {
    "tags": []
   },
   "outputs": [],
   "source": [
    "def cleanup(df_emo):\n",
    "    combo_emo = []\n",
    "    for row in df_emo:\n",
    "        combo_emo.append(row)\n",
    "    \n",
    "    combo_emo = list(np.concatenate(combo_emo).flat)\n",
    "    combo_emo = list(filter(lambda token: token not in string.punctuation,\n",
    "                            combo_emo))\n",
    "    combo_emo = [x.lower() for x in combo_emo]\n",
    "    \n",
    "    return combo_emo"
   ]
  },
  {
   "cell_type": "code",
   "execution_count": 13,
   "id": "e86e9874",
   "metadata": {
    "tags": []
   },
   "outputs": [],
   "source": [
    "combo_emo_list = cleanup(df_emo)"
   ]
  },
  {
   "cell_type": "code",
   "execution_count": 14,
   "id": "9181dbd9",
   "metadata": {
    "tags": []
   },
   "outputs": [
    {
     "data": {
      "text/plain": [
       "[('calm', 24),\n",
       " ('relaxed', 12),\n",
       " ('like', 10),\n",
       " ('feel', 8),\n",
       " ('happy', 8),\n",
       " ('tired', 7),\n",
       " ('good', 7),\n",
       " ('bit', 6),\n",
       " ('neutral', 6),\n",
       " ('peaceful', 5),\n",
       " ('study', 5),\n",
       " ('focused', 5),\n",
       " ('nice', 5),\n",
       " ('makes', 5),\n",
       " ('atmosphere', 5),\n",
       " ('quiet', 4),\n",
       " ('cold', 4),\n",
       " ('motivated', 4),\n",
       " ('open', 4),\n",
       " ('comfortable', 4)]"
      ]
     },
     "execution_count": 14,
     "metadata": {},
     "output_type": "execute_result"
    }
   ],
   "source": [
    "frequency_distribution = FreqDist(combo_emo_list)\n",
    "frequency_distribution.most_common(20)"
   ]
  },
  {
   "cell_type": "code",
   "execution_count": 15,
   "id": "961226c9",
   "metadata": {
    "tags": []
   },
   "outputs": [],
   "source": [
    "def frequency_distribution(lst, label):\n",
    "    top_30 = FreqDist(lst).most_common(20)\n",
    "    frequency_distribution = pd.Series(dict(top_30))\n",
    "\n",
    "    sns.set_theme(style=\"ticks\")\n",
    "    sns.barplot(y=frequency_distribution.index,\n",
    "                x=frequency_distribution.values,\n",
    "                palette = 'hls',\n",
    "                saturation = 8)\n",
    "    plt.xlabel(\"Count of responses\")\n",
    "    plt.ylabel(\"Most frequently occuring responses\")\n",
    "    plt.gcf().set_size_inches(5,7)\n",
    "    # plt.xlim(0,20)\n",
    "\n",
    "    plt.savefig('plots/' + label + '-freq-dist.jpg',\n",
    "            dpi=300, bbox_inches='tight')\n",
    "\n",
    "# frequency_distribution(combo_emo_list, 'emo')"
   ]
  },
  {
   "cell_type": "markdown",
   "id": "fda8cd38",
   "metadata": {},
   "source": [
    "calm (19), bit (6), nice (5), feel (4), quiet (4), neutral (4), relaxed (4), focused (4), noisy (3), cold (3), stressed (3), happy (3), motivated (3), peaceful (3), tired (3), good (3), study (3), building (3)\n",
    "\n",
    "Interesting to note that words associated with emotion questions also included some words about comfort such as `cold` and `noisy`. Overall, we see that words associated with emotions are a mix of emotions, moods, sentiments, that are also typically associated with learning (`stressed`, `focused`, `motivated`)"
   ]
  },
  {
   "cell_type": "markdown",
   "id": "3872d4b7",
   "metadata": {},
   "source": [
    "### Lemmatisation"
   ]
  },
  {
   "cell_type": "code",
   "execution_count": 16,
   "id": "9eae4daf",
   "metadata": {
    "tags": []
   },
   "outputs": [],
   "source": [
    "def lemmatiser(labels):\n",
    "    lemmatizer = WordNetLemmatizer()\n",
    "    lemmatized_words = [lemmatizer.lemmatize(word) for word in labels]\n",
    "    return lemmatized_words\n",
    "\n",
    "def check_collocations(lst):\n",
    "    return nltk.Text(lst).collocations()\n",
    "    \n",
    "def find_collocations(df_emo):\n",
    "    lem_emo = df_emo.apply(lemmatiser)\n",
    "    combined_emos = list(np.concatenate(lem_emo.to_list()).flat)\n",
    "    return check_collocations(combined_emos)"
   ]
  },
  {
   "cell_type": "code",
   "execution_count": 17,
   "id": "7794cf8d",
   "metadata": {
    "tags": []
   },
   "outputs": [
    {
     "name": "stdout",
     "output_type": "stream",
     "text": [
      "feel like; natural light; study Calm; feel bit; calm Calm\n"
     ]
    }
   ],
   "source": [
    "find_collocations(df_emo)"
   ]
  },
  {
   "cell_type": "markdown",
   "id": "397dd2cf",
   "metadata": {},
   "source": [
    "study calm were the most frequently occuring pair of words (collocations) in the list of emotions."
   ]
  },
  {
   "cell_type": "markdown",
   "id": "9a2ebb15",
   "metadata": {},
   "source": [
    "# Comfort"
   ]
  },
  {
   "cell_type": "code",
   "execution_count": 18,
   "id": "40b874c1",
   "metadata": {
    "tags": []
   },
   "outputs": [],
   "source": [
    "df_comfort = df.comfort.dropna()\n",
    "df_comfort = df_comfort.apply(lambda x: x.replace('’', ''))"
   ]
  },
  {
   "cell_type": "markdown",
   "id": "b26a0318",
   "metadata": {},
   "source": [
    "### Tokenise"
   ]
  },
  {
   "cell_type": "code",
   "execution_count": 19,
   "id": "05a46ea9",
   "metadata": {
    "tags": []
   },
   "outputs": [],
   "source": [
    "df_comfort = df_comfort.apply(apply_token)\n",
    "combo_comfort_list = cleanup(df_comfort)"
   ]
  },
  {
   "cell_type": "code",
   "execution_count": 20,
   "id": "b956b206-7608-4dae-ae2a-0f13fdb31bdc",
   "metadata": {
    "tags": []
   },
   "outputs": [],
   "source": [
    "combo_comfort_list = [word for word in combo_comfort_list if word != \"'s\"]"
   ]
  },
  {
   "cell_type": "code",
   "execution_count": 21,
   "id": "69f9e5ea",
   "metadata": {
    "tags": []
   },
   "outputs": [
    {
     "data": {
      "text/plain": [
       "[('comfortable', 40),\n",
       " ('light', 23),\n",
       " ('good', 20),\n",
       " ('temperature', 17),\n",
       " ('noise', 17),\n",
       " ('cold', 15),\n",
       " ('bit', 15),\n",
       " ('air', 13),\n",
       " ('nice', 11),\n",
       " ('pretty', 11),\n",
       " ('like', 10),\n",
       " ('noisy', 10),\n",
       " ('little', 10),\n",
       " ('quality', 9),\n",
       " ('feel', 9),\n",
       " ('room', 8),\n",
       " ('lot', 7),\n",
       " ('space', 6),\n",
       " ('right', 6),\n",
       " ('window', 6)]"
      ]
     },
     "execution_count": 21,
     "metadata": {},
     "output_type": "execute_result"
    }
   ],
   "source": [
    "frequency_distribution = FreqDist(combo_comfort_list)\n",
    "frequency_distribution.most_common(20)"
   ]
  },
  {
   "cell_type": "code",
   "execution_count": 22,
   "id": "0e7ff8a8-acfb-40ba-b546-412c06479a37",
   "metadata": {
    "tags": []
   },
   "outputs": [
    {
     "ename": "TypeError",
     "evalue": "'FreqDist' object is not callable",
     "output_type": "error",
     "traceback": [
      "\u001b[0;31m---------------------------------------------------------------------------\u001b[0m",
      "\u001b[0;31mTypeError\u001b[0m                                 Traceback (most recent call last)",
      "Cell \u001b[0;32mIn[22], line 1\u001b[0m\n\u001b[0;32m----> 1\u001b[0m \u001b[43mfrequency_distribution\u001b[49m\u001b[43m(\u001b[49m\u001b[43mcombo_comfort_list\u001b[49m\u001b[43m,\u001b[49m\u001b[43m \u001b[49m\u001b[38;5;124;43m'\u001b[39;49m\u001b[38;5;124;43mcomfort\u001b[39;49m\u001b[38;5;124;43m'\u001b[39;49m\u001b[43m)\u001b[49m\n",
      "\u001b[0;31mTypeError\u001b[0m: 'FreqDist' object is not callable"
     ]
    }
   ],
   "source": [
    "frequency_distribution(combo_comfort_list, 'comfort')"
   ]
  },
  {
   "cell_type": "markdown",
   "id": "5c3fc928",
   "metadata": {},
   "source": [
    "'comfortable' (23), 'light'(12), 'cold' (10), 'good' (10), 'noise' (9), 'temperature' (8), 'air' (8), 'nice' (8), 'room' (7), ('pretty', 7), ('space', 5), ('quality', 5), ('window', 5), ('fine', 5), ('like', 5), ('noisy', 5), ('little', 5), ('well', 4), ('lighting', 4), ('warm', 4), ('lot', 4), ('make', 4), ('feel', 4), ('blinds', 4), ('dark', 4), ('natural', 4), ('ok', 4), ('perfect', 3)\n",
    "\n",
    "Most focus on light and temperature followed by noise. People also noted overall space and comfort as a whole. "
   ]
  },
  {
   "cell_type": "markdown",
   "id": "c672bfe5",
   "metadata": {},
   "source": [
    "### Lemmatisation"
   ]
  },
  {
   "cell_type": "code",
   "execution_count": 23,
   "id": "c41b832e",
   "metadata": {
    "tags": []
   },
   "outputs": [
    {
     "name": "stdout",
     "output_type": "stream",
     "text": [
      "air quality; Pretty comfortable; sitting window; lecture break;\n",
      "natural light; bit noisy; could better; feel comfortable; much noise;\n",
      "bit cold; many people; Air quality; quality could; like sitting;\n",
      "really nice; background noise; like building; people room; pretty\n",
      "comfortable; lot light\n"
     ]
    }
   ],
   "source": [
    "find_collocations(df_comfort)"
   ]
  },
  {
   "cell_type": "markdown",
   "id": "261da374",
   "metadata": {},
   "source": [
    "Air quality was the most ferquently occuring word."
   ]
  },
  {
   "cell_type": "code",
   "execution_count": null,
   "id": "33aea4b5",
   "metadata": {
    "tags": []
   },
   "outputs": [],
   "source": [
    "from collections import Counter\n",
    "combo_comfort_cloud=Counter(combo_comfort_list)\n",
    "\n",
    "wordcloud = WordCloud(width=600, \n",
    "                     height=400, \n",
    "                     random_state=2, \n",
    "                     max_font_size=100).generate_from_frequencies(combo_comfort_cloud)\n",
    "\n",
    "plt.figure(figsize=(10, 7))\n",
    "plt.imshow(wordcloud, interpolation='bilinear')\n",
    "plt.axis('off');"
   ]
  },
  {
   "cell_type": "markdown",
   "id": "db6ddeda-33aa-4ffa-bd30-9807bdc85f42",
   "metadata": {},
   "source": [
    "# Sentiment Analysis"
   ]
  },
  {
   "cell_type": "code",
   "execution_count": 24,
   "id": "cbbf1add-a6ff-4853-9a40-a228a7f8586e",
   "metadata": {
    "tags": []
   },
   "outputs": [],
   "source": [
    "def sentiment_analysis(df, label):\n",
    "    analyzer = SentimentIntensityAnalyzer()\n",
    "    df[label + '-polarity'] = df[label].apply(lambda x: analyzer.polarity_scores(str(x)))\n",
    "    df = pd.concat([df, df[label + '-polarity'].apply(pd.Series)], axis=1)\n",
    "    df[label + '-sentiment'] = df['compound'].apply(lambda x: 'positive' if x >0 else 'neutral' if x==0 else 'negative')\n",
    "\n",
    "    print(\"Most positive emotion statement: \", df.loc[df['compound'].idxmax()].values)\n",
    "    print(\"\\n\")\n",
    "    print(\"Most negative emotion statement: \", df.loc[df['compound'].idxmin()].values)\n",
    "    \n",
    "    return df "
   ]
  },
  {
   "cell_type": "code",
   "execution_count": 25,
   "id": "bc6b25ca-1b69-47c3-a938-b7c3ab6c53c0",
   "metadata": {
    "tags": []
   },
   "outputs": [],
   "source": [
    "def plot_sentiment_analysis(df, label):\n",
    "    sns.countplot(y=label+'-sentiment', \n",
    "                  data=df,\n",
    "                  palette=['#b2d8d8',\"#008080\", '#db3d13'])\n",
    "    plt.ylabel(\"Sentiment for \" + label + \" Text\")\n",
    "    plt.xlabel(\"Count\")\n",
    "    plt.xlim(0,45)\n",
    "    plt.savefig('plots/' + label + '-sentiment-count.jpg',\n",
    "                dpi=300, bbox_inches='tight')\n",
    "    \n",
    "    plt.clf()\n",
    "    \n",
    "    sns.boxplot(x='floor', y='compound', data=df)\n",
    "    plt.xlabel(\"Floor\")\n",
    "    plt.ylabel(\"Sentiment Value \\n (1 = Most Positive; 0 = Neutral; -1 = Most Negative)\")\n",
    "    plt.tick_params(bottom=False)\n",
    "    plt.axhline(0, ls='--', c = 'grey')\n",
    "    plt.savefig('plots/' + label + '-sentiment-distribution.jpg',\n",
    "                dpi=300, bbox_inches='tight')\n",
    "    "
   ]
  },
  {
   "cell_type": "code",
   "execution_count": null,
   "id": "07b4a4f1-c677-4037-a86b-c349d6c92283",
   "metadata": {
    "tags": []
   },
   "outputs": [],
   "source": [
    "df = sentiment_analysis(df, 'emotion')"
   ]
  },
  {
   "cell_type": "code",
   "execution_count": 26,
   "id": "a1a9d835-f684-443d-b1de-293db5e13e8d",
   "metadata": {
    "tags": []
   },
   "outputs": [
    {
     "name": "stdout",
     "output_type": "stream",
     "text": [
      "Most positive emotion statement:  ['1st Floor' nan 'Partly covered green chairs (along glass wall)' nan nan\n",
      " 'Calm. Motivated. '\n",
      " \"I love sitting by the window to have more (natural) light. it's a bit dark otherwise and air quality could be better, but I'm allergic and therefore more sensitive. it's a bit too warm for my liking, but not necessarily unpleasant. I love the colours. Green always has a calming effect on me\"\n",
      " 'Yes' 'Yes' 'I will be only be participating in the survey'\n",
      " {'neg': 0.042, 'neu': 0.607, 'pos': 0.351, 'compound': 0.9654} 0.042\n",
      " 0.607 0.351 0.9654 'positive']\n",
      "\n",
      "\n",
      "Most negative emotion statement:  [nan nan nan nan nan 'Cold, a bit down'\n",
      " 'Temperature (it’s too cold), lack of light (but that’s because of the weather), noise (sound of rain), so not feeling very comfortable '\n",
      " nan 'Yes' 'I will be only be participating in the survey'\n",
      " {'neg': 0.265, 'neu': 0.735, 'pos': 0.0, 'compound': -0.7066} 0.265 0.735\n",
      " 0.0 -0.7066 'negative']\n"
     ]
    }
   ],
   "source": [
    "df = sentiment_analysis(df, 'comfort')"
   ]
  },
  {
   "cell_type": "code",
   "execution_count": 27,
   "id": "1a5e9293-69db-4f3f-8996-123ecd7fbf97",
   "metadata": {
    "tags": []
   },
   "outputs": [
    {
     "data": {
      "image/png": "[encoded data removed]",
      "text/plain": [
       "<Figure size 640x480 with 1 Axes>"
      ]
     },
     "metadata": {},
     "output_type": "display_data"
    }
   ],
   "source": [
    "plot_sentiment_analysis(df, 'comfort')"
   ]
  },
  {
   "cell_type": "code",
   "execution_count": null,
   "id": "a21e3298-6403-4f14-8b08-9d959794acf0",
   "metadata": {},
   "outputs": [],
   "source": []
  }
 ],
 "metadata": {
  "kernelspec": {
   "display_name": "venv",
   "language": "python",
   "name": "venv"
  },
  "language_info": {
   "codemirror_mode": {
    "name": "ipython",
    "version": 3
   },
   "file_extension": ".py",
   "mimetype": "text/x-python",
   "name": "python",
   "nbconvert_exporter": "python",
   "pygments_lexer": "ipython3",
   "version": "3.10.6"
  }
 },
 "nbformat": 4,
 "nbformat_minor": 5
}
