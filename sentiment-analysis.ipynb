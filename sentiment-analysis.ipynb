{
 "cells": [
  {
   "cell_type": "code",
   "execution_count": 1,
   "id": "5e270e4f",
   "metadata": {
    "tags": []
   },
   "outputs": [],
   "source": [
    "import string\n",
    "\n",
    "import numpy as np\n",
    "import matplotlib.pyplot as plt \n",
    "import pandas as pd\n",
    "import seaborn as sns\n",
    "# import scipy.stats as ss\n",
    "# import nltk\n",
    "# nltk.download(\"stopwords\")\n",
    "# nltk.download('wordnet')\n",
    "# nltk.download('vader_lexicon')\n",
    "\n",
    "from transformers import pipeline\n",
    "\n",
    "# from nltk.stem import PorterStemmer\n",
    "# from nltk.tokenize import sent_tokenize, word_tokenize\n",
    "# from nltk.stem import WordNetLemmatizer\n",
    "# from nltk.corpus import stopwords\n",
    "# from nltk import FreqDist\n",
    "# from nltk.sentiment import SentimentIntensityAnalyzer"
   ]
  },
  {
   "cell_type": "code",
   "execution_count": 2,
   "id": "f7e1a302-4814-4aa5-a11d-83885a45568e",
   "metadata": {},
   "outputs": [],
   "source": [
    "drop_col_emo=['occupation', 'usage', 'recruitment', 'comfort']"
   ]
  },
  {
   "cell_type": "markdown",
   "id": "24c48db1-07a4-4f38-bc32-00271a416399",
   "metadata": {},
   "source": [
    "# Students at LAB42"
   ]
  },
  {
   "cell_type": "code",
   "execution_count": 3,
   "id": "77b647ee",
   "metadata": {
    "tags": []
   },
   "outputs": [],
   "source": [
    "emo_sl42 = pd.read_csv('data/lab42_cleaned_data.csv', index_col=0).drop(columns = drop_col_emo, axis=1).dropna(subset=['emotion'])"
   ]
  },
  {
   "cell_type": "code",
   "execution_count": 4,
   "id": "3d96c5df-3423-4332-a759-7a19ac197ba6",
   "metadata": {
    "scrolled": true
   },
   "outputs": [
    {
     "data": {
      "text/html": [
       "<div>\n",
       "<style scoped>\n",
       "    .dataframe tbody tr th:only-of-type {\n",
       "        vertical-align: middle;\n",
       "    }\n",
       "\n",
       "    .dataframe tbody tr th {\n",
       "        vertical-align: top;\n",
       "    }\n",
       "\n",
       "    .dataframe thead th {\n",
       "        text-align: right;\n",
       "    }\n",
       "</style>\n",
       "<table border=\"1\" class=\"dataframe\">\n",
       "  <thead>\n",
       "    <tr style=\"text-align: right;\">\n",
       "      <th></th>\n",
       "      <th>floor</th>\n",
       "      <th>ground-floor</th>\n",
       "      <th>1-floor</th>\n",
       "      <th>2-floor</th>\n",
       "      <th>3-floor</th>\n",
       "      <th>emotion</th>\n",
       "    </tr>\n",
       "  </thead>\n",
       "  <tbody>\n",
       "    <tr>\n",
       "      <th>1</th>\n",
       "      <td>NaN</td>\n",
       "      <td>NaN</td>\n",
       "      <td>NaN</td>\n",
       "      <td>NaN</td>\n",
       "      <td>NaN</td>\n",
       "      <td>I always feel a bit zen when I am here. It’s q...</td>\n",
       "    </tr>\n",
       "    <tr>\n",
       "      <th>2</th>\n",
       "      <td>NaN</td>\n",
       "      <td>NaN</td>\n",
       "      <td>NaN</td>\n",
       "      <td>NaN</td>\n",
       "      <td>NaN</td>\n",
       "      <td>Cold, a bit down</td>\n",
       "    </tr>\n",
       "    <tr>\n",
       "      <th>3</th>\n",
       "      <td>NaN</td>\n",
       "      <td>NaN</td>\n",
       "      <td>NaN</td>\n",
       "      <td>NaN</td>\n",
       "      <td>NaN</td>\n",
       "      <td>Calm</td>\n",
       "    </tr>\n",
       "    <tr>\n",
       "      <th>4</th>\n",
       "      <td>6th Floor</td>\n",
       "      <td>NaN</td>\n",
       "      <td>NaN</td>\n",
       "      <td>NaN</td>\n",
       "      <td>NaN</td>\n",
       "      <td>Hungry, a bit cold</td>\n",
       "    </tr>\n",
       "    <tr>\n",
       "      <th>5</th>\n",
       "      <td>Ground floor</td>\n",
       "      <td>Library learning room</td>\n",
       "      <td>NaN</td>\n",
       "      <td>NaN</td>\n",
       "      <td>NaN</td>\n",
       "      <td>Stressed about my exams but I am happy in this...</td>\n",
       "    </tr>\n",
       "    <tr>\n",
       "      <th>...</th>\n",
       "      <td>...</td>\n",
       "      <td>...</td>\n",
       "      <td>...</td>\n",
       "      <td>...</td>\n",
       "      <td>...</td>\n",
       "      <td>...</td>\n",
       "    </tr>\n",
       "    <tr>\n",
       "      <th>148</th>\n",
       "      <td>1st Floor</td>\n",
       "      <td>NaN</td>\n",
       "      <td>Green group study tables (between a row of pla...</td>\n",
       "      <td>NaN</td>\n",
       "      <td>NaN</td>\n",
       "      <td>I’m a little cold, but otherwise calm and comf...</td>\n",
       "    </tr>\n",
       "    <tr>\n",
       "      <th>149</th>\n",
       "      <td>1st Floor</td>\n",
       "      <td>NaN</td>\n",
       "      <td>Yellow/white chairs &amp; tables (besides the wood...</td>\n",
       "      <td>NaN</td>\n",
       "      <td>NaN</td>\n",
       "      <td>Relaxed and focused</td>\n",
       "    </tr>\n",
       "    <tr>\n",
       "      <th>150</th>\n",
       "      <td>Ground floor</td>\n",
       "      <td>Green chairs by the entrance</td>\n",
       "      <td>NaN</td>\n",
       "      <td>NaN</td>\n",
       "      <td>NaN</td>\n",
       "      <td>Pretty relaxed</td>\n",
       "    </tr>\n",
       "    <tr>\n",
       "      <th>152</th>\n",
       "      <td>1st Floor</td>\n",
       "      <td>NaN</td>\n",
       "      <td>Green group study tables (between a row of pla...</td>\n",
       "      <td>NaN</td>\n",
       "      <td>NaN</td>\n",
       "      <td>Comfortable</td>\n",
       "    </tr>\n",
       "    <tr>\n",
       "      <th>153</th>\n",
       "      <td>1st Floor</td>\n",
       "      <td>NaN</td>\n",
       "      <td>Yellow/white chairs &amp; tables (besides the wood...</td>\n",
       "      <td>NaN</td>\n",
       "      <td>NaN</td>\n",
       "      <td>It’s good</td>\n",
       "    </tr>\n",
       "  </tbody>\n",
       "</table>\n",
       "<p>126 rows × 6 columns</p>\n",
       "</div>"
      ],
      "text/plain": [
       "            floor                  ground-floor  \\\n",
       "1             NaN                           NaN   \n",
       "2             NaN                           NaN   \n",
       "3             NaN                           NaN   \n",
       "4       6th Floor                           NaN   \n",
       "5    Ground floor         Library learning room   \n",
       "..            ...                           ...   \n",
       "148     1st Floor                           NaN   \n",
       "149     1st Floor                           NaN   \n",
       "150  Ground floor  Green chairs by the entrance   \n",
       "152     1st Floor                           NaN   \n",
       "153     1st Floor                           NaN   \n",
       "\n",
       "                                               1-floor 2-floor 3-floor  \\\n",
       "1                                                  NaN     NaN     NaN   \n",
       "2                                                  NaN     NaN     NaN   \n",
       "3                                                  NaN     NaN     NaN   \n",
       "4                                                  NaN     NaN     NaN   \n",
       "5                                                  NaN     NaN     NaN   \n",
       "..                                                 ...     ...     ...   \n",
       "148  Green group study tables (between a row of pla...     NaN     NaN   \n",
       "149  Yellow/white chairs & tables (besides the wood...     NaN     NaN   \n",
       "150                                                NaN     NaN     NaN   \n",
       "152  Green group study tables (between a row of pla...     NaN     NaN   \n",
       "153  Yellow/white chairs & tables (besides the wood...     NaN     NaN   \n",
       "\n",
       "                                               emotion  \n",
       "1    I always feel a bit zen when I am here. It’s q...  \n",
       "2                                     Cold, a bit down  \n",
       "3                                                 Calm  \n",
       "4                                   Hungry, a bit cold  \n",
       "5    Stressed about my exams but I am happy in this...  \n",
       "..                                                 ...  \n",
       "148  I’m a little cold, but otherwise calm and comf...  \n",
       "149                               Relaxed and focused   \n",
       "150                                     Pretty relaxed  \n",
       "152                                       Comfortable   \n",
       "153                                         It’s good   \n",
       "\n",
       "[126 rows x 6 columns]"
      ]
     },
     "execution_count": 4,
     "metadata": {},
     "output_type": "execute_result"
    }
   ],
   "source": [
    "emo_sl42"
   ]
  },
  {
   "cell_type": "markdown",
   "id": "8b42b309-3625-4c87-87c9-44d961ba66a2",
   "metadata": {},
   "source": [
    "# LOAD MODEL"
   ]
  },
  {
   "cell_type": "code",
   "execution_count": 5,
   "id": "f805e89d-3f41-41c0-9bfe-ceb8c725c540",
   "metadata": {
    "tags": []
   },
   "outputs": [
    {
     "name": "stderr",
     "output_type": "stream",
     "text": [
      "Some weights of the model checkpoint at cardiffnlp/twitter-roberta-base-sentiment-latest were not used when initializing RobertaForSequenceClassification: ['roberta.pooler.dense.weight', 'roberta.pooler.dense.bias']\n",
      "- This IS expected if you are initializing RobertaForSequenceClassification from the checkpoint of a model trained on another task or with another architecture (e.g. initializing a BertForSequenceClassification model from a BertForPreTraining model).\n",
      "- This IS NOT expected if you are initializing RobertaForSequenceClassification from the checkpoint of a model that you expect to be exactly identical (initializing a BertForSequenceClassification model from a BertForSequenceClassification model).\n"
     ]
    }
   ],
   "source": [
    "MODEL = f\"cardiffnlp/twitter-roberta-base-sentiment-latest\"\n",
    "sentiment_task = pipeline(\"sentiment-analysis\", model=MODEL, tokenizer=MODEL)"
   ]
  },
  {
   "cell_type": "code",
   "execution_count": 11,
   "id": "97a0f444-081a-4636-8cdc-6b25b45bebe8",
   "metadata": {},
   "outputs": [],
   "source": [
    "def sentiment_analysis(sentence):\n",
    "    return sentiment_task(sentence, top_k=3)\n",
    "\n",
    "\n",
    "def assign_scores(idx):\n",
    "    emo_sl42.at[idx, 'pos'] = next(item for item in emo_sl42['senti'][idx] if item['label'] == 'positive')['score']\n",
    "    emo_sl42.at[idx, 'neg'] = next(item for item in emo_sl42['senti'][idx] if item['label'] == 'negative')['score']\n",
    "    emo_sl42.at[idx, 'neutral'] = next(item for item in emo_sl42['senti'][idx] if item['label'] == 'neutral')['score']\n"
   ]
  },
  {
   "cell_type": "code",
   "execution_count": null,
   "id": "bbb126b3-cf3f-4ed8-8a4c-71ee41c5fe07",
   "metadata": {
    "tags": []
   },
   "outputs": [],
   "source": [
    "# 1. Calculate sentiment analysis on each emotion statement:\n",
    "emo_sl42['senti'] = emo_sl42['emotion'].apply(sentiment_analysis)"
   ]
  },
  {
   "cell_type": "code",
   "execution_count": 10,
   "id": "d3093f5b-719f-4178-a0e1-a09d06fc77be",
   "metadata": {},
   "outputs": [],
   "source": [
    "\n",
    "for idx in emo_sl42.head().index:\n",
    "    assign_scores(idx)"
   ]
  },
  {
   "cell_type": "code",
   "execution_count": null,
   "id": "08190857-13b7-4cc6-b35c-c8aeb079e303",
   "metadata": {},
   "outputs": [],
   "source": [
    "emo_sl42"
   ]
  },
  {
   "cell_type": "code",
   "execution_count": null,
   "id": "45e7ab40-3a4c-4a2a-bb7d-c8a23f2a302f",
   "metadata": {},
   "outputs": [],
   "source": [
    "sentiment_cols = ['positive', 'negative', 'neutral']\n",
    "emo_sl42[[sentiment_cols]] = 0"
   ]
  },
  {
   "cell_type": "code",
   "execution_count": null,
   "id": "0ecf21b0-e234-426f-b8ac-e3a633cd64e9",
   "metadata": {
    "tags": []
   },
   "outputs": [],
   "source": [
    "def plot_sentiment_analysis(df):\n",
    "    sns.countplot(y=df[\"label\"], \n",
    "                  data=df,\n",
    "                  palette=['#b2d8d8',\"#008080\", '#db3d13'],\n",
    "                  order=[\"positive\", \"negative\", \"neutral\"])\n",
    "    plt.ylabel(\"Sentiment for emo Text\")\n",
    "    plt.xlabel(\"Count\")\n",
    "    # plt.xlim(0,45)\n",
    "#     plt.savefig('plots/employees-' + label + '-sentiment-count.jpg',\n",
    "#                 dpi=300, bbox_inches='tight')\n",
    "    \n",
    "#     plt.clf()\n",
    "    \n",
    "#     sns.boxplot(x='floor', y='compound', data=df)\n",
    "#     plt.xlabel(\"Floor\")\n",
    "#     plt.ylabel(\"Sentiment Value \\n (1 = Most Positive; 0 = Neutral; -1 = Most Negative)\")\n",
    "#     plt.tick_params(bottom=False)\n",
    "#     plt.axhline(0, ls='--', c = 'grey')\n",
    "#     plt.savefig('plots/employees-' + label + '-sentiment-distribution.jpg',\n",
    "#                 dpi=300, bbox_inches='tight')"
   ]
  },
  {
   "cell_type": "code",
   "execution_count": null,
   "id": "a79712f6-acf0-4b7d-a8eb-7934d046aeea",
   "metadata": {
    "tags": []
   },
   "outputs": [],
   "source": [
    "plot_sentiment_analysis(df_emo)"
   ]
  },
  {
   "cell_type": "code",
   "execution_count": null,
   "id": "f208b4cb-567c-4579-b933-0dcdaf0d37f9",
   "metadata": {},
   "outputs": [],
   "source": []
  }
 ],
 "metadata": {
  "kernelspec": {
   "display_name": "venv",
   "language": "python",
   "name": "venv"
  },
  "language_info": {
   "codemirror_mode": {
    "name": "ipython",
    "version": 3
   },
   "file_extension": ".py",
   "mimetype": "text/x-python",
   "name": "python",
   "nbconvert_exporter": "python",
   "pygments_lexer": "ipython3",
   "version": "3.8.9"
  }
 },
 "nbformat": 4,
 "nbformat_minor": 5
}
