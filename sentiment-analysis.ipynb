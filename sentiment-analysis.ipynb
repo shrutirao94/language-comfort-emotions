{
 "cells": [
  {
   "cell_type": "markdown",
   "id": "38c2b419-4dac-43a8-a549-d876851ae387",
   "metadata": {},
   "source": [
    "# Sentiment Analysis\n",
    "\n",
    "1. Scaled representation of : `pos`, `neg`, `neutral` [done]\n",
    "2. Aspect-based analysis: which particular aspects or features are mentioned in a positive, neutral, or negative way. []\n",
    "3. Semantic Clustering []\n",
    "4. Feature Analysis []\n",
    "5. Aspect Similaarity co-occurance\n",
    "6. Emotion aspect co-occurance\n",
    "\n",
    "   ======\n",
    "\n",
    "1. Overall sentiment [done]\n",
    "2. Sentiment by floor and space [done]\n",
    "3. Sentiment by type of space i.e. group vs individual [done]\n",
    "4. Sentiment by topic"
   ]
  },
  {
   "cell_type": "code",
   "execution_count": 92,
   "id": "5e270e4f",
   "metadata": {
    "tags": []
   },
   "outputs": [],
   "source": [
    "import string\n",
    "\n",
    "import numpy as np\n",
    "import matplotlib.pyplot as plt \n",
    "import pandas as pd\n",
    "import seaborn as sns\n",
    "\n",
    "import nltk\n",
    "# from nltk.corpus import stopwords\n",
    "# from nltk.corpus import wordnet\n",
    "# from nltk.tokenize import word_tokenize, sent_tokenize\n",
    "# from nltk.stem.wordnet import WordNetLemmatizer \n",
    "\n",
    "# import stanfordnlp\n",
    "\n",
    "from transformers import pipeline\n",
    "from sklearn.preprocessing import MinMaxScaler\n",
    "from sklearn.preprocessing import LabelEncoder\n",
    "from nltk.sentiment import SentimentIntensityAnalyzer\n",
    "from pyabsa import ATEPCCheckpointManager\n"
   ]
  },
  {
   "cell_type": "code",
   "execution_count": 2,
   "id": "a139ac2b-96a5-41ab-b3e7-3ac03ef83cca",
   "metadata": {},
   "outputs": [
    {
     "name": "stderr",
     "output_type": "stream",
     "text": [
      "/Library/Developer/CommandLineTools/Library/Frameworks/Python3.framework/Versions/3.8/lib/python3.8/multiprocessing/pool.py:265: ResourceWarning: unclosed running multiprocessing pool <multiprocessing.pool.Pool state=RUN pool_size=1>\n",
      "  _warn(f\"unclosed running multiprocessing pool {self!r}\",\n",
      "ResourceWarning: Enable tracemalloc to get the object allocation traceback\n"
     ]
    }
   ],
   "source": [
    "# Settings\n",
    "# stanfordnlp.download('en')\n",
    "# nltk.download('stopwords')\n",
    "# nltk.download('punkt')\n",
    "# nltk.download('averaged_perceptron_tagger')"
   ]
  },
  {
   "cell_type": "code",
   "execution_count": 3,
   "id": "f7e1a302-4814-4aa5-a11d-83885a45568e",
   "metadata": {},
   "outputs": [],
   "source": [
    "drop_col_emo=['occupation', 'usage', 'recruitment']"
   ]
  },
  {
   "cell_type": "markdown",
   "id": "24c48db1-07a4-4f38-bc32-00271a416399",
   "metadata": {},
   "source": [
    "# Students at LAB42"
   ]
  },
  {
   "cell_type": "code",
   "execution_count": 26,
   "id": "77b647ee",
   "metadata": {
    "tags": []
   },
   "outputs": [],
   "source": [
    "emo_sl42 = pd.read_csv('data/lab42_cleaned_data.csv', index_col=0).drop(columns = drop_col_emo, axis=1).dropna(subset=['emotion'])"
   ]
  },
  {
   "cell_type": "markdown",
   "id": "8b42b309-3625-4c87-87c9-44d961ba66a2",
   "metadata": {},
   "source": [
    "## Emotions: LLM-based Overall Sentiment Analysis"
   ]
  },
  {
   "cell_type": "code",
   "execution_count": 27,
   "id": "f805e89d-3f41-41c0-9bfe-ceb8c725c540",
   "metadata": {
    "tags": []
   },
   "outputs": [
    {
     "name": "stderr",
     "output_type": "stream",
     "text": [
      "Some weights of the model checkpoint at cardiffnlp/twitter-roberta-base-sentiment-latest were not used when initializing RobertaForSequenceClassification: ['roberta.pooler.dense.bias', 'roberta.pooler.dense.weight']\n",
      "- This IS expected if you are initializing RobertaForSequenceClassification from the checkpoint of a model trained on another task or with another architecture (e.g. initializing a BertForSequenceClassification model from a BertForPreTraining model).\n",
      "- This IS NOT expected if you are initializing RobertaForSequenceClassification from the checkpoint of a model that you expect to be exactly identical (initializing a BertForSequenceClassification model from a BertForSequenceClassification model).\n"
     ]
    }
   ],
   "source": [
    "MODEL = f\"cardiffnlp/twitter-roberta-base-sentiment-latest\"\n",
    "sentiment_task = pipeline(\"sentiment-analysis\", model=MODEL, tokenizer=MODEL)"
   ]
  },
  {
   "cell_type": "code",
   "execution_count": 28,
   "id": "97a0f444-081a-4636-8cdc-6b25b45bebe8",
   "metadata": {},
   "outputs": [],
   "source": [
    "def sentiment_analysis(sentence):\n",
    "    return sentiment_task(sentence, top_k=3)\n",
    "\n",
    "def assign_scores(idx):\n",
    "    emo_sl42.at[idx, 'positive'] = next(item for item in emo_sl42['senti'][idx] if item['label'] == 'positive')['score']\n",
    "    emo_sl42.at[idx, 'negative'] = next(item for item in emo_sl42['senti'][idx] if item['label'] == 'negative')['score']\n",
    "    emo_sl42.at[idx, 'neutral'] = next(item for item in emo_sl42['senti'][idx] if item['label'] == 'neutral')['score']\n",
    "\n",
    "def plot_sentiment_analysis(df, label):\n",
    "    sns.countplot(y=df[label + \"_label\"], \n",
    "                  palette=['#b2d8d8',\"#008080\", '#db3d13'],\n",
    "                  order=[\"positive\", \"negative\", \"neutral\"])\n",
    "    plt.ylabel(\"Overall Sentiment for Emotion Responses\")\n",
    "    plt.xlabel(\"Count\")\n",
    "    plt.savefig('plots/sentiment-analysis/students-lab42/' + label + '-llm-sentiment-count.jpg',\n",
    "                dpi=300, bbox_inches='tight')"
   ]
  },
  {
   "cell_type": "code",
   "execution_count": 29,
   "id": "bbb126b3-cf3f-4ed8-8a4c-71ee41c5fe07",
   "metadata": {
    "tags": []
   },
   "outputs": [
    {
     "data": {
      "image/png": "[encoded data removed]",
      "text/plain": [
       "<Figure size 640x480 with 1 Axes>"
      ]
     },
     "metadata": {},
     "output_type": "display_data"
    }
   ],
   "source": [
    "# 1. Calculate sentiment analysis on each emotion statement:\n",
    "emo_sl42['senti'] = emo_sl42['emotion'].apply(sentiment_analysis)\n",
    "\n",
    "# 2. Sort Sentiment Scores into Independent Columns\n",
    "for idx in emo_sl42.index:\n",
    "    assign_scores(idx)\n",
    "\n",
    "# 3. Drop Unecessary Columns\n",
    "emo_sl42 = emo_sl42.drop(columns=['senti'])\n",
    "\n",
    "# 4. Calculate the dominant overall sentiment of the response\n",
    "emo_sl42['emo_label'] = emo_sl42[['positive', 'negative', 'neutral']].idxmax(axis=1)\n",
    "\n",
    "# 5. Plot the overall sentiments distribution\n",
    "plot_sentiment_analysis(emo_sl42, 'emo')"
   ]
  },
  {
   "cell_type": "markdown",
   "id": "bbd61594-810d-43e5-bbc1-6d9b4d23b40f",
   "metadata": {},
   "source": [
    "## Comfort: LLM-based Overall Sentiment Analysis"
   ]
  },
  {
   "cell_type": "code",
   "execution_count": 33,
   "id": "ff599c6b-780f-4299-833c-445e1e8713b1",
   "metadata": {},
   "outputs": [],
   "source": [
    "comfort_sl42 = pd.read_csv('data/lab42_cleaned_data.csv', index_col=0).drop(columns = drop_col_emo, axis=1).dropna(subset=['comfort'])"
   ]
  },
  {
   "cell_type": "code",
   "execution_count": 37,
   "id": "fa536f29-e2b1-42bc-b338-ffb4462b684c",
   "metadata": {},
   "outputs": [],
   "source": [
    "def sentiment_analysis(sentence):\n",
    "    return sentiment_task(sentence, top_k=3)\n",
    "\n",
    "def assign_scores(idx):\n",
    "    comfort_sl42.at[idx, 'positive'] = next(item for item in comfort_sl42['senti'][idx] if item['label'] == 'positive')['score']\n",
    "    comfort_sl42.at[idx, 'negative'] = next(item for item in comfort_sl42['senti'][idx] if item['label'] == 'negative')['score']\n",
    "    comfort_sl42.at[idx, 'neutral'] = next(item for item in comfort_sl42['senti'][idx] if item['label'] == 'neutral')['score']\n",
    "\n",
    "def plot_sentiment_analysis(df, label):\n",
    "    sns.countplot(y=df[label + \"_label\"], \n",
    "                  palette=['#b2d8d8',\"#008080\", '#db3d13'],\n",
    "                  order=[\"positive\", \"negative\", \"neutral\"])\n",
    "    plt.ylabel(\"Overall Sentiment for Comfort Responses\")\n",
    "    plt.xlabel(\"Count\")\n",
    "    plt.savefig('plots/sentiment-analysis/students-lab42/' + label + '-llm-sentiment-count.jpg',\n",
    "                dpi=300, bbox_inches='tight')"
   ]
  },
  {
   "cell_type": "code",
   "execution_count": 38,
   "id": "6e9ba05c-b602-490f-bbfb-6f9ec62552d8",
   "metadata": {},
   "outputs": [
    {
     "data": {
      "image/png": "[encoded data removed]",
      "text/plain": [
       "<Figure size 640x480 with 1 Axes>"
      ]
     },
     "metadata": {},
     "output_type": "display_data"
    }
   ],
   "source": [
    "# 1. Calculate sentiment analysis on each emotion statement:\n",
    "comfort_sl42['senti'] = comfort_sl42['comfort'].apply(sentiment_analysis)\n",
    "\n",
    "# 2. Sort Sentiment Scores into Independent Columns\n",
    "for idx in comfort_sl42.index:\n",
    "    assign_scores(idx)\n",
    "\n",
    "# 3. Drop Unecessary Columns\n",
    "comfort_sl42 = comfort_sl42.drop(columns=['senti'])\n",
    "\n",
    "# 4. Calculate the dominant overall sentiment of the response\n",
    "comfort_sl42['comfort_label'] = comfort_sl42[['positive', 'negative', 'neutral']].idxmax(axis=1)\n",
    "\n",
    "# 5. Plot the overall sentiments distribution\n",
    "plot_sentiment_analysis(comfort_sl42, 'comfort')"
   ]
  },
  {
   "cell_type": "markdown",
   "id": "b03e9ad0-933a-4023-a666-1f7b6b9c6854",
   "metadata": {},
   "source": [
    "# Comparing Emotion and Comfort Sentiments\n",
    "How do positive emotion labels impact comfort? What about negative emo labels? Is there any relationship between the two?"
   ]
  },
  {
   "cell_type": "code",
   "execution_count": 140,
   "id": "665a607b-f87b-4bac-999f-20929b1e80a7",
   "metadata": {},
   "outputs": [],
   "source": [
    "df = pd.read_csv('data/lab42_cleaned_data.csv', index_col=0)"
   ]
  },
  {
   "cell_type": "code",
   "execution_count": 141,
   "id": "e950bbdf-79b7-45ec-bc5e-0231388401e0",
   "metadata": {},
   "outputs": [],
   "source": [
    "df = df[[\"emotion\", \"comfort\"]].dropna(how=\"any\")"
   ]
  },
  {
   "cell_type": "code",
   "execution_count": 142,
   "id": "4aa07cc0-265a-444e-af2b-9a1571bbf836",
   "metadata": {},
   "outputs": [],
   "source": [
    "def sentiment_analysis(sentence):\n",
    "    return sentiment_task(sentence)\n",
    "    \n",
    "df_senti = df.applymap(sentiment_analysis)"
   ]
  },
  {
   "cell_type": "code",
   "execution_count": 149,
   "id": "2e76edbf-0711-4cc4-8804-1af8127c11a3",
   "metadata": {},
   "outputs": [
    {
     "data": {
      "text/html": [
       "<div>\n",
       "<style scoped>\n",
       "    .dataframe tbody tr th:only-of-type {\n",
       "        vertical-align: middle;\n",
       "    }\n",
       "\n",
       "    .dataframe tbody tr th {\n",
       "        vertical-align: top;\n",
       "    }\n",
       "\n",
       "    .dataframe thead th {\n",
       "        text-align: right;\n",
       "    }\n",
       "</style>\n",
       "<table border=\"1\" class=\"dataframe\">\n",
       "  <thead>\n",
       "    <tr style=\"text-align: right;\">\n",
       "      <th></th>\n",
       "      <th>emotion</th>\n",
       "      <th>comfort</th>\n",
       "    </tr>\n",
       "  </thead>\n",
       "  <tbody>\n",
       "    <tr>\n",
       "      <th>1</th>\n",
       "      <td>I always feel a bit zen when I am here. It’s q...</td>\n",
       "      <td>The light in the offices is perfect, as well a...</td>\n",
       "    </tr>\n",
       "    <tr>\n",
       "      <th>2</th>\n",
       "      <td>Cold, a bit down</td>\n",
       "      <td>Temperature (it’s too cold), lack of light (bu...</td>\n",
       "    </tr>\n",
       "    <tr>\n",
       "      <th>3</th>\n",
       "      <td>Calm</td>\n",
       "      <td>Comfortable temperature and pleasant lighting....</td>\n",
       "    </tr>\n",
       "    <tr>\n",
       "      <th>4</th>\n",
       "      <td>Hungry, a bit cold</td>\n",
       "      <td>Cold, quiet, well lit</td>\n",
       "    </tr>\n",
       "    <tr>\n",
       "      <th>5</th>\n",
       "      <td>Stressed about my exams but I am happy in this...</td>\n",
       "      <td>Usually it is really nice and comfortably warm...</td>\n",
       "    </tr>\n",
       "  </tbody>\n",
       "</table>\n",
       "</div>"
      ],
      "text/plain": [
       "                                             emotion  \\\n",
       "1  I always feel a bit zen when I am here. It’s q...   \n",
       "2                                   Cold, a bit down   \n",
       "3                                               Calm   \n",
       "4                                 Hungry, a bit cold   \n",
       "5  Stressed about my exams but I am happy in this...   \n",
       "\n",
       "                                             comfort  \n",
       "1  The light in the offices is perfect, as well a...  \n",
       "2  Temperature (it’s too cold), lack of light (bu...  \n",
       "3  Comfortable temperature and pleasant lighting....  \n",
       "4                             Cold, quiet, well lit   \n",
       "5  Usually it is really nice and comfortably warm...  "
      ]
     },
     "execution_count": 149,
     "metadata": {},
     "output_type": "execute_result"
    }
   ],
   "source": [
    "df.head()"
   ]
  },
  {
   "cell_type": "code",
   "execution_count": 156,
   "id": "2f8f3258-d5ad-48f1-8931-809b3de81f18",
   "metadata": {},
   "outputs": [],
   "source": [
    "df_senti = df_senti.rename(columns={'emotion':'emo_label',\n",
    "                         'comfort': 'comfort_label'})"
   ]
  },
  {
   "cell_type": "code",
   "execution_count": 158,
   "id": "ecc11029-08ae-4249-a3dd-468a952ed36f",
   "metadata": {},
   "outputs": [],
   "source": [
    "df = df_senti.join(df)"
   ]
  },
  {
   "cell_type": "code",
   "execution_count": 160,
   "id": "35a4bb40-f03c-41bd-8b64-c74f39cf110b",
   "metadata": {},
   "outputs": [
    {
     "data": {
      "text/html": [
       "<div>\n",
       "<style scoped>\n",
       "    .dataframe tbody tr th:only-of-type {\n",
       "        vertical-align: middle;\n",
       "    }\n",
       "\n",
       "    .dataframe tbody tr th {\n",
       "        vertical-align: top;\n",
       "    }\n",
       "\n",
       "    .dataframe thead th {\n",
       "        text-align: right;\n",
       "    }\n",
       "</style>\n",
       "<table border=\"1\" class=\"dataframe\">\n",
       "  <thead>\n",
       "    <tr style=\"text-align: right;\">\n",
       "      <th></th>\n",
       "      <th>emo_label</th>\n",
       "      <th>comfort_label</th>\n",
       "      <th>emotion</th>\n",
       "      <th>comfort</th>\n",
       "    </tr>\n",
       "  </thead>\n",
       "  <tbody>\n",
       "    <tr>\n",
       "      <th>1</th>\n",
       "      <td>[{'label': 'positive', 'score': 0.605559706687...</td>\n",
       "      <td>[{'label': 'positive', 'score': 0.964159250259...</td>\n",
       "      <td>I always feel a bit zen when I am here. It’s q...</td>\n",
       "      <td>The light in the offices is perfect, as well a...</td>\n",
       "    </tr>\n",
       "    <tr>\n",
       "      <th>2</th>\n",
       "      <td>[{'label': 'negative', 'score': 0.502305984497...</td>\n",
       "      <td>[{'label': 'negative', 'score': 0.876734495162...</td>\n",
       "      <td>Cold, a bit down</td>\n",
       "      <td>Temperature (it’s too cold), lack of light (bu...</td>\n",
       "    </tr>\n",
       "    <tr>\n",
       "      <th>3</th>\n",
       "      <td>[{'label': 'neutral', 'score': 0.5071429610252...</td>\n",
       "      <td>[{'label': 'positive', 'score': 0.978891074657...</td>\n",
       "      <td>Calm</td>\n",
       "      <td>Comfortable temperature and pleasant lighting....</td>\n",
       "    </tr>\n",
       "    <tr>\n",
       "      <th>4</th>\n",
       "      <td>[{'label': 'negative', 'score': 0.540023744106...</td>\n",
       "      <td>[{'label': 'neutral', 'score': 0.6064178943634...</td>\n",
       "      <td>Hungry, a bit cold</td>\n",
       "      <td>Cold, quiet, well lit</td>\n",
       "    </tr>\n",
       "    <tr>\n",
       "      <th>5</th>\n",
       "      <td>[{'label': 'positive', 'score': 0.888618528842...</td>\n",
       "      <td>[{'label': 'positive', 'score': 0.888318836688...</td>\n",
       "      <td>Stressed about my exams but I am happy in this...</td>\n",
       "      <td>Usually it is really nice and comfortably warm...</td>\n",
       "    </tr>\n",
       "  </tbody>\n",
       "</table>\n",
       "</div>"
      ],
      "text/plain": [
       "                                           emo_label  \\\n",
       "1  [{'label': 'positive', 'score': 0.605559706687...   \n",
       "2  [{'label': 'negative', 'score': 0.502305984497...   \n",
       "3  [{'label': 'neutral', 'score': 0.5071429610252...   \n",
       "4  [{'label': 'negative', 'score': 0.540023744106...   \n",
       "5  [{'label': 'positive', 'score': 0.888618528842...   \n",
       "\n",
       "                                       comfort_label  \\\n",
       "1  [{'label': 'positive', 'score': 0.964159250259...   \n",
       "2  [{'label': 'negative', 'score': 0.876734495162...   \n",
       "3  [{'label': 'positive', 'score': 0.978891074657...   \n",
       "4  [{'label': 'neutral', 'score': 0.6064178943634...   \n",
       "5  [{'label': 'positive', 'score': 0.888318836688...   \n",
       "\n",
       "                                             emotion  \\\n",
       "1  I always feel a bit zen when I am here. It’s q...   \n",
       "2                                   Cold, a bit down   \n",
       "3                                               Calm   \n",
       "4                                 Hungry, a bit cold   \n",
       "5  Stressed about my exams but I am happy in this...   \n",
       "\n",
       "                                             comfort  \n",
       "1  The light in the offices is perfect, as well a...  \n",
       "2  Temperature (it’s too cold), lack of light (bu...  \n",
       "3  Comfortable temperature and pleasant lighting....  \n",
       "4                             Cold, quiet, well lit   \n",
       "5  Usually it is really nice and comfortably warm...  "
      ]
     },
     "execution_count": 160,
     "metadata": {},
     "output_type": "execute_result"
    }
   ],
   "source": [
    "df.head()"
   ]
  },
  {
   "cell_type": "code",
   "execution_count": 161,
   "id": "474cc43b-b87a-4062-b055-a24bf7b2d488",
   "metadata": {},
   "outputs": [],
   "source": [
    "def assign_labels(idx):\n",
    "    # print(idx)\n",
    "    # print(df['emotion'][idx][0]['label'])\n",
    "    df['emo_label'][idx] = df['emo_label'][idx][0]['label']\n",
    "    df['comfort_label'][idx] =  df['comfort_label'][idx][0]['label']"
   ]
  },
  {
   "cell_type": "code",
   "execution_count": 162,
   "id": "e209b3ea-1e2f-41ed-bc5a-a236e1b29007",
   "metadata": {},
   "outputs": [],
   "source": [
    "for idx in df.index:\n",
    "   assign_labels(idx)"
   ]
  },
  {
   "cell_type": "code",
   "execution_count": 164,
   "id": "1f1e140c-8d8c-4c67-bc6b-7e334a5bea05",
   "metadata": {},
   "outputs": [],
   "source": [
    "df[['emo_label', 'comfort_label']] = df[['emo_label', 'comfort_label']].replace({'positive': 1, \n",
    "                                                                                 'negative': -1,\n",
    "                                                                                 'neutral': 0})"
   ]
  },
  {
   "cell_type": "code",
   "execution_count": 188,
   "id": "705969bb-8b76-40c2-b298-fe607ceef532",
   "metadata": {},
   "outputs": [
    {
     "data": {
      "text/plain": [
       "emo_label  comfort_label\n",
       " 1          1               52\n",
       " 0          1               22\n",
       " 1          0               16\n",
       "-1         -1                6\n",
       "            1                6\n",
       " 0         -1                6\n",
       "            0                5\n",
       "-1          0                4\n",
       " 1         -1                4\n",
       "dtype: int64"
      ]
     },
     "execution_count": 188,
     "metadata": {},
     "output_type": "execute_result"
    }
   ],
   "source": [
    "df[['emo_label', 'comfort_label']].value_counts()"
   ]
  },
  {
   "cell_type": "code",
   "execution_count": 217,
   "id": "26b9b2a3-a29c-4eec-b865-9cbdd8ed990f",
   "metadata": {},
   "outputs": [
    {
     "data": {
      "text/plain": [
       "<matplotlib.legend.Legend at 0x1527d20a0>"
      ]
     },
     "execution_count": 217,
     "metadata": {},
     "output_type": "execute_result"
    },
    {
     "data": {
      "image/png": "[encoded data removed]",
      "text/plain": [
       "<Figure size 800x600 with 1 Axes>"
      ]
     },
     "metadata": {},
     "output_type": "display_data"
    }
   ],
   "source": [
    "grouped = df.groupby(['emo_label', 'comfort_label']).size().unstack(fill_value=0)\n",
    "\n",
    "# Reset the index to use 'Emotion' as a column\n",
    "grouped = grouped.reset_index()\n",
    "\n",
    "# Melt the data to create a tidy format for Seaborn\n",
    "melted = pd.melt(grouped,\n",
    "                 id_vars=['emo_label'],\n",
    "                 value_vars=[-1, 0, 1],\n",
    "                 var_name='comfort_label',\n",
    "                 value_name='Count')\n",
    "\n",
    "# Map comfort values to colors\n",
    "comfort_colors = {-1: 'red', 0: 'gray', 1: 'green'}\n",
    "melted['Comfort_color'] = melted['comfort_label'].map(comfort_colors)\n",
    "\n",
    "labels = ['Negative', 'Neutral', 'Positive']\n",
    "\n",
    "# Create a grouped bar plot using Seaborn\n",
    "plt.figure(figsize=(8, 6))\n",
    "ax = sns.barplot(data=melted, x='emo_label', y='Count', hue='comfort_label')\n",
    "plt.xlabel('Emotion Sentiments')\n",
    "ax.set_xticklabels(['Negative', 'Neutral', 'Positive'])\n",
    "plt.ylabel('Count')\n",
    "plt.title('Relationship between Emotion and Comfort Sentiment Labels')\n",
    "\n",
    "h, l = ax.get_legend_handles_labels()\n",
    "ax.legend(h, labels, title='Comfort Sentiments')\n",
    "plt.savefig('plots/emotion-vs-comf.jpg',\n",
    "            dpi=300, bbox_inches='tight')"
   ]
  },
  {
   "cell_type": "markdown",
   "id": "b7c27028-e447-474c-8fdf-a735a7afd84c",
   "metadata": {},
   "source": [
    "##@ Overview of Relationship between Emotions and Comfort\n",
    "Positive emotion --> positive comfort (N=52) 42%\n",
    "\n",
    "Positive emotion --> neutral comfort (N=16) 13%\n",
    "\n",
    "Neutral emotion --> positive comfort (N=22) 18%\n",
    "\n",
    "Very rare that positive emotions --> negative comfort (N=4) 0.03%\n",
    "\n",
    "Very rare that negative emotions --> positive comfort (N=4) 0.03%\n",
    "\n",
    "Very rare that neutral emotions --> negative or neutral comfort (N=6/5)"
   ]
  },
  {
   "cell_type": "code",
   "execution_count": 184,
   "id": "775bc912-c90f-4f77-b727-6d9296a90779",
   "metadata": {},
   "outputs": [
    {
     "name": "stdout",
     "output_type": "stream",
     "text": [
      "*:  i like the fact that there is some sort of background noise (which isnt the case in the library rooms) and the chairs are really comfortable\n",
      "*:  I like the windows providing natural light. Temperature is okay.\n",
      "*:  Temperature good but should not be colder. Not a lot of noise some peeps are talking behind. Air quality is superb, no just fine dont know. Light is ok\n",
      "*:  Everything alright\n",
      "*:  All factors good. The sunlight is blidndinh me but also I want it - maybe u have a solution for semi closing manually adaptable blinds\n",
      "*:  There is ample lighting, air is a little stuffy, temperature is decent.\n"
     ]
    }
   ],
   "source": [
    "for row in df[(df['emo_label']== -1) & (df['comfort_label'] == 1)].comfort:\n",
    "    print(\"*: \", row)"
   ]
  },
  {
   "cell_type": "code",
   "execution_count": 185,
   "id": "bc8382bf-0748-4dae-91e1-85d30fc164e1",
   "metadata": {},
   "outputs": [
    {
     "name": "stdout",
     "output_type": "stream",
     "text": [
      "*:  Good, but Please stop closing the blinds ! The whole point of this room is that it’s so nicely lit so it’s very sad when the blinds get closed and it becomes as dark and gloomy as any other study room :(\n",
      "*:  All is good, only a high sound is annoying. I think from te beamer.  And I'm not sure If you should be silent in this room or not\n",
      "*:  I think the temperature is a bit too low, I tend to get cold feet and hands quite quickly after studying a while in here. Concerning light and noise, it is just right, I don’t have any remarks here. I do think it would feel a little more comfortable with some more plants littered around the place!\n",
      "*:  Bit to much noise. And i am uncomfortable with my legs because of the high chairs\n"
     ]
    }
   ],
   "source": [
    "for row in df[(df['emo_label']== 1) & (df['comfort_label'] == -1)].comfort:\n",
    "    print(\"*: \", row)"
   ]
  },
  {
   "cell_type": "code",
   "execution_count": 186,
   "id": "60a273c5-c13b-448f-ab4e-a2cb7ace0b50",
   "metadata": {},
   "outputs": [
    {
     "name": "stdout",
     "output_type": "stream",
     "text": [
      "*:  Its cold and kind of noisy\n",
      "*:  The irregularity of the automatic sun blockers often make it very sunny inside, making it uncomfortable to study by the window (light blocking the screen. Air quality is slightly worse than in the open/staircase area. Besides that, very comfortable in all other aspects.\n",
      "*:  It is very cold here and not so light\n",
      "*:  Chairs are not very comfortable and it's loud when classes end. \n",
      "*:  My chair makes my back hurt and I the lack chalkboards gives me existential pain. 7/10\n",
      "*:  Freezing cold, full noise\n"
     ]
    }
   ],
   "source": [
    "for row in df[(df['emo_label']== 0) & (df['comfort_label'] == -1)].comfort:\n",
    "    print(\"*: \", row)"
   ]
  },
  {
   "cell_type": "markdown",
   "id": "9947d9a0-3e1f-4340-9805-86d53ce64f09",
   "metadata": {},
   "source": [
    "## Lexicon-based Analysis using VADER\n",
    "Here we are interested in the rule-based analysis. The compound score is computed by summing the \n",
    "valence scores of each word in the lexicon, adjusted according to the rules, and then normalized \n",
    "to be between -1 (most extreme negative) and +1 (most extreme positive). \n",
    "It is a 'normalized, weighted composite score."
   ]
  },
  {
   "cell_type": "code",
   "execution_count": null,
   "id": "8b8a48ac-8a2d-4275-ab5c-dfa460a45280",
   "metadata": {},
   "outputs": [],
   "source": [
    "def vader_lexicon_analysis(df, label):\n",
    "    analyzer = SentimentIntensityAnalyzer()\n",
    "    df[label + '-composite-score'] = df[label].apply(lambda x: analyzer.polarity_scores(str(x))['compound'])\n",
    "    \n",
    "    return df \n",
    "\n",
    "def plot_lexicon_analysis(df, label):\n",
    "    sns.boxplot(x='floor', y='emotion-composite-score', data=df)\n",
    "    plt.xlabel(\"Floor\")\n",
    "    plt.ylabel(\"Lexicon-based Normalised Weighted Composite Score \\n (1 = Most Positive; 0 = Neutral; -1 = Most Negative)\")\n",
    "    plt.tick_params(bottom=False)\n",
    "    plt.axhline(0, ls='--', c = 'grey')\n",
    "    plt.savefig('plots/sentiment-analysis/students-lab42/' +\n",
    "                label +\n",
    "                '-vader-lexicon-composite.jpg',\n",
    "                dpi=300,\n",
    "                bbox_inches='tight')\n",
    "\n",
    "    plt.clf()\n",
    "\n",
    "    sns.displot(x='emotion-composite-score', kde=True, \n",
    "                height=4,\n",
    "                aspect=1.5,\n",
    "                data=emo_sl42)\n",
    "    plt.xlabel(\"Lexicon-Based Normalised Weighted Composite Scores for Sentiments \\n (1 = Most Positive; 0 = Neutral; -1 = Most Negative)\")\n",
    "    plt.tick_params(bottom=False)\n",
    "    plt.axhline(0, ls='--', c = 'grey')\n",
    "    plt.savefig('plots/sentiment-analysis/students-lab42/' +\n",
    "                label +\n",
    "                '-distribution-lexicon-composite.jpg',\n",
    "                dpi=300,\n",
    "                bbox_inches='tight')\n",
    "    plt.clf()\n",
    "\n",
    "    sns.displot(x='emotion-composite-score', y='emo_label',\n",
    "                binwidth=(.2, .1),\n",
    "                height=4,\n",
    "                aspect=1.5,\n",
    "                data=emo_sl42)\n",
    "    plt.xlabel(\"Lexicon-Based Normalised Weighted Composite Scores for Sentiments \\n (1 = Most Positive; 0 = Neutral; -1 = Most Negative)\")\n",
    "    plt.ylabel(\"LLM Generated Sentiment Labels\")\n",
    "    plt.tick_params(bottom=False)\n",
    "    plt.savefig('plots/sentiment-analysis/students-lab42/' +\n",
    "                label +\n",
    "                '-vader-vs-lexicon-composite.jpg',\n",
    "                dpi=300,\n",
    "                bbox_inches='tight')\n",
    "\n",
    "def plot_sentiment_analysis_spaces(df, label):\n",
    "    df = df.where(df[\"space-type\"] != \"\").dropna(how=\"all\")\n",
    "    f = plt.figure(figsize=(10, 6))\n",
    "    sns.boxplot(x='space-type', y='compound', width=0.5,\n",
    " data=df)\n",
    "    plt.xlabel(\"Space Type\")\n",
    "    plt.ylabel(\"Sentiment Value \\n (1 = Most Positive; 0 = Neutral; -1 = Most Negative)\")\n",
    "    plt.tick_params(bottom=False)\n",
    "    plt.axhline(0, ls='--', c = 'grey')\n",
    "    plt.savefig('plots/lab42-' + label + '-space-wise-sentiment-distribution.jpg',\n",
    "                dpi=300, bbox_inches='tight')"
   ]
  },
  {
   "cell_type": "code",
   "execution_count": null,
   "id": "ba05b071-15eb-43c8-b4c2-3e692ae5411a",
   "metadata": {
    "scrolled": true
   },
   "outputs": [],
   "source": [
    "emo_sl42 = vader_lexicon_analysis(emo_sl42, 'emotion')\n",
    "plot_lexicon_analysis(emo_sl42, 'emotion')"
   ]
  },
  {
   "cell_type": "markdown",
   "id": "e40769e0-9f27-4273-ab44-e7f8bbae766c",
   "metadata": {},
   "source": [
    "## Scale data to scores between -1 and 1\n",
    "Polarity score in the range of -1 to -0.5 typically indicates negative sentiment\n",
    "Polarity score greater than -0.5 and less than +0.5 typically indicates neutral sentiment\n",
    "Polarity score in the range of +0.5 to 1 typically indicates positive sentiment"
   ]
  },
  {
   "cell_type": "code",
   "execution_count": null,
   "id": "52582e49-b5f5-4cc7-a157-f35cfda248f8",
   "metadata": {},
   "outputs": [],
   "source": [
    "def scale_emotion_values():\n",
    "    labels = ['positive', 'negative', 'neutral']\n",
    "    scales = [(0.5, 1.0), (-1.0, -0.5), (-0.5, 0.5)]\n",
    "    emo_sl42['scaled_scores'] = 0\n",
    "    \n",
    "    for label, scale in zip(labels, scales):\n",
    "        values = np.array(emo_sl42[label][emo_sl42['emo_label'] == label]).reshape(-1,1)\n",
    "        idx = emo_sl42.index[emo_sl42['emo_label'] == label].to_list()\n",
    "        scaled_values = minmax_scaler(scale, values, idx)\n",
    "        emo_sl42.loc[idx,'scaled_scores'] = scaled_values\n",
    "    \n",
    "    return emo_sl42\n",
    "\n",
    "\n",
    "def minmax_scaler(scale, values, idx):\n",
    "    scaler = MinMaxScaler(feature_range = scale)\n",
    "    scaled_values = pd.Series(scaler.fit_transform(values).flatten()).set_axis(idx)\n",
    "    \n",
    "    return scaled_values "
   ]
  },
  {
   "cell_type": "code",
   "execution_count": null,
   "id": "5453f1f5-f674-4298-9396-ec1befa53598",
   "metadata": {},
   "outputs": [],
   "source": [
    "emo_sl42 = scale_emotion_values()"
   ]
  },
  {
   "cell_type": "code",
   "execution_count": null,
   "id": "97da4ba8-7eea-4f12-86c1-88e4e6618d1f",
   "metadata": {},
   "outputs": [],
   "source": [
    "group = ['Round tables by the three plants (across wooden staircase)',\n",
    "                        'Next to the lockers',\n",
    "                        'Study corner next to the plant wall',\n",
    "                        'Yellow/white chairs & tables (besides the wooden staircase)',\n",
    "                        'Tables on the landing (with wooden floor) accessible by the black staircase',\n",
    "                        'Green group study tables (between a row of plants and railing)',\n",
    "                        'Group tables by the stairs',\n",
    "                        'Open lounge area',\n",
    "                        'Near the printer',\n",
    "                        'Round tables by the coffee machine']\n",
    "\n",
    "individual =  ['Library learning room',\n",
    "                             'Green chairs by the entrance',\n",
    "                             'Partly covered green chairs (along glass wall)']\n",
    "\n",
    "unsure = [\"Unsure\"]\n",
    "\n",
    "def assign_types_to_spaces(space):\n",
    "    if space in group:\n",
    "        return \"group\"\n",
    "    if space in individual:\n",
    "        return \"individual\"\n",
    "    if space in unsure:\n",
    "        return \"unsure\"\n",
    "    \n",
    "def merge_spaces(df):\n",
    "    df[\"space-type\"] = df[\"space-ground-floor\"] + df[\"space-1-floor\"] + df[\"space-2-floor\"] + df[\"space-3-floor\"]\n",
    "    df = df.drop(columns =[\"space-ground-floor\", \"space-1-floor\", \"space-2-floor\", \"space-3-floor\"])\n",
    "    \n",
    "    return df\n",
    "\n",
    "\n",
    "def create_group_solo_space_labels(df):\n",
    "    spaces = [\"ground-floor\", \"1-floor\", \"2-floor\", \"3-floor\"]\n",
    "    \n",
    "    for space in spaces:\n",
    "        df[\"space-\" + space] = df[space].apply(lambda space: assign_types_to_spaces(space)).fillna(\"\")\n",
    "    \n",
    "    return df\n",
    "\n",
    "\n",
    "def plot_sentiment_analysis_spaces(df, label):\n",
    "    df = df.where(df[\"space-type\"] != \"\").dropna(how=\"all\")\n",
    "    f = plt.figure(figsize=(10, 6))\n",
    "    sns.boxplot(x='space-type', y='scaled_scores',\n",
    "                width=0.5,\n",
    "                data=df)\n",
    "    plt.xlabel(\"Space Type\")\n",
    "    plt.ylabel(\"Sentiment Value \\n (1 = Most Positive; 0 = Neutral; -1 = Most Negative)\")\n",
    "    plt.tick_params(bottom=False)\n",
    "    plt.axhline(0, ls='--', c = 'grey')\n",
    "    plt.savefig('plots/lab42-' + label + '-space-wise-sentiment-distribution.jpg',\n",
    "                dpi=300, bbox_inches='tight')"
   ]
  },
  {
   "cell_type": "code",
   "execution_count": null,
   "id": "240769a1-5be4-4c2e-affe-3baa007832b7",
   "metadata": {},
   "outputs": [],
   "source": [
    "df = create_group_solo_space_labels(emo_sl42)\n",
    "df = merge_spaces(df)\n",
    "plot_sentiment_analysis_spaces(df, 'emotion')"
   ]
  },
  {
   "cell_type": "code",
   "execution_count": null,
   "id": "945fd417-4d0a-4ebc-820b-a21139d6557b",
   "metadata": {},
   "outputs": [],
   "source": [
    "def plot_overview_sentiment_analysis_spaces(df, label):\n",
    "    df = df.where(df[\"space-type\"] != \"\").dropna(how=\"all\")\n",
    "    f = plt.figure(figsize=(10, 6))\n",
    "    sns.catplot(data=df, \n",
    "                x=\"floor\", y='scaled_scores',\n",
    "                hue=\"emo_label\",\n",
    "                col=\"space-type\",\n",
    "                kind=\"swarm\" )\n",
    "    plt.xlabel(\"Floor\")\n",
    "    plt.ylabel(\"Scaled Sentiment Value \\n (1 = Most Positive; 0 = Neutral; -1 = Most Negative)\")\n",
    "    plt.tick_params(bottom=False)\n",
    "    plt.savefig('plots/lab42-' + label + 'floor-space-wise-sentiment-distribution.jpg',\n",
    "                dpi=300, bbox_inches='tight')\n",
    "\n",
    "\n",
    "\n",
    "# sns.countplot(y=emo_sl42[\"emo_label\"], palette=['#b2d8d8',\"#008080\", '#db3d13'],order=[\"positive\", \"negative\", \"neutral\"])"
   ]
  },
  {
   "cell_type": "code",
   "execution_count": null,
   "id": "e48387a8-852f-4800-bc70-4381324b9991",
   "metadata": {},
   "outputs": [],
   "source": [
    "plot_overview_sentiment_analysis_spaces(emo_sl42, \"emo\")"
   ]
  },
  {
   "cell_type": "code",
   "execution_count": null,
   "id": "7ee9b550-9851-4820-8d77-b37e64c982db",
   "metadata": {},
   "outputs": [],
   "source": [
    "emo_sl42['dominant_emo_val'] = emo_sl42[['positive', 'negative', 'neutral']].max(axis=1)\n"
   ]
  },
  {
   "cell_type": "code",
   "execution_count": null,
   "id": "53e56caf-af30-4394-883f-e1781ee56903",
   "metadata": {
    "scrolled": true
   },
   "outputs": [],
   "source": [
    "sns.catplot(x='emo_label', y='dominant_emo_val', hue=\"space-type\",\n",
    "            kind=\"bar\", errorbar=None, data=emo_sl42)"
   ]
  },
  {
   "cell_type": "markdown",
   "id": "c68eb827-4ef8-4bc4-80f1-4cfe84ba8043",
   "metadata": {},
   "source": [
    "## Aspect-Based Sentiment Analysis\n",
    "\n",
    "maybe train your own model: https://github.com/shwe24/Aspect-Based-Sentiment-Classification/blob/main/Aspect_Extraction.ipynb"
   ]
  },
  {
   "cell_type": "code",
   "execution_count": null,
   "id": "91e38301-db7d-49ef-a947-1b4f0e891aa6",
   "metadata": {},
   "outputs": [],
   "source": [
    "txt = emo_sl42.emotion[1]"
   ]
  },
  {
   "cell_type": "code",
   "execution_count": null,
   "id": "6e9520f6-9e4e-4cea-87bd-86b1719f5102",
   "metadata": {},
   "outputs": [],
   "source": [
    "txt"
   ]
  },
  {
   "cell_type": "code",
   "execution_count": null,
   "id": "556ea4fd-78b7-4f9e-b752-fb22da9540e1",
   "metadata": {},
   "outputs": [],
   "source": [
    "from transformers import AutoTokenizer, AutoModelForSequenceClassification\n",
    "import torch.nn.functional as F\n",
    "from transformers import pipeline"
   ]
  },
  {
   "cell_type": "code",
   "execution_count": null,
   "id": "88bf6f6b-001d-4d7c-b2db-d98f3a25419a",
   "metadata": {},
   "outputs": [],
   "source": [
    "# Load Aspect-Based Sentiment Analysis model\n",
    "absa_tokenizer = AutoTokenizer.from_pretrained(\"yangheng/deberta-v3-base-absa-v1.1\")\n",
    "absa_model = AutoModelForSequenceClassification.from_pretrained(\"yangheng/deberta-v3-base-absa-v1.1\")"
   ]
  },
  {
   "cell_type": "code",
   "execution_count": null,
   "id": "a48277ac-75b0-448d-aee3-3d92aef76efb",
   "metadata": {},
   "outputs": [],
   "source": [
    "txt = 'It’s quiet and not noisy. '"
   ]
  },
  {
   "cell_type": "code",
   "execution_count": null,
   "id": "268b64bc-41d3-497c-a5bb-36c8a9c70a50",
   "metadata": {},
   "outputs": [],
   "source": [
    "# ABSA of \"food\"\n",
    "aspect = \"noisy\"\n",
    "inputs = absa_tokenizer(f\"[CLS] {txt} [SEP] {aspect} [SEP]\", return_tensors=\"pt\")\n",
    "outputs = absa_model(**inputs)\n",
    "probs = F.softmax(outputs.logits, dim=1)\n",
    "probs = probs.detach().numpy()[0]\n",
    "print(f\"Sentiment of aspect '{aspect}' is:\")\n",
    "for prob, label in zip(probs, [\"negative\", \"neutral\", \"positive\"]):\n",
    "  print(f\"Label {label}: {prob}\")\n",
    "print()"
   ]
  },
  {
   "cell_type": "code",
   "execution_count": null,
   "id": "f895676f-2580-40bf-837e-6a5c16fb5702",
   "metadata": {},
   "outputs": [],
   "source": [
    "# Overall sentiment of the sentence\n",
    "sentiment = sentiment_task(txt)[0]\n",
    "print(f\"Overall sentiment: {sentiment['label']} with score {sentiment['score']}\")\n",
    "# Overall sentiment: Negative with score 0.7706006765365601"
   ]
  },
  {
   "cell_type": "code",
   "execution_count": null,
   "id": "f4dadd32-6227-4ca5-bfbe-abbe3541ce94",
   "metadata": {},
   "outputs": [],
   "source": [
    "txt = emo_sl42.emotion[148]"
   ]
  },
  {
   "cell_type": "code",
   "execution_count": null,
   "id": "4957744a-0153-43b5-9bb5-dd82252cd2b7",
   "metadata": {},
   "outputs": [],
   "source": [
    "text = word_tokenize(txt)"
   ]
  },
  {
   "cell_type": "code",
   "execution_count": null,
   "id": "83b033d0-d83e-4446-9dd0-7bd5dcf62a1c",
   "metadata": {},
   "outputs": [],
   "source": [
    "nltk.pos_tag(text)"
   ]
  },
  {
   "cell_type": "code",
   "execution_count": null,
   "id": "8dda8152-5c4a-4824-aec9-c230e5b733b7",
   "metadata": {},
   "outputs": [],
   "source": [
    "import spacy\n",
    "emo_aspect_terms = []\n",
    "\n",
    "nlp = spacy.load(\"en_core_web_sm\")\n",
    "\n",
    "\n",
    "for review in nlp.pipe(emo_sl42.emotion):\n",
    "    chunks = [(chunk.root.text) for chunk in review.noun_chunks if chunk.root.pos_ == 'CCONJ']\n",
    "    emo_aspect_terms.append(' '.join(chunks))\n",
    "emo_sl42['emo_aspect_terms'] = emo_aspect_terms"
   ]
  },
  {
   "cell_type": "code",
   "execution_count": null,
   "id": "f525e16b-787b-432c-a69c-665e4d4f638a",
   "metadata": {},
   "outputs": [],
   "source": [
    "emo_sl42.emo_aspect_terms"
   ]
  },
  {
   "cell_type": "code",
   "execution_count": null,
   "id": "70861a60-fccc-41b9-852d-94b947a56144",
   "metadata": {},
   "outputs": [],
   "source": [
    "txt"
   ]
  },
  {
   "cell_type": "code",
   "execution_count": null,
   "id": "9f2f6660-d9c9-4780-950d-0665b800d091",
   "metadata": {},
   "outputs": [],
   "source": [
    "import spacy\n",
    "nlp = spacy.load(\"en_core_web_sm\")\n"
   ]
  },
  {
   "cell_type": "code",
   "execution_count": null,
   "id": "f5f8dd75-2de9-459d-b574-5d14c3da99fe",
   "metadata": {},
   "outputs": [],
   "source": [
    "txt = \"I’m a little cold, but otherwise calm and comfortable\""
   ]
  },
  {
   "cell_type": "code",
   "execution_count": null,
   "id": "faa41914-6f44-40a4-8723-23a654b29802",
   "metadata": {},
   "outputs": [],
   "source": [
    "import spacy\n",
    "\n",
    "nlp = spacy.load(\"en_core_web_sm\")\n",
    "doc = nlp(txt)\n",
    "\n",
    "for token in doc:\n",
    "    print(token.text, token.pos_, token.tag_, token.dep_,\n",
    "            token.shape_, token.is_alpha, token.is_stop)"
   ]
  },
  {
   "cell_type": "code",
   "execution_count": null,
   "id": "0ba13d31-a93b-44c6-8792-403db00aadc2",
   "metadata": {},
   "outputs": [],
   "source": [
    "import spacy\n",
    "from spacy.matcher import Matcher\n",
    "\n",
    "nlp = spacy.load(\"en_core_web_sm\")\n",
    "\n",
    "matcher = Matcher(nlp.vocab)\n",
    "\n",
    "patterns = [\n",
    "    [{'POS':'ADJ'}],\n",
    "    ]\n",
    "matcher.add(\"demo\", patterns)\n",
    "\n",
    "doc = nlp(txt)\n",
    "matches = matcher(doc)\n",
    "for match_id, start, end in matches:\n",
    "    string_id = nlp.vocab.strings[match_id]  # Get string representation\n",
    "    span = doc[start:end]  # The matched span\n",
    "    print(match_id, string_id, start, end, span.text)"
   ]
  },
  {
   "cell_type": "code",
   "execution_count": null,
   "id": "89a795e7-cc55-4708-b1b5-6dd7bc601345",
   "metadata": {},
   "outputs": [],
   "source": [
    "import spacy\n",
    "\n",
    "txt = \"I’m a little cold, but otherwise a bit calm and comfortable\"\n",
    "nlp = spacy.load(\"en_core_web_sm\")\n",
    "doc = nlp(txt)\n",
    "\n",
    "for token in doc:\n",
    "    print(token.text,token.pos_)\n"
   ]
  },
  {
   "cell_type": "code",
   "execution_count": null,
   "id": "45fb5085-2b94-47f9-a7a9-b968cb0fcc91",
   "metadata": {},
   "outputs": [],
   "source": [
    "from spacy.matcher import DependencyMatcher\n",
    "\n",
    "\n",
    "pattern = [\n",
    "  {\n",
    "    \"RIGHT_ID\": \"target\",\n",
    "    \"RIGHT_ATTRS\": {\"POS\": \"ADJ\"}\n",
    "  },\n",
    "  # founded -> subject\n",
    "  {\n",
    "    \"LEFT_ID\": \"target\",\n",
    "    \"REL_OP\": \">\",\n",
    "    \"RIGHT_ID\": \"modifier\",\n",
    "    \"RIGHT_ATTRS\": {\"DEP\": {\"IN\": [\"amod\", \"nummod\"]}}\n",
    "  },\n",
    "]\n",
    "\n",
    "matcher = DependencyMatcher(nlp.vocab)\n",
    "matcher.add(\"FOUNDED\", [pattern])\n",
    "txt = \"I’m a little cold, but otherwise a bit calm and comfortable\"\n",
    "doc = nlp(txt)\n",
    "for match_id, (target, modifier) in matcher(doc):\n",
    "    print(doc[modifier], doc[target], sep=\"\\t\")"
   ]
  },
  {
   "cell_type": "code",
   "execution_count": null,
   "id": "2c3c378b-0eb3-48ff-84cc-a53d72590621",
   "metadata": {},
   "outputs": [],
   "source": [
    "noun_adj_pairs = {}\n",
    "for chunk in doc.ad:\n",
    "    adj = []\n",
    "    noun = \"\"\n",
    "    for tok in chunk:\n",
    "        if tok.pos_ == \"NOUN\":\n",
    "            noun = tok.text\n",
    "        if tok.pos_ == \"ADJ\" or tok.pos_ == \"CCONJ\":\n",
    "            adj.append(tok.text)\n",
    "    if noun:\n",
    "        noun_adj_pairs.update({noun:\" \".join(adj)})\n",
    "\n",
    "noun_adj_pairs\n"
   ]
  },
  {
   "cell_type": "code",
   "execution_count": null,
   "id": "9dbab16b-90b7-4ddb-b589-f966159ee207",
   "metadata": {},
   "outputs": [],
   "source": []
  }
 ],
 "metadata": {
  "kernelspec": {
   "display_name": "venv",
   "language": "python",
   "name": "venv"
  },
  "language_info": {
   "codemirror_mode": {
    "name": "ipython",
    "version": 3
   },
   "file_extension": ".py",
   "mimetype": "text/x-python",
   "name": "python",
   "nbconvert_exporter": "python",
   "pygments_lexer": "ipython3",
   "version": "3.8.9"
  }
 },
 "nbformat": 4,
 "nbformat_minor": 5
}
