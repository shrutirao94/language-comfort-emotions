{
 "cells": [
  {
   "cell_type": "markdown",
   "id": "38c2b419-4dac-43a8-a549-d876851ae387",
   "metadata": {},
   "source": [
    "# Sentiment Analysis\n",
    "\n",
    "1. Scaled representation of : `pos`, `neg`, `neutral` [done]\n",
    "2. Aspect-based analysis: which particular aspects or features are mentioned in a positive, neutral, or negative way. []\n",
    "3. Semantic Clustering []\n",
    "4. Feature Analysis []\n",
    "5. Aspect Similaarity co-occurance\n",
    "6. Emotion aspect co-occurance\n",
    "\n",
    "   ======\n",
    "\n",
    "1. Overall sentiment [done]\n",
    "2. Sentiment by floor and space [done]\n",
    "3. Sentiment by type of space i.e. group vs individual [done]\n",
    "4. Sentiment by topic"
   ]
  },
  {
   "cell_type": "code",
   "execution_count": 1,
   "id": "5e270e4f",
   "metadata": {
    "tags": []
   },
   "outputs": [],
   "source": [
    "import string\n",
    "import re\n",
    "\n",
    "import numpy as np\n",
    "import matplotlib.pyplot as plt \n",
    "import pandas as pd\n",
    "import seaborn as sns\n",
    "import spacy\n",
    "\n",
    "from collections import Counter\n",
    "\n",
    "from textblob import TextBlob\n",
    "from transformers import pipeline\n",
    "from transformers import AutoTokenizer, AutoModelForSequenceClassification\n",
    "import torch.nn.functional as F\n",
    "from transformers import pipeline\n",
    "from wordcloud import WordCloud, STOPWORDS, ImageColorGenerator\n",
    "from nltk.stem import PorterStemmer\n",
    "from nltk.tokenize import word_tokenize\n",
    "\n",
    "\n",
    "# Settings\n",
    "sns.set_style(\"whitegrid\", {'axes.grid' : False})\n",
    "nlp = spacy.load(\"en_core_web_sm\")\n"
   ]
  },
  {
   "cell_type": "markdown",
   "id": "24c48db1-07a4-4f38-bc32-00271a416399",
   "metadata": {},
   "source": [
    "# Students at LAB42"
   ]
  },
  {
   "cell_type": "code",
   "execution_count": 5,
   "id": "77b647ee",
   "metadata": {
    "tags": []
   },
   "outputs": [],
   "source": [
    "emo_sl42 = pd.read_csv('data/lab42_cleaned_combined_data.csv', index_col=0).dropna(subset=['emotion'])"
   ]
  },
  {
   "cell_type": "markdown",
   "id": "8b42b309-3625-4c87-87c9-44d961ba66a2",
   "metadata": {},
   "source": [
    "## Emotions: LLM-based Overall Sentiment Analysis"
   ]
  },
  {
   "cell_type": "code",
   "execution_count": null,
   "id": "f805e89d-3f41-41c0-9bfe-ceb8c725c540",
   "metadata": {
    "tags": []
   },
   "outputs": [],
   "source": [
    "MODEL = f\"cardiffnlp/twitter-roberta-base-sentiment-latest\"\n",
    "sentiment_task = pipeline(\"sentiment-analysis\", model=MODEL, tokenizer=MODEL)"
   ]
  },
  {
   "cell_type": "code",
   "execution_count": null,
   "id": "97a0f444-081a-4636-8cdc-6b25b45bebe8",
   "metadata": {},
   "outputs": [],
   "source": [
    "def sentiment_analysis(sentence):\n",
    "    return sentiment_task(sentence, top_k=3)\n",
    "\n",
    "def assign_scores(idx):\n",
    "    emo_sl42.at[idx, 'positive'] = next(item for item in emo_sl42['senti'][idx] if item['label'] == 'positive')['score']\n",
    "    emo_sl42.at[idx, 'negative'] = next(item for item in emo_sl42['senti'][idx] if item['label'] == 'negative')['score']\n",
    "    emo_sl42.at[idx, 'neutral'] = next(item for item in emo_sl42['senti'][idx] if item['label'] == 'neutral')['score']\n",
    "\n",
    "def plot_sentiment_analysis(df, label):\n",
    "    sns.countplot(y=df[label + \"_label\"], \n",
    "                  palette=['#b2d8d8',\"#008080\", '#db3d13'],\n",
    "                  order=[\"positive\", \"negative\", \"neutral\"])\n",
    "    plt.ylabel(\"Overall Sentiment for Emotion Responses\")\n",
    "    plt.xlabel(\"Count\")\n",
    "    plt.savefig('plots/sentiment-analysis/students-lab42/' + label + '-llm-sentiment-count.jpg',\n",
    "                dpi=300, bbox_inches='tight')"
   ]
  },
  {
   "cell_type": "code",
   "execution_count": null,
   "id": "bbb126b3-cf3f-4ed8-8a4c-71ee41c5fe07",
   "metadata": {
    "tags": []
   },
   "outputs": [],
   "source": [
    "# 1. Calculate sentiment analysis on each emotion statement:\n",
    "emo_sl42['senti'] = emo_sl42['emotion'].apply(sentiment_analysis)\n",
    "\n",
    "# 2. Sort Sentiment Scores into Independent Columns\n",
    "for idx in emo_sl42.index:\n",
    "    assign_scores(idx)\n",
    "\n",
    "# 3. Drop Unecessary Columns\n",
    "emo_sl42 = emo_sl42.drop(columns=['senti'])\n",
    "\n",
    "# 4. Calculate the dominant overall sentiment of the response\n",
    "emo_sl42['emo_label'] = emo_sl42[['positive', 'negative', 'neutral']].idxmax(axis=1)\n",
    "\n",
    "# 5. Plot the overall sentiments distribution\n",
    "plot_sentiment_analysis(emo_sl42, 'emo')"
   ]
  },
  {
   "cell_type": "markdown",
   "id": "bbd61594-810d-43e5-bbc1-6d9b4d23b40f",
   "metadata": {
    "jp-MarkdownHeadingCollapsed": true
   },
   "source": [
    "## Comfort: LLM-based Overall Sentiment Analysis"
   ]
  },
  {
   "cell_type": "code",
   "execution_count": null,
   "id": "ff599c6b-780f-4299-833c-445e1e8713b1",
   "metadata": {},
   "outputs": [],
   "source": [
    "comfort_sl42 = pd.read_csv('data/lab42_cleaned_data.csv', index_col=0).drop(columns = drop_col_emo, axis=1).dropna(subset=['comfort'])"
   ]
  },
  {
   "cell_type": "code",
   "execution_count": null,
   "id": "fa536f29-e2b1-42bc-b338-ffb4462b684c",
   "metadata": {},
   "outputs": [],
   "source": [
    "def sentiment_analysis(sentence):\n",
    "    return sentiment_task(sentence, top_k=3)\n",
    "\n",
    "def assign_scores(idx):\n",
    "    comfort_sl42.at[idx, 'positive'] = next(item for item in comfort_sl42['senti'][idx] if item['label'] == 'positive')['score']\n",
    "    comfort_sl42.at[idx, 'negative'] = next(item for item in comfort_sl42['senti'][idx] if item['label'] == 'negative')['score']\n",
    "    comfort_sl42.at[idx, 'neutral'] = next(item for item in comfort_sl42['senti'][idx] if item['label'] == 'neutral')['score']\n",
    "\n",
    "def plot_sentiment_analysis(df, label):\n",
    "    sns.countplot(y=df[label + \"_label\"], \n",
    "                  palette=['#b2d8d8',\"#008080\", '#db3d13'],\n",
    "                  order=[\"positive\", \"negative\", \"neutral\"])\n",
    "    plt.ylabel(\"Overall Sentiment for Comfort Responses\")\n",
    "    plt.xlabel(\"Count\")\n",
    "    plt.savefig('plots/sentiment-analysis/students-lab42/' + label + '-llm-sentiment-count.jpg',\n",
    "                dpi=300, bbox_inches='tight')"
   ]
  },
  {
   "cell_type": "code",
   "execution_count": null,
   "id": "6e9ba05c-b602-490f-bbfb-6f9ec62552d8",
   "metadata": {},
   "outputs": [],
   "source": [
    "# 1. Calculate sentiment analysis on each emotion statement:\n",
    "comfort_sl42['senti'] = comfort_sl42['comfort'].apply(sentiment_analysis)\n",
    "\n",
    "# 2. Sort Sentiment Scores into Independent Columns\n",
    "for idx in comfort_sl42.index:\n",
    "    assign_scores(idx)\n",
    "\n",
    "# 3. Drop Unecessary Columns\n",
    "comfort_sl42 = comfort_sl42.drop(columns=['senti'])\n",
    "\n",
    "# 4. Calculate the dominant overall sentiment of the response\n",
    "comfort_sl42['comfort_label'] = comfort_sl42[['positive', 'negative', 'neutral']].idxmax(axis=1)\n",
    "\n",
    "# 5. Plot the overall sentiments distribution\n",
    "plot_sentiment_analysis(comfort_sl42, 'comfort')"
   ]
  },
  {
   "cell_type": "markdown",
   "id": "b03e9ad0-933a-4023-a666-1f7b6b9c6854",
   "metadata": {},
   "source": [
    "# Comparing Emotion and Comfort Sentiments\n",
    "How do positive emotion labels impact comfort? What about negative emo labels? Is there any relationship between the two?"
   ]
  },
  {
   "cell_type": "code",
   "execution_count": null,
   "id": "665a607b-f87b-4bac-999f-20929b1e80a7",
   "metadata": {},
   "outputs": [],
   "source": [
    "df = pd.read_csv('data/lab42_cleaned_data.csv', index_col=0)\n",
    "df = df[[\"emotion\", \"comfort\"]].dropna(how=\"any\")"
   ]
  },
  {
   "cell_type": "code",
   "execution_count": null,
   "id": "4aa07cc0-265a-444e-af2b-9a1571bbf836",
   "metadata": {},
   "outputs": [],
   "source": [
    "def sentiment_analysis(sentence):\n",
    "    return sentiment_task(sentence)\n",
    "    \n",
    "df_senti = df.applymap(sentiment_analysis)"
   ]
  },
  {
   "cell_type": "code",
   "execution_count": null,
   "id": "2e76edbf-0711-4cc4-8804-1af8127c11a3",
   "metadata": {},
   "outputs": [],
   "source": [
    "df.head()"
   ]
  },
  {
   "cell_type": "code",
   "execution_count": null,
   "id": "2f8f3258-d5ad-48f1-8931-809b3de81f18",
   "metadata": {},
   "outputs": [],
   "source": [
    "df_senti = df_senti.rename(columns={'emotion':'emo_label',\n",
    "                         'comfort': 'comfort_label'})"
   ]
  },
  {
   "cell_type": "code",
   "execution_count": null,
   "id": "ecc11029-08ae-4249-a3dd-468a952ed36f",
   "metadata": {},
   "outputs": [],
   "source": [
    "df = df_senti.join(df)"
   ]
  },
  {
   "cell_type": "code",
   "execution_count": null,
   "id": "35a4bb40-f03c-41bd-8b64-c74f39cf110b",
   "metadata": {},
   "outputs": [],
   "source": [
    "df.head()"
   ]
  },
  {
   "cell_type": "code",
   "execution_count": null,
   "id": "474cc43b-b87a-4062-b055-a24bf7b2d488",
   "metadata": {},
   "outputs": [],
   "source": [
    "def assign_labels(idx):\n",
    "    # print(idx)\n",
    "    # print(df['emotion'][idx][0]['label'])\n",
    "    df['emo_label'][idx] = df['emo_label'][idx][0]['label']\n",
    "    df['comfort_label'][idx] =  df['comfort_label'][idx][0]['label']"
   ]
  },
  {
   "cell_type": "code",
   "execution_count": null,
   "id": "e209b3ea-1e2f-41ed-bc5a-a236e1b29007",
   "metadata": {},
   "outputs": [],
   "source": [
    "for idx in df.index:\n",
    "   assign_labels(idx)"
   ]
  },
  {
   "cell_type": "code",
   "execution_count": null,
   "id": "1f1e140c-8d8c-4c67-bc6b-7e334a5bea05",
   "metadata": {},
   "outputs": [],
   "source": [
    "df[['emo_label', 'comfort_label']] = df[['emo_label', 'comfort_label']].replace({'positive': 1, \n",
    "                                                                                 'negative': -1,\n",
    "                                                                                 'neutral': 0})"
   ]
  },
  {
   "cell_type": "code",
   "execution_count": null,
   "id": "705969bb-8b76-40c2-b298-fe607ceef532",
   "metadata": {},
   "outputs": [],
   "source": [
    "df[['emo_label', 'comfort_label']].value_counts()"
   ]
  },
  {
   "cell_type": "code",
   "execution_count": null,
   "id": "26b9b2a3-a29c-4eec-b865-9cbdd8ed990f",
   "metadata": {},
   "outputs": [],
   "source": [
    "grouped = df.groupby(['emo_label', 'comfort_label']).size().unstack(fill_value=0)\n",
    "\n",
    "# Reset the index to use 'Emotion' as a column\n",
    "grouped = grouped.reset_index()\n",
    "\n",
    "# Melt the data to create a tidy format for Seaborn\n",
    "melted = pd.melt(grouped,\n",
    "                 id_vars=['emo_label'],\n",
    "                 value_vars=[-1, 0, 1],\n",
    "                 var_name='comfort_label',\n",
    "                 value_name='Count')\n",
    "\n",
    "# Map comfort values to colors\n",
    "comfort_colors = {-1: 'red', 0: 'gray', 1: 'green'}\n",
    "melted['Comfort_color'] = melted['comfort_label'].map(comfort_colors)\n",
    "\n",
    "labels = ['Negative', 'Neutral', 'Positive']\n",
    "\n",
    "# Create a grouped bar plot using Seaborn\n",
    "plt.figure(figsize=(8, 6))\n",
    "ax = sns.barplot(data=melted, x='emo_label', y='Count', hue='comfort_label')\n",
    "plt.xlabel('Emotion Sentiments')\n",
    "ax.set_xticklabels(['Negative', 'Neutral', 'Positive'])\n",
    "plt.ylabel('Count')\n",
    "plt.title('Relationship between Emotion and Comfort Sentiment Labels')\n",
    "\n",
    "h, l = ax.get_legend_handles_labels()\n",
    "ax.legend(h, labels, title='Comfort Sentiments')\n",
    "plt.savefig('plots/emotion-vs-comfort-sentiments.jpg',\n",
    "            dpi=300, bbox_inches='tight')"
   ]
  },
  {
   "cell_type": "markdown",
   "id": "b7c27028-e447-474c-8fdf-a735a7afd84c",
   "metadata": {},
   "source": [
    "## Overview of Relationship between Emotions and Comfort\n",
    "Positive emotion --> positive comfort (N=52) 42%\n",
    "\n",
    "Positive emotion --> neutral comfort (N=16) 13%\n",
    "\n",
    "Neutral emotion --> positive comfort (N=22) 18%\n",
    "\n",
    "Very rare that positive emotions --> negative comfort (N=4) 0.03%\n",
    "\n",
    "Very rare that negative emotions --> positive comfort (N=4) 0.03%\n",
    "\n",
    "Very rare that neutral emotions --> negative or neutral comfort (N=6/5)"
   ]
  },
  {
   "cell_type": "code",
   "execution_count": null,
   "id": "775bc912-c90f-4f77-b727-6d9296a90779",
   "metadata": {},
   "outputs": [],
   "source": [
    "for row in df[(df['emo_label']== -1) & (df['comfort_label'] == 1)].comfort:\n",
    "    print(\"*: \", row)"
   ]
  },
  {
   "cell_type": "code",
   "execution_count": null,
   "id": "bc8382bf-0748-4dae-91e1-85d30fc164e1",
   "metadata": {},
   "outputs": [],
   "source": [
    "for row in df[(df['emo_label']== 1) & (df['comfort_label'] == -1)].comfort:\n",
    "    print(\"*: \", row)"
   ]
  },
  {
   "cell_type": "code",
   "execution_count": null,
   "id": "60a273c5-c13b-448f-ab4e-a2cb7ace0b50",
   "metadata": {},
   "outputs": [],
   "source": [
    "for row in df[(df['emo_label']== 0) & (df['comfort_label'] == -1)].comfort:\n",
    "    print(\"*: \", row)"
   ]
  },
  {
   "cell_type": "markdown",
   "id": "9947d9a0-3e1f-4340-9805-86d53ce64f09",
   "metadata": {},
   "source": [
    "## Lexicon-based Analysis using VADER\n",
    "Here we are interested in the rule-based analysis. The compound score is computed by summing the \n",
    "valence scores of each word in the lexicon, adjusted according to the rules, and then normalized \n",
    "to be between -1 (most extreme negative) and +1 (most extreme positive). \n",
    "It is a 'normalized, weighted composite score."
   ]
  },
  {
   "cell_type": "code",
   "execution_count": null,
   "id": "8b8a48ac-8a2d-4275-ab5c-dfa460a45280",
   "metadata": {},
   "outputs": [],
   "source": [
    "def vader_lexicon_analysis(df, label):\n",
    "    analyzer = SentimentIntensityAnalyzer()\n",
    "    df[label + '-composite-score'] = df[label].apply(lambda x: analyzer.polarity_scores(str(x))['compound'])\n",
    "    \n",
    "    return df \n",
    "\n",
    "def plot_lexicon_analysis(df, label):\n",
    "    sns.boxplot(x='floor', y='emotion-composite-score', data=df)\n",
    "    plt.xlabel(\"Floor\")\n",
    "    plt.ylabel(\"Lexicon-based Normalised Weighted Composite Score \\n (1 = Most Positive; 0 = Neutral; -1 = Most Negative)\")\n",
    "    plt.tick_params(bottom=False)\n",
    "    plt.axhline(0, ls='--', c = 'grey')\n",
    "    plt.savefig('plots/sentiment-analysis/students-lab42/' +\n",
    "                label +\n",
    "                '-vader-lexicon-composite.jpg',\n",
    "                dpi=300,\n",
    "                bbox_inches='tight')\n",
    "\n",
    "    plt.clf()\n",
    "\n",
    "    sns.displot(x='emotion-composite-score', kde=True, \n",
    "                height=4,\n",
    "                aspect=1.5,\n",
    "                data=emo_sl42)\n",
    "    plt.xlabel(\"Lexicon-Based Normalised Weighted Composite Scores for Sentiments \\n (1 = Most Positive; 0 = Neutral; -1 = Most Negative)\")\n",
    "    plt.tick_params(bottom=False)\n",
    "    plt.axhline(0, ls='--', c = 'grey')\n",
    "    plt.savefig('plots/sentiment-analysis/students-lab42/' +\n",
    "                label +\n",
    "                '-distribution-lexicon-composite.jpg',\n",
    "                dpi=300,\n",
    "                bbox_inches='tight')\n",
    "    plt.clf()\n",
    "\n",
    "    sns.displot(x='emotion-composite-score', y='emo_label',\n",
    "                binwidth=(.2, .1),\n",
    "                height=4,\n",
    "                aspect=1.5,\n",
    "                data=emo_sl42)\n",
    "    plt.xlabel(\"Lexicon-Based Normalised Weighted Composite Scores for Sentiments \\n (1 = Most Positive; 0 = Neutral; -1 = Most Negative)\")\n",
    "    plt.ylabel(\"LLM Generated Sentiment Labels\")\n",
    "    plt.tick_params(bottom=False)\n",
    "    plt.savefig('plots/sentiment-analysis/students-lab42/' +\n",
    "                label +\n",
    "                '-vader-vs-lexicon-composite.jpg',\n",
    "                dpi=300,\n",
    "                bbox_inches='tight')\n",
    "\n",
    "def plot_sentiment_analysis_spaces(df, label):\n",
    "    df = df.where(df[\"space-type\"] != \"\").dropna(how=\"all\")\n",
    "    f = plt.figure(figsize=(10, 6))\n",
    "    sns.boxplot(x='space-type', y='compound', width=0.5,\n",
    " data=df)\n",
    "    plt.xlabel(\"Space Type\")\n",
    "    plt.ylabel(\"Sentiment Value \\n (1 = Most Positive; 0 = Neutral; -1 = Most Negative)\")\n",
    "    plt.tick_params(bottom=False)\n",
    "    plt.axhline(0, ls='--', c = 'grey')\n",
    "    plt.savefig('plots/lab42-' + label + '-space-wise-sentiment-distribution.jpg',\n",
    "                dpi=300, bbox_inches='tight')"
   ]
  },
  {
   "cell_type": "code",
   "execution_count": null,
   "id": "ba05b071-15eb-43c8-b4c2-3e692ae5411a",
   "metadata": {
    "scrolled": true
   },
   "outputs": [],
   "source": [
    "emo_sl42 = vader_lexicon_analysis(emo_sl42, 'emotion')\n",
    "plot_lexicon_analysis(emo_sl42, 'emotion')"
   ]
  },
  {
   "cell_type": "markdown",
   "id": "e40769e0-9f27-4273-ab44-e7f8bbae766c",
   "metadata": {},
   "source": [
    "## Scale data to scores between -1 and 1\n",
    "Polarity score in the range of -1 to -0.5 typically indicates negative sentiment\n",
    "Polarity score greater than -0.5 and less than +0.5 typically indicates neutral sentiment\n",
    "Polarity score in the range of +0.5 to 1 typically indicates positive sentiment"
   ]
  },
  {
   "cell_type": "code",
   "execution_count": null,
   "id": "52582e49-b5f5-4cc7-a157-f35cfda248f8",
   "metadata": {},
   "outputs": [],
   "source": [
    "def scale_emotion_values():\n",
    "    labels = ['positive', 'negative', 'neutral']\n",
    "    scales = [(0.5, 1.0), (-1.0, -0.5), (-0.5, 0.5)]\n",
    "    emo_sl42['scaled_scores'] = 0\n",
    "    \n",
    "    for label, scale in zip(labels, scales):\n",
    "        values = np.array(emo_sl42[label][emo_sl42['emo_label'] == label]).reshape(-1,1)\n",
    "        idx = emo_sl42.index[emo_sl42['emo_label'] == label].to_list()\n",
    "        scaled_values = minmax_scaler(scale, values, idx)\n",
    "        emo_sl42.loc[idx,'scaled_scores'] = scaled_values\n",
    "    \n",
    "    return emo_sl42\n",
    "\n",
    "\n",
    "def minmax_scaler(scale, values, idx):\n",
    "    scaler = MinMaxScaler(feature_range = scale)\n",
    "    scaled_values = pd.Series(scaler.fit_transform(values).flatten()).set_axis(idx)\n",
    "    \n",
    "    return scaled_values "
   ]
  },
  {
   "cell_type": "code",
   "execution_count": null,
   "id": "5453f1f5-f674-4298-9396-ec1befa53598",
   "metadata": {},
   "outputs": [],
   "source": [
    "emo_sl42 = scale_emotion_values()"
   ]
  },
  {
   "cell_type": "code",
   "execution_count": null,
   "id": "97da4ba8-7eea-4f12-86c1-88e4e6618d1f",
   "metadata": {},
   "outputs": [],
   "source": [
    "group = ['Round tables by the three plants (across wooden staircase)',\n",
    "                        'Next to the lockers',\n",
    "                        'Study corner next to the plant wall',\n",
    "                        'Yellow/white chairs & tables (besides the wooden staircase)',\n",
    "                        'Tables on the landing (with wooden floor) accessible by the black staircase',\n",
    "                        'Green group study tables (between a row of plants and railing)',\n",
    "                        'Group tables by the stairs',\n",
    "                        'Open lounge area',\n",
    "                        'Near the printer',\n",
    "                        'Round tables by the coffee machine']\n",
    "\n",
    "individual =  ['Library learning room',\n",
    "                             'Green chairs by the entrance',\n",
    "                             'Partly covered green chairs (along glass wall)']\n",
    "\n",
    "unsure = [\"Unsure\"]\n",
    "\n",
    "def assign_types_to_spaces(space):\n",
    "    if space in group:\n",
    "        return \"group\"\n",
    "    if space in individual:\n",
    "        return \"individual\"\n",
    "    if space in unsure:\n",
    "        return \"unsure\"\n",
    "    \n",
    "def merge_spaces(df):\n",
    "    df[\"space-type\"] = df[\"space-ground-floor\"] + df[\"space-1-floor\"] + df[\"space-2-floor\"] + df[\"space-3-floor\"]\n",
    "    df = df.drop(columns =[\"space-ground-floor\", \"space-1-floor\", \"space-2-floor\", \"space-3-floor\"])\n",
    "    \n",
    "    return df\n",
    "\n",
    "\n",
    "def create_group_solo_space_labels(df):\n",
    "    spaces = [\"ground-floor\", \"1-floor\", \"2-floor\", \"3-floor\"]\n",
    "    \n",
    "    for space in spaces:\n",
    "        df[\"space-\" + space] = df[space].apply(lambda space: assign_types_to_spaces(space)).fillna(\"\")\n",
    "    \n",
    "    return df\n",
    "\n",
    "\n",
    "def plot_sentiment_analysis_spaces(df, label):\n",
    "    df = df.where(df[\"space-type\"] != \"\").dropna(how=\"all\")\n",
    "    f = plt.figure(figsize=(10, 6))\n",
    "    sns.boxplot(x='space-type', y='scaled_scores',\n",
    "                width=0.5,\n",
    "                data=df)\n",
    "    plt.xlabel(\"Space Type\")\n",
    "    plt.ylabel(\"Sentiment Value \\n (1 = Most Positive; 0 = Neutral; -1 = Most Negative)\")\n",
    "    plt.tick_params(bottom=False)\n",
    "    plt.axhline(0, ls='--', c = 'grey')\n",
    "    plt.savefig('plots/lab42-' + label + '-space-wise-sentiment-distribution.jpg',\n",
    "                dpi=300, bbox_inches='tight')"
   ]
  },
  {
   "cell_type": "code",
   "execution_count": null,
   "id": "240769a1-5be4-4c2e-affe-3baa007832b7",
   "metadata": {},
   "outputs": [],
   "source": [
    "df = create_group_solo_space_labels(emo_sl42)\n",
    "df = merge_spaces(df)\n",
    "plot_sentiment_analysis_spaces(df, 'emotion')"
   ]
  },
  {
   "cell_type": "code",
   "execution_count": null,
   "id": "945fd417-4d0a-4ebc-820b-a21139d6557b",
   "metadata": {},
   "outputs": [],
   "source": [
    "def plot_overview_sentiment_analysis_spaces(df, label):\n",
    "    df = df.where(df[\"space-type\"] != \"\").dropna(how=\"all\")\n",
    "    f = plt.figure(figsize=(10, 6))\n",
    "    sns.catplot(data=df, \n",
    "                x=\"floor\", y='scaled_scores',\n",
    "                hue=\"emo_label\",\n",
    "                col=\"space-type\",\n",
    "                kind=\"swarm\" )\n",
    "    plt.xlabel(\"Floor\")\n",
    "    plt.ylabel(\"Scaled Sentiment Value \\n (1 = Most Positive; 0 = Neutral; -1 = Most Negative)\")\n",
    "    plt.tick_params(bottom=False)\n",
    "    plt.savefig('plots/lab42-' + label + 'floor-space-wise-sentiment-distribution.jpg',\n",
    "                dpi=300, bbox_inches='tight')\n",
    "\n",
    "\n",
    "\n",
    "# sns.countplot(y=emo_sl42[\"emo_label\"], palette=['#b2d8d8',\"#008080\", '#db3d13'],order=[\"positive\", \"negative\", \"neutral\"])"
   ]
  },
  {
   "cell_type": "code",
   "execution_count": null,
   "id": "e48387a8-852f-4800-bc70-4381324b9991",
   "metadata": {},
   "outputs": [],
   "source": [
    "plot_overview_sentiment_analysis_spaces(emo_sl42, \"emo\")"
   ]
  },
  {
   "cell_type": "code",
   "execution_count": null,
   "id": "7ee9b550-9851-4820-8d77-b37e64c982db",
   "metadata": {},
   "outputs": [],
   "source": [
    "emo_sl42['dominant_emo_val'] = emo_sl42[['positive', 'negative', 'neutral']].max(axis=1)\n"
   ]
  },
  {
   "cell_type": "code",
   "execution_count": null,
   "id": "53e56caf-af30-4394-883f-e1781ee56903",
   "metadata": {
    "scrolled": true
   },
   "outputs": [],
   "source": [
    "sns.catplot(x='emo_label', y='dominant_emo_val', hue=\"space-type\",\n",
    "            kind=\"bar\", errorbar=None, data=emo_sl42)"
   ]
  },
  {
   "cell_type": "markdown",
   "id": "c68eb827-4ef8-4bc4-80f1-4cfe84ba8043",
   "metadata": {},
   "source": [
    "# Aspect-Based Sentiment Analysis\n",
    "\n",
    "maybe train your own model: https://github.com/shwe24/Aspect-Based-Sentiment-Classification/blob/main/Aspect_Extraction.ipynb"
   ]
  },
  {
   "cell_type": "code",
   "execution_count": 91,
   "id": "a72c3319-a200-44a7-a173-6a46c9d5a297",
   "metadata": {},
   "outputs": [],
   "source": [
    "df = pd.read_csv('data/lab42_cleaned_data.csv', index_col=0)\n",
    "# df = df[[\"emotion\"]].dropna(how=\"any\")\n",
    "# df = df[[\"comfort\"]].dropna(how=\"any\")"
   ]
  },
  {
   "cell_type": "code",
   "execution_count": 4,
   "id": "88bf6f6b-001d-4d7c-b2db-d98f3a25419a",
   "metadata": {},
   "outputs": [
    {
     "name": "stderr",
     "output_type": "stream",
     "text": [
      "Some weights of the model checkpoint at cardiffnlp/twitter-roberta-base-sentiment-latest were not used when initializing RobertaForSequenceClassification: ['roberta.pooler.dense.weight', 'roberta.pooler.dense.bias']\n",
      "- This IS expected if you are initializing RobertaForSequenceClassification from the checkpoint of a model trained on another task or with another architecture (e.g. initializing a BertForSequenceClassification model from a BertForPreTraining model).\n",
      "- This IS NOT expected if you are initializing RobertaForSequenceClassification from the checkpoint of a model that you expect to be exactly identical (initializing a BertForSequenceClassification model from a BertForSequenceClassification model).\n"
     ]
    }
   ],
   "source": [
    "# Load Aspect-Based Sentiment Analysis model\n",
    "MODEL = f\"cardiffnlp/twitter-roberta-base-sentiment-latest\"\n",
    "sentiment_task = pipeline(\"sentiment-analysis\", model=MODEL, tokenizer=MODEL)"
   ]
  },
  {
   "cell_type": "code",
   "execution_count": 179,
   "id": "7fd1ea75-a728-462b-b4cb-3ccdd80dba87",
   "metadata": {},
   "outputs": [],
   "source": [
    "emotion_aspect = [\"calm\"]\n",
    "comfort_aspect = {\n",
    "    \"noise\": [\"noise\", \"noisy\", \"loud\", \"quiet\", \"silence\", \"sound\",\n",
    "              \"disturbance\", \"cacophony\", \"ambient noise\", \"quietness\"],\n",
    "    \"air\": [\"air\", \"air quality\", \"ventilation\", \"fresh air\", \"stuffy\",\n",
    "            \"odor\", \"fragrance\", \"pollution\", \"breathable\", \"circulation\"],\n",
    "    \"temperature\": [\"temperature\", \"warm\", \"hot\", \"cold\",\n",
    "                    \"chilly\", \"thermostat\", \"climate\", \"cozy\", \"freezing\",\n",
    "                    \"pleasant\"],\n",
    "    \"light\": [\"light\", \"lighting\", \"bright\", \"dim\", \"natural light\",\n",
    "              \"illumination\", \"dark\", \"glare\", \"luminosity\", \"gloomy\",\n",
    "              \"sun\", \"cloudy\"]\n",
    "}\n",
    "\n",
    "biophilia_aspect = {\n",
    "    \"plants\": [\"plants\", \"greenery\", \"foliage\", \"vegetation\", \"green\",\n",
    "              \"nature\", \"natural\", \"ecosystem\", \"environment\"],\n",
    "    \"light\": [\"natural light\", \"daylight\", \"sun\", \"cloud\", \"illumination\", \"sunlight\",\n",
    "             \"lit\", \"light\"],\n",
    "    \n",
    "    \"materials\": [\"natural materials\", \"wood\", \"stone\", \"earth\", \"organic\"],\n",
    "    \"views\": [\"views\", \"scenery\", \"landscape\"],\n",
    "    \"aesthetics\": [\"natural colour\", \"natural color\" \"earth tones\",\n",
    "                   \"natural shades\", \"organic shapes\", \"curves\", \"fluid lines\",\n",
    "                   \"natural textures\", \"rough\", \"smooth\"],\n",
    "    \"air\": [\"fresh air\", \"ventilation\"],\n",
    "    # \"sound\": [\"natural sounds\", \"birds chirping\", \"water flowing\"],\n",
    "    # \"well-being\": [\"well-being\", \"health\", \"stress reduction\"],\n",
    "    # \"creativity\": [\"creativity\", \"innovation\", \"inspiration\"],\n",
    "    \"sustainability\": [\"sustainability\", \"environmental impact\", \"green\"]\n",
    "}"
   ]
  },
  {
   "cell_type": "code",
   "execution_count": 197,
   "id": "d1126d34-e1e3-4552-a78d-ccda8a174b71",
   "metadata": {},
   "outputs": [],
   "source": [
    "def sentiment_analysis(sentence):\n",
    "    return sentiment_task(sentence)\n",
    "\n",
    "def clean_strings(str):\n",
    "    str = str.translate(str.maketrans({\"’\":None}))\n",
    "    return str.translate(str.maketrans ('', '', string.punctuation))"
   ]
  },
  {
   "cell_type": "markdown",
   "id": "f1c0d514-5547-475b-ad45-53facf56370e",
   "metadata": {},
   "source": [
    "### Calm:\n"
   ]
  },
  {
   "cell_type": "code",
   "execution_count": null,
   "id": "7274332f-e4e1-48b0-bad7-feafd7c7440c",
   "metadata": {},
   "outputs": [],
   "source": [
    "df['emotion'] = df['emotion'].apply(clean_strings)\n",
    "\n",
    "df['aspects'] = ''\n",
    "\n",
    "# Process each row in the DataFrame\n",
    "for index, row in df.iterrows():\n",
    "    doc = nlp(row['emotion'])\n",
    "    aspects = []\n",
    "\n",
    "    for token in doc:\n",
    "        if token.text.lower() in emotion_aspect:            \n",
    "            aspect = token.text\n",
    "            context = ' '.join([t.text for t in doc[token.i - 3:token.i + 4]])  # Extract 3 words before and after the aspect\n",
    "            sentiment = sentiment_analysis(context)\n",
    "            aspects.append(context)\n",
    "            df.at[index, 'aspect_key'] = aspect\n",
    "            df.at[index, 'aspect_sentiment'] = sentiment\n",
    "    df.at[index, 'aspects'] = aspects"
   ]
  },
  {
   "cell_type": "code",
   "execution_count": null,
   "id": "0253219c-09d6-411c-8f35-7c0d1add5c21",
   "metadata": {},
   "outputs": [],
   "source": [
    "# Initialize a dictionary to store extracted sentiment scores for each aspect\n",
    "aspect_scores = {}\n",
    "\n",
    "# Iterate through the rows and extract sentiment scores for each aspect\n",
    "for row in df['aspect_sentiment']:\n",
    "    if isinstance(row, list):\n",
    "        for sentiment in row:\n",
    "            label = sentiment['label']\n",
    "            score = sentiment['score']\n",
    "            aspect_scores[label] = aspect_scores.get(label, []) + [score]\n",
    "\n",
    "# Create box plots for sentiment scores of each aspect\n",
    "plt.figure(figsize=(10, 6))\n",
    "plt.boxplot(aspect_scores.values(), labels=aspect_scores.keys(), vert=False, patch_artist=True)\n",
    "plt.ylabel('Sentiment Label')\n",
    "plt.xlabel('Sentiment Score (0.0 - 1.0)')\n",
    "plt.title('Aspect Sentiment Distribution')\n",
    "plt.show()"
   ]
  },
  {
   "cell_type": "code",
   "execution_count": null,
   "id": "de9882f5-7e52-4401-905a-cc2a8b6420fd",
   "metadata": {},
   "outputs": [],
   "source": [
    "def generate_wordcloud():\n",
    "    df['aspects'] = [''.join(map(str, l)) for l in df['aspects']]\n",
    "    df['aspects'].str.cat(sep=' ')  \n",
    "    wordcloud = WordCloud(background_color=\"white\").generate(df['aspects'].str.cat(sep=' '))\n",
    "\n",
    "    plt.imshow(wordcloud, interpolation='bilinear')\n",
    "    plt.axis(\"off\")\n",
    "    plt.show()"
   ]
  },
  {
   "cell_type": "code",
   "execution_count": null,
   "id": "fd2f50ab-abd6-4a8e-8bad-d692743e084e",
   "metadata": {},
   "outputs": [],
   "source": [
    "generate_wordcloud()"
   ]
  },
  {
   "cell_type": "markdown",
   "id": "2b1996bd-97b8-43eb-94d0-68064746e148",
   "metadata": {},
   "source": [
    "### Comfort"
   ]
  },
  {
   "cell_type": "code",
   "execution_count": 83,
   "id": "b7d04ae1-5669-4ff2-9c35-e5bd34253381",
   "metadata": {},
   "outputs": [],
   "source": [
    "df['comfort'] = df['comfort'].apply(clean_strings)"
   ]
  },
  {
   "cell_type": "code",
   "execution_count": 84,
   "id": "0b29364e-b250-4c5a-b9c2-2ded9128044b",
   "metadata": {},
   "outputs": [],
   "source": [
    "# Initialize Porter Stemmer\n",
    "stemmer = PorterStemmer()"
   ]
  },
  {
   "cell_type": "code",
   "execution_count": 85,
   "id": "c8b79a22-9dd7-4de9-b474-af6fda025f05",
   "metadata": {},
   "outputs": [],
   "source": [
    "stemmed_comfort_aspect = {}\n",
    "for aspect, words in comfort_aspect.items():\n",
    "    stemmed_words = [stemmer.stem(word) for word in words]\n",
    "    stemmed_comfort_aspect[aspect] = stemmed_words"
   ]
  },
  {
   "cell_type": "code",
   "execution_count": 86,
   "id": "2b3db202-b707-4b21-8e6d-e4f325321507",
   "metadata": {},
   "outputs": [],
   "source": [
    "def extract_context(text, aspect, window_size=3):\n",
    "    tokens = word_tokenize(text)\n",
    "    stemmed_tokens = [stemmer.stem(token) for token in tokens]\n",
    "    \n",
    "    aspect_indices = [i for i, token in enumerate(stemmed_tokens) if token == aspect]\n",
    "    \n",
    "    contexts = []        \n",
    "    \n",
    "    for token in stemmed_tokens:\n",
    "        if token in stemmed_comfort_aspect[aspect]:\n",
    "            start_index = max(0, stemmed_tokens.index(token) - 3)\n",
    "            end_index = min(len(stemmed_tokens), stemmed_tokens.index(token) + 4)\n",
    "            context = ' '.join(tokens[start_index:end_index])\n",
    "            contexts.append(context)\n",
    "        \n",
    "    return contexts"
   ]
  },
  {
   "cell_type": "code",
   "execution_count": 87,
   "id": "ad729f77-55fe-414c-b771-52596abddfcc",
   "metadata": {},
   "outputs": [],
   "source": [
    "for aspect in stemmed_comfort_aspect:\n",
    "    aspect_column = []\n",
    "    df[aspect] = df['comfort'].apply(lambda x: extract_context(x, aspect))"
   ]
  },
  {
   "cell_type": "code",
   "execution_count": 88,
   "id": "0f01aacb-2908-4926-8967-5f28e9f59710",
   "metadata": {},
   "outputs": [
    {
     "data": {
      "image/png": "[encoded data removed]",
      "text/plain": [
       "<Figure size 640x480 with 1 Axes>"
      ]
     },
     "metadata": {},
     "output_type": "display_data"
    }
   ],
   "source": [
    "# Count occurrences of each aspect\n",
    "aspect_counts = df[['noise', 'air', 'temperature', 'light']].apply(lambda column: column.astype(bool).sum(), axis=0)\n",
    "\n",
    "custom_ticks = ['Noise', 'Air Quality', 'Temperature', 'Light']\n",
    "\n",
    "# Plot the aspect occurrences\n",
    "plt.bar(aspect_counts.index, aspect_counts.values)\n",
    "plt.xlabel('Comfort Aspects')\n",
    "plt.ylabel('Count')\n",
    "plt.title('Count of Occurrences for Each Aspect')\n",
    "plt.xticks(aspect_counts.index, custom_ticks)\n",
    "plt.tight_layout()\n",
    "plt.savefig('plots/comfort-aspect-occurances-count.jpg',\n",
    "            dpi=300, bbox_inches='tight')"
   ]
  },
  {
   "cell_type": "code",
   "execution_count": null,
   "id": "837a6c69-2214-42a9-b4a9-5e80a1d1e5e7",
   "metadata": {
    "scrolled": true
   },
   "outputs": [],
   "source": [
    "for aspect in df.columns[1:]:\n",
    "    df[\"senti_\" + aspect] = df[aspect].apply(sentiment_analysis)"
   ]
  },
  {
   "cell_type": "code",
   "execution_count": null,
   "id": "2d929d8b-c769-49ba-9085-ee287dec0223",
   "metadata": {},
   "outputs": [],
   "source": [
    "# Initialize counters for sentiment distribution\n",
    "sentiment_distribution = {\n",
    "    'positive': [],\n",
    "    'negative': [],\n",
    "    'neutral': []\n",
    "}\n",
    "\n",
    "# Iterate through sentiment columns and extract sentiment distributions\n",
    "for column in df.columns[5:]:\n",
    "    sentiments = df[column]\n",
    "    sentiment_count = {'positive': 0, 'negative': 0, 'neutral': 0}\n",
    "    for sentiment in sentiments:\n",
    "        if len(sentiment) > 0:\n",
    "            label = sentiment[0]['label']\n",
    "            sentiment_count[label] += 1\n",
    "    sentiment_distribution['positive'].append(sentiment_count['positive'])\n",
    "    sentiment_distribution['negative'].append(sentiment_count['negative'])\n",
    "    sentiment_distribution['neutral'].append(sentiment_count['neutral'])"
   ]
  },
  {
   "cell_type": "code",
   "execution_count": null,
   "id": "6a2bf390-c29c-4fa6-81c9-61dc22f32b69",
   "metadata": {},
   "outputs": [],
   "source": [
    "dist_df = pd.DataFrame(sentiment_distribution, index=df.columns[5:])\n",
    "dist_df = dist_df.melt(var_name='Sentiment', value_name='Count', ignore_index=False).reset_index()\n",
    "dist_df"
   ]
  },
  {
   "cell_type": "code",
   "execution_count": null,
   "id": "576ff531-b3fe-4694-80dd-b1015b9fe87b",
   "metadata": {},
   "outputs": [],
   "source": [
    "# Set Seaborn style\n",
    "custom_ticks = ['Noise', 'Air Quality', 'Temperature', 'Light']\n",
    "custom_palette = {'positive': '#3182bd',\n",
    "                  'negative': '#de2d26',\n",
    "                  'neutral': '#636363'}\n",
    "\n",
    "# Create grouped bar plot using Seaborn catplot\n",
    "plt.figure(figsize=(8, 7))\n",
    "plot = sns.catplot(x='index',\n",
    "                   y='Count',\n",
    "                   hue='Sentiment',\n",
    "                   data=dist_df,\n",
    "                   kind='bar',\n",
    "                   legend=False,\n",
    "                   palette=custom_palette\n",
    "                  )\n",
    "plt.xlabel('Comfort Aspects')\n",
    "plt.ylabel('Count')\n",
    "plot.set_xticklabels(custom_ticks)\n",
    "plt.title('Sentiment Distribution for Comfort Aspects')\n",
    "\n",
    "ax = plot.ax\n",
    "handles, labels = ax.get_legend_handles_labels()\n",
    "ax.legend(handles[0:3], labels[0:3], title='Sentiment')\n",
    "\n",
    "# plt.tight_layout()\n",
    "plt.savefig('plots/comfort-aspect-sentiments-count.jpg',\n",
    "            dpi=300, bbox_inches='tight')"
   ]
  },
  {
   "cell_type": "markdown",
   "id": "ff59514f-835e-41a3-8acc-07762f21f6e9",
   "metadata": {},
   "source": [
    "### Aspect Co-Occurance"
   ]
  },
  {
   "cell_type": "code",
   "execution_count": null,
   "id": "c2d646f3-ae4c-496f-b465-c795077197c5",
   "metadata": {},
   "outputs": [],
   "source": [
    "def calculate_cooccurance_matrix(df):\n",
    "    # Initialize aspect co-occurrence matrix\n",
    "    aspects = list(comfort_aspect.keys())\n",
    "    co_occurrence_matrix = np.zeros((len(aspects), len(aspects)))\n",
    "\n",
    "    print(co_occurrence_matrix)\n",
    "    \n",
    "    # Iterate through each text and extract mentioned aspects\n",
    "    for text in df[\"comfort\"]:\n",
    "        tokenized_text = re.findall(r'\\w+', text.lower())\n",
    "        tokenized_text = [stemmer.stem(token) for token in tokenized_text]\n",
    "        mentioned_aspects = []\n",
    "\n",
    "        for token in tokenized_text:\n",
    "            for aspect, keywords in stemmed_comfort_aspect.items():\n",
    "                if token in keywords:\n",
    "                    mentioned_aspects.append(aspect)\n",
    "\n",
    "        # Increment co-occurrence counts\n",
    "        for i, aspect1 in enumerate(mentioned_aspects):\n",
    "            for j, aspect2 in enumerate(mentioned_aspects):\n",
    "                if i != j:\n",
    "                    co_occurrence_matrix[aspects.index(aspect1)][aspects.index(aspect2)] += 1\n",
    "\n",
    "\n",
    "    # co_occurrence_percentages = co_occurrence_matrix / co_occurrence_matrix.sum() * 100\n",
    "\n",
    "    return co_occurrence_matrix\n",
    "\n",
    "\n",
    "def create_cooccurance_dataframe(matrix):\n",
    "    co_occurrence_df = pd.DataFrame(matrix, index=aspects, columns=aspects)\n",
    "    return co_occurrence_df\n",
    "\n",
    "\n",
    "def plot_cooccurance_df(df):\n",
    "    custom_palette = {'positive': '#3182bd',\n",
    "                      'negative': '#de2d26',\n",
    "                      'neutral': '#636363'}\n",
    "\n",
    "    sns.color_palette(\"Blues\", as_cmap=True)\n",
    "\n",
    "    plt.figure(figsize=(10, 8))\n",
    "    sns.heatmap(df, square=False)\n",
    "    plt.title(\"Aspect Co-occurrence Matrix\")\n",
    "    # plt.tight_layout()\n",
    "    plt.savefig('plots/comfort-aspect-co-occurance.jpg',\n",
    "                dpi=300, bbox_inches='tight')"
   ]
  },
  {
   "cell_type": "code",
   "execution_count": null,
   "id": "e945730b-3715-4b4b-a940-6eac02365e21",
   "metadata": {},
   "outputs": [],
   "source": [
    "matrix = calculate_cooccurance_matrix(df)\n",
    "cooccurance_df = create_cooccurance_dataframe(matrix)\n",
    "plot_cooccurance_df(cooccurance_df)"
   ]
  },
  {
   "cell_type": "markdown",
   "id": "973a6d85-75fe-4269-9097-03adf0dbdd2f",
   "metadata": {},
   "source": [
    "### Biophilia Aspect"
   ]
  },
  {
   "cell_type": "code",
   "execution_count": 180,
   "id": "b5808860-12ab-4c8f-bd7b-314369525c8c",
   "metadata": {},
   "outputs": [],
   "source": [
    "bio_df = pd.concat([df['comfort'],df['emotion']]).reset_index(drop = True)"
   ]
  },
  {
   "cell_type": "code",
   "execution_count": 181,
   "id": "19f45b36-dd58-42f3-b386-0220dec4a367",
   "metadata": {},
   "outputs": [],
   "source": [
    "bio_df = pd.DataFrame(bio_df, columns=['text']).dropna()"
   ]
  },
  {
   "cell_type": "code",
   "execution_count": 182,
   "id": "e411bd7b-e011-4646-afb1-f369befbd90a",
   "metadata": {},
   "outputs": [],
   "source": [
    "# Initialize Porter Stemmer\n",
    "stemmer = PorterStemmer()"
   ]
  },
  {
   "cell_type": "code",
   "execution_count": 183,
   "id": "fe6f98fc-7fd8-492f-9f48-9ca07f8cd8f9",
   "metadata": {},
   "outputs": [],
   "source": [
    "stemmed_biophilia_aspect = {}\n",
    "for aspect, words in biophilia_aspect.items():\n",
    "    stemmed_words = [stemmer.stem(word) for word in words]\n",
    "    stemmed_biophilia_aspect[aspect] = stemmed_words"
   ]
  },
  {
   "cell_type": "code",
   "execution_count": 184,
   "id": "c4354151-a86b-443c-ab3b-cd78481287d1",
   "metadata": {},
   "outputs": [],
   "source": [
    "def extract_context(text, aspect, window_size=3):\n",
    "    tokens = word_tokenize(text)\n",
    "    stemmed_tokens = [stemmer.stem(token) for token in tokens]\n",
    "    \n",
    "    aspect_indices = [i for i, token in enumerate(stemmed_tokens) if token == aspect]\n",
    "    \n",
    "    contexts = []        \n",
    "    \n",
    "    for token in stemmed_tokens:\n",
    "        if token in stemmed_biophilia_aspect[aspect]:\n",
    "            start_index = max(0, stemmed_tokens.index(token) - 3)\n",
    "            end_index = min(len(stemmed_tokens), stemmed_tokens.index(token) + 4)\n",
    "            context = ' '.join(tokens[start_index:end_index])\n",
    "            contexts.append(context)\n",
    "        \n",
    "    return contexts"
   ]
  },
  {
   "cell_type": "code",
   "execution_count": 185,
   "id": "3d075ff6-c76f-4ce1-ae27-2b6ca6f08834",
   "metadata": {},
   "outputs": [],
   "source": [
    "for aspect in stemmed_biophilia_aspect:\n",
    "    aspect_column = []\n",
    "    bio_df[aspect] = bio_df['text'].apply(lambda x: extract_context(x, aspect))"
   ]
  },
  {
   "cell_type": "code",
   "execution_count": 186,
   "id": "cbee514a-8d6c-4b7c-a7e0-34fab93273cb",
   "metadata": {},
   "outputs": [
    {
     "data": {
      "text/html": [
       "<div>\n",
       "<style scoped>\n",
       "    .dataframe tbody tr th:only-of-type {\n",
       "        vertical-align: middle;\n",
       "    }\n",
       "\n",
       "    .dataframe tbody tr th {\n",
       "        vertical-align: top;\n",
       "    }\n",
       "\n",
       "    .dataframe thead th {\n",
       "        text-align: right;\n",
       "    }\n",
       "</style>\n",
       "<table border=\"1\" class=\"dataframe\">\n",
       "  <thead>\n",
       "    <tr style=\"text-align: right;\">\n",
       "      <th></th>\n",
       "      <th>text</th>\n",
       "      <th>plants</th>\n",
       "      <th>light</th>\n",
       "      <th>materials</th>\n",
       "      <th>views</th>\n",
       "      <th>aesthetics</th>\n",
       "      <th>air</th>\n",
       "      <th>sustainability</th>\n",
       "    </tr>\n",
       "  </thead>\n",
       "  <tbody>\n",
       "    <tr>\n",
       "      <th>0</th>\n",
       "      <td>The light in the offices is perfect, as well a...</td>\n",
       "      <td>[]</td>\n",
       "      <td>[The light in the offices]</td>\n",
       "      <td>[]</td>\n",
       "      <td>[]</td>\n",
       "      <td>[]</td>\n",
       "      <td>[]</td>\n",
       "      <td>[]</td>\n",
       "    </tr>\n",
       "    <tr>\n",
       "      <th>1</th>\n",
       "      <td>Temperature (it’s too cold), lack of light (bu...</td>\n",
       "      <td>[]</td>\n",
       "      <td>[, lack of light ( but that]</td>\n",
       "      <td>[]</td>\n",
       "      <td>[]</td>\n",
       "      <td>[]</td>\n",
       "      <td>[]</td>\n",
       "      <td>[]</td>\n",
       "    </tr>\n",
       "    <tr>\n",
       "      <th>2</th>\n",
       "      <td>Comfortable temperature and pleasant lighting....</td>\n",
       "      <td>[]</td>\n",
       "      <td>[temperature and pleasant lighting . The air]</td>\n",
       "      <td>[]</td>\n",
       "      <td>[]</td>\n",
       "      <td>[]</td>\n",
       "      <td>[]</td>\n",
       "      <td>[]</td>\n",
       "    </tr>\n",
       "    <tr>\n",
       "      <th>3</th>\n",
       "      <td>Cold, quiet, well lit</td>\n",
       "      <td>[]</td>\n",
       "      <td>[quiet , well lit]</td>\n",
       "      <td>[]</td>\n",
       "      <td>[]</td>\n",
       "      <td>[]</td>\n",
       "      <td>[]</td>\n",
       "      <td>[]</td>\n",
       "    </tr>\n",
       "    <tr>\n",
       "      <th>4</th>\n",
       "      <td>Usually it is really nice and comfortably warm...</td>\n",
       "      <td>[]</td>\n",
       "      <td>[a lot of daylight which makes the]</td>\n",
       "      <td>[]</td>\n",
       "      <td>[]</td>\n",
       "      <td>[]</td>\n",
       "      <td>[]</td>\n",
       "      <td>[]</td>\n",
       "    </tr>\n",
       "    <tr>\n",
       "      <th>...</th>\n",
       "      <td>...</td>\n",
       "      <td>...</td>\n",
       "      <td>...</td>\n",
       "      <td>...</td>\n",
       "      <td>...</td>\n",
       "      <td>...</td>\n",
       "      <td>...</td>\n",
       "      <td>...</td>\n",
       "    </tr>\n",
       "    <tr>\n",
       "      <th>288</th>\n",
       "      <td>I’m a little cold, but otherwise calm and comf...</td>\n",
       "      <td>[]</td>\n",
       "      <td>[]</td>\n",
       "      <td>[]</td>\n",
       "      <td>[]</td>\n",
       "      <td>[]</td>\n",
       "      <td>[]</td>\n",
       "      <td>[]</td>\n",
       "    </tr>\n",
       "    <tr>\n",
       "      <th>289</th>\n",
       "      <td>Relaxed and focused</td>\n",
       "      <td>[]</td>\n",
       "      <td>[]</td>\n",
       "      <td>[]</td>\n",
       "      <td>[]</td>\n",
       "      <td>[]</td>\n",
       "      <td>[]</td>\n",
       "      <td>[]</td>\n",
       "    </tr>\n",
       "    <tr>\n",
       "      <th>290</th>\n",
       "      <td>Pretty relaxed</td>\n",
       "      <td>[]</td>\n",
       "      <td>[]</td>\n",
       "      <td>[]</td>\n",
       "      <td>[]</td>\n",
       "      <td>[]</td>\n",
       "      <td>[]</td>\n",
       "      <td>[]</td>\n",
       "    </tr>\n",
       "    <tr>\n",
       "      <th>292</th>\n",
       "      <td>Comfortable</td>\n",
       "      <td>[]</td>\n",
       "      <td>[]</td>\n",
       "      <td>[]</td>\n",
       "      <td>[]</td>\n",
       "      <td>[]</td>\n",
       "      <td>[]</td>\n",
       "      <td>[]</td>\n",
       "    </tr>\n",
       "    <tr>\n",
       "      <th>293</th>\n",
       "      <td>It’s good</td>\n",
       "      <td>[]</td>\n",
       "      <td>[]</td>\n",
       "      <td>[]</td>\n",
       "      <td>[]</td>\n",
       "      <td>[]</td>\n",
       "      <td>[]</td>\n",
       "      <td>[]</td>\n",
       "    </tr>\n",
       "  </tbody>\n",
       "</table>\n",
       "<p>248 rows × 8 columns</p>\n",
       "</div>"
      ],
      "text/plain": [
       "                                                  text plants  \\\n",
       "0    The light in the offices is perfect, as well a...     []   \n",
       "1    Temperature (it’s too cold), lack of light (bu...     []   \n",
       "2    Comfortable temperature and pleasant lighting....     []   \n",
       "3                               Cold, quiet, well lit      []   \n",
       "4    Usually it is really nice and comfortably warm...     []   \n",
       "..                                                 ...    ...   \n",
       "288  I’m a little cold, but otherwise calm and comf...     []   \n",
       "289                               Relaxed and focused      []   \n",
       "290                                     Pretty relaxed     []   \n",
       "292                                       Comfortable      []   \n",
       "293                                         It’s good      []   \n",
       "\n",
       "                                             light materials views aesthetics  \\\n",
       "0                       [The light in the offices]        []    []         []   \n",
       "1                     [, lack of light ( but that]        []    []         []   \n",
       "2    [temperature and pleasant lighting . The air]        []    []         []   \n",
       "3                               [quiet , well lit]        []    []         []   \n",
       "4              [a lot of daylight which makes the]        []    []         []   \n",
       "..                                             ...       ...   ...        ...   \n",
       "288                                             []        []    []         []   \n",
       "289                                             []        []    []         []   \n",
       "290                                             []        []    []         []   \n",
       "292                                             []        []    []         []   \n",
       "293                                             []        []    []         []   \n",
       "\n",
       "    air sustainability  \n",
       "0    []             []  \n",
       "1    []             []  \n",
       "2    []             []  \n",
       "3    []             []  \n",
       "4    []             []  \n",
       "..   ..            ...  \n",
       "288  []             []  \n",
       "289  []             []  \n",
       "290  []             []  \n",
       "292  []             []  \n",
       "293  []             []  \n",
       "\n",
       "[248 rows x 8 columns]"
      ]
     },
     "execution_count": 186,
     "metadata": {},
     "output_type": "execute_result"
    }
   ],
   "source": [
    "bio_df"
   ]
  },
  {
   "cell_type": "code",
   "execution_count": 187,
   "id": "b1b31802-74a2-4e0c-801f-4e99c1eae09b",
   "metadata": {},
   "outputs": [
    {
     "data": {
      "text/plain": [
       "Index(['plants', 'light', 'materials', 'views', 'aesthetics', 'air',\n",
       "       'sustainability'],\n",
       "      dtype='object')"
      ]
     },
     "execution_count": 187,
     "metadata": {},
     "output_type": "execute_result"
    }
   ],
   "source": [
    "bio_df.columns[1:]"
   ]
  },
  {
   "cell_type": "code",
   "execution_count": 194,
   "id": "109ec09c-5180-4f82-89b2-f570921245cb",
   "metadata": {},
   "outputs": [
    {
     "data": {
      "image/png": "[encoded data removed]",
      "text/plain": [
       "<Figure size 640x480 with 1 Axes>"
      ]
     },
     "metadata": {},
     "output_type": "display_data"
    }
   ],
   "source": [
    "# Count occurrences of each aspect\n",
    "aspect_counts = bio_df[bio_df.columns[1:]].apply(lambda column: column.astype(bool).sum(), axis=0)\n",
    "\n",
    "\n",
    "# Plot the aspect occurrences\n",
    "plt.bar(aspect_counts.index, aspect_counts.values)\n",
    "plt.xlabel('Biophilic Aspects')\n",
    "plt.ylabel('Count')\n",
    "plt.title('Count of Occurrences for Each Aspect')\n",
    "plt.tight_layout()\n",
    "plt.ylim([0, 50])\n",
    "\n",
    "plt.savefig('plots/biophilia-aspect-occurances-count.jpg',\n",
    "            dpi=300, bbox_inches='tight')"
   ]
  },
  {
   "cell_type": "code",
   "execution_count": 199,
   "id": "2890fb7a-0110-4fd0-9a90-5ce4bcb3212c",
   "metadata": {
    "scrolled": true
   },
   "outputs": [],
   "source": [
    "for aspect in bio_df.columns[1:]:\n",
    "    bio_df[\"senti_\" + aspect] = bio_df[aspect].apply(sentiment_analysis)"
   ]
  },
  {
   "cell_type": "code",
   "execution_count": 204,
   "id": "70b994aa-5c67-4d08-b41d-b0ff3ef115af",
   "metadata": {},
   "outputs": [
    {
     "data": {
      "text/plain": [
       "Index(['senti_plants', 'senti_light', 'senti_materials', 'senti_views',\n",
       "       'senti_aesthetics', 'senti_air', 'senti_sustainability'],\n",
       "      dtype='object')"
      ]
     },
     "execution_count": 204,
     "metadata": {},
     "output_type": "execute_result"
    }
   ],
   "source": [
    "bio_df.columns[8:]"
   ]
  },
  {
   "cell_type": "code",
   "execution_count": 205,
   "id": "2516f1c3-1807-40b6-a37a-f461a0ea9da1",
   "metadata": {},
   "outputs": [],
   "source": [
    "# Initialize counters for sentiment distribution\n",
    "sentiment_distribution = {\n",
    "    'positive': [],\n",
    "    'negative': [],\n",
    "    'neutral': []\n",
    "}\n",
    "\n",
    "# Iterate through sentiment columns and extract sentiment distributions\n",
    "for column in bio_df.columns[8:]:\n",
    "    sentiments = bio_df[column]\n",
    "    sentiment_count = {'positive': 0, 'negative': 0, 'neutral': 0}\n",
    "    for sentiment in sentiments:\n",
    "        if len(sentiment) > 0:\n",
    "            label = sentiment[0]['label']\n",
    "            sentiment_count[label] += 1\n",
    "    sentiment_distribution['positive'].append(sentiment_count['positive'])\n",
    "    sentiment_distribution['negative'].append(sentiment_count['negative'])\n",
    "    sentiment_distribution['neutral'].append(sentiment_count['neutral'])"
   ]
  },
  {
   "cell_type": "code",
   "execution_count": 206,
   "id": "00a5a321-c6e2-486f-8116-7a5d3d77b815",
   "metadata": {},
   "outputs": [
    {
     "data": {
      "text/html": [
       "<div>\n",
       "<style scoped>\n",
       "    .dataframe tbody tr th:only-of-type {\n",
       "        vertical-align: middle;\n",
       "    }\n",
       "\n",
       "    .dataframe tbody tr th {\n",
       "        vertical-align: top;\n",
       "    }\n",
       "\n",
       "    .dataframe thead th {\n",
       "        text-align: right;\n",
       "    }\n",
       "</style>\n",
       "<table border=\"1\" class=\"dataframe\">\n",
       "  <thead>\n",
       "    <tr style=\"text-align: right;\">\n",
       "      <th></th>\n",
       "      <th>index</th>\n",
       "      <th>Sentiment</th>\n",
       "      <th>Count</th>\n",
       "    </tr>\n",
       "  </thead>\n",
       "  <tbody>\n",
       "    <tr>\n",
       "      <th>0</th>\n",
       "      <td>senti_plants</td>\n",
       "      <td>positive</td>\n",
       "      <td>5</td>\n",
       "    </tr>\n",
       "    <tr>\n",
       "      <th>1</th>\n",
       "      <td>senti_light</td>\n",
       "      <td>positive</td>\n",
       "      <td>16</td>\n",
       "    </tr>\n",
       "    <tr>\n",
       "      <th>2</th>\n",
       "      <td>senti_materials</td>\n",
       "      <td>positive</td>\n",
       "      <td>0</td>\n",
       "    </tr>\n",
       "    <tr>\n",
       "      <th>3</th>\n",
       "      <td>senti_views</td>\n",
       "      <td>positive</td>\n",
       "      <td>2</td>\n",
       "    </tr>\n",
       "    <tr>\n",
       "      <th>4</th>\n",
       "      <td>senti_aesthetics</td>\n",
       "      <td>positive</td>\n",
       "      <td>0</td>\n",
       "    </tr>\n",
       "    <tr>\n",
       "      <th>5</th>\n",
       "      <td>senti_air</td>\n",
       "      <td>positive</td>\n",
       "      <td>0</td>\n",
       "    </tr>\n",
       "    <tr>\n",
       "      <th>6</th>\n",
       "      <td>senti_sustainability</td>\n",
       "      <td>positive</td>\n",
       "      <td>0</td>\n",
       "    </tr>\n",
       "    <tr>\n",
       "      <th>7</th>\n",
       "      <td>senti_plants</td>\n",
       "      <td>negative</td>\n",
       "      <td>1</td>\n",
       "    </tr>\n",
       "    <tr>\n",
       "      <th>8</th>\n",
       "      <td>senti_light</td>\n",
       "      <td>negative</td>\n",
       "      <td>4</td>\n",
       "    </tr>\n",
       "    <tr>\n",
       "      <th>9</th>\n",
       "      <td>senti_materials</td>\n",
       "      <td>negative</td>\n",
       "      <td>0</td>\n",
       "    </tr>\n",
       "    <tr>\n",
       "      <th>10</th>\n",
       "      <td>senti_views</td>\n",
       "      <td>negative</td>\n",
       "      <td>0</td>\n",
       "    </tr>\n",
       "    <tr>\n",
       "      <th>11</th>\n",
       "      <td>senti_aesthetics</td>\n",
       "      <td>negative</td>\n",
       "      <td>0</td>\n",
       "    </tr>\n",
       "    <tr>\n",
       "      <th>12</th>\n",
       "      <td>senti_air</td>\n",
       "      <td>negative</td>\n",
       "      <td>0</td>\n",
       "    </tr>\n",
       "    <tr>\n",
       "      <th>13</th>\n",
       "      <td>senti_sustainability</td>\n",
       "      <td>negative</td>\n",
       "      <td>0</td>\n",
       "    </tr>\n",
       "    <tr>\n",
       "      <th>14</th>\n",
       "      <td>senti_plants</td>\n",
       "      <td>neutral</td>\n",
       "      <td>12</td>\n",
       "    </tr>\n",
       "    <tr>\n",
       "      <th>15</th>\n",
       "      <td>senti_light</td>\n",
       "      <td>neutral</td>\n",
       "      <td>26</td>\n",
       "    </tr>\n",
       "    <tr>\n",
       "      <th>16</th>\n",
       "      <td>senti_materials</td>\n",
       "      <td>neutral</td>\n",
       "      <td>1</td>\n",
       "    </tr>\n",
       "    <tr>\n",
       "      <th>17</th>\n",
       "      <td>senti_views</td>\n",
       "      <td>neutral</td>\n",
       "      <td>1</td>\n",
       "    </tr>\n",
       "    <tr>\n",
       "      <th>18</th>\n",
       "      <td>senti_aesthetics</td>\n",
       "      <td>neutral</td>\n",
       "      <td>0</td>\n",
       "    </tr>\n",
       "    <tr>\n",
       "      <th>19</th>\n",
       "      <td>senti_air</td>\n",
       "      <td>neutral</td>\n",
       "      <td>0</td>\n",
       "    </tr>\n",
       "    <tr>\n",
       "      <th>20</th>\n",
       "      <td>senti_sustainability</td>\n",
       "      <td>neutral</td>\n",
       "      <td>3</td>\n",
       "    </tr>\n",
       "  </tbody>\n",
       "</table>\n",
       "</div>"
      ],
      "text/plain": [
       "                   index Sentiment  Count\n",
       "0           senti_plants  positive      5\n",
       "1            senti_light  positive     16\n",
       "2        senti_materials  positive      0\n",
       "3            senti_views  positive      2\n",
       "4       senti_aesthetics  positive      0\n",
       "5              senti_air  positive      0\n",
       "6   senti_sustainability  positive      0\n",
       "7           senti_plants  negative      1\n",
       "8            senti_light  negative      4\n",
       "9        senti_materials  negative      0\n",
       "10           senti_views  negative      0\n",
       "11      senti_aesthetics  negative      0\n",
       "12             senti_air  negative      0\n",
       "13  senti_sustainability  negative      0\n",
       "14          senti_plants   neutral     12\n",
       "15           senti_light   neutral     26\n",
       "16       senti_materials   neutral      1\n",
       "17           senti_views   neutral      1\n",
       "18      senti_aesthetics   neutral      0\n",
       "19             senti_air   neutral      0\n",
       "20  senti_sustainability   neutral      3"
      ]
     },
     "execution_count": 206,
     "metadata": {},
     "output_type": "execute_result"
    }
   ],
   "source": [
    "dist_df = pd.DataFrame(sentiment_distribution, index=bio_df.columns[8:])\n",
    "dist_df = dist_df.melt(var_name='Sentiment', value_name='Count', ignore_index=False).reset_index()\n",
    "dist_df"
   ]
  },
  {
   "cell_type": "code",
   "execution_count": 225,
   "id": "b981767d-71dc-446e-87a3-42cf0551616e",
   "metadata": {},
   "outputs": [
    {
     "data": {
      "text/plain": [
       "<Figure size 800x700 with 0 Axes>"
      ]
     },
     "metadata": {},
     "output_type": "display_data"
    },
    {
     "data": {
      "image/png": "[encoded data removed]",
      "text/plain": [
       "<Figure size 500x500 with 1 Axes>"
      ]
     },
     "metadata": {},
     "output_type": "display_data"
    }
   ],
   "source": [
    "# Set Seaborn style\n",
    "custom_ticks = ['Plants', 'Natural Light', 'Materials',\n",
    "                'View', \"Air\", 'Aesthetics',\n",
    "                'Sustainability']\n",
    "custom_palette = {'positive': '#3182bd',\n",
    "                  'negative': '#de2d26',\n",
    "                  'neutral': '#636363'}\n",
    "\n",
    "# Create grouped bar plot using Seaborn catplot\n",
    "plt.figure(figsize=(8, 7))\n",
    "plot = sns.catplot(x='index',\n",
    "                   y='Count',\n",
    "                   hue='Sentiment',\n",
    "                   data=dist_df,\n",
    "                   kind='bar',\n",
    "                   legend=False,\n",
    "                   palette=custom_palette\n",
    "                  )\n",
    "plt.xlabel('Biophilia Aspects')\n",
    "plt.ylabel('Count')\n",
    "plot.set_xticklabels(custom_ticks)\n",
    "plt.xticks(rotation=45)\n",
    "\n",
    "plt.title('Sentiment Distribution for Biophilic Aspects')\n",
    "\n",
    "ax = plot.ax\n",
    "handles, labels = ax.get_legend_handles_labels()\n",
    "ax.legend(handles[0:3], labels[0:3], title='Sentiment')\n",
    "\n",
    "plt.tight_layout()\n",
    "plt.savefig('plots/biophilia-aspect-sentiments-count.jpg',\n",
    "            dpi=300, bbox_inches='tight')"
   ]
  },
  {
   "cell_type": "code",
   "execution_count": 40,
   "id": "9683da16-a1f2-4cc4-ba5b-8f328c052a7b",
   "metadata": {},
   "outputs": [],
   "source": [
    "# Initialize Porter Stemmer\n",
    "stemmer = PorterStemmer()"
   ]
  },
  {
   "cell_type": "code",
   "execution_count": 41,
   "id": "0b874cb9-43c8-4392-b191-d7d188446f49",
   "metadata": {},
   "outputs": [],
   "source": [
    "stemmed_comfort_aspect = {}\n",
    "for aspect, words in comfort_aspect.items():\n",
    "    stemmed_words = [stemmer.stem(word) for word in words]\n",
    "    stemmed_comfort_aspect[aspect] = stemmed_words"
   ]
  },
  {
   "cell_type": "code",
   "execution_count": 42,
   "id": "52a74634-373c-4b71-abc4-35565dd3dcaf",
   "metadata": {},
   "outputs": [],
   "source": [
    "def extract_context(text, aspect, window_size=3):\n",
    "    tokens = word_tokenize(text)\n",
    "    stemmed_tokens = [stemmer.stem(token) for token in tokens]\n",
    "    \n",
    "    aspect_indices = [i for i, token in enumerate(stemmed_tokens) if token == aspect]\n",
    "    \n",
    "    contexts = []        \n",
    "    \n",
    "    for token in stemmed_tokens:\n",
    "        if token in stemmed_comfort_aspect[aspect]:\n",
    "            start_index = max(0, stemmed_tokens.index(token) - 3)\n",
    "            end_index = min(len(stemmed_tokens), stemmed_tokens.index(token) + 4)\n",
    "            context = ' '.join(tokens[start_index:end_index])\n",
    "            contexts.append(context)\n",
    "        \n",
    "    return contexts"
   ]
  },
  {
   "cell_type": "code",
   "execution_count": 43,
   "id": "38dd27b9-1738-40eb-ae3d-1432f543304a",
   "metadata": {},
   "outputs": [],
   "source": [
    "for aspect in stemmed_comfort_aspect:\n",
    "    aspect_column = []\n",
    "    df[aspect] = df['comfort'].apply(lambda x: extract_context(x, aspect))"
   ]
  }
 ],
 "metadata": {
  "kernelspec": {
   "display_name": "venv",
   "language": "python",
   "name": "venv"
  },
  "language_info": {
   "codemirror_mode": {
    "name": "ipython",
    "version": 3
   },
   "file_extension": ".py",
   "mimetype": "text/x-python",
   "name": "python",
   "nbconvert_exporter": "python",
   "pygments_lexer": "ipython3",
   "version": "3.8.9"
  }
 },
 "nbformat": 4,
 "nbformat_minor": 5
}
