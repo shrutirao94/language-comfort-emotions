{
 "cells": [
  {
   "cell_type": "markdown",
   "id": "38c2b419-4dac-43a8-a549-d876851ae387",
   "metadata": {},
   "source": [
    "# Sentiment Analysis\n",
    "\n",
    "1. Scaled representation of : `pos`, `neg`, `neutral` [done]\n",
    "2. Aspect-based analysis: which particular aspects or features are mentioned in a positive, neutral, or negative way. []\n",
    "3. Semantic Clustering []\n",
    "4. Feature Analysis []\n",
    "5. Aspect Similaarity co-occurance\n",
    "6. Emotion aspect co-occurance\n",
    "\n",
    "   ======\n",
    "\n",
    "1. Overall sentiment [done]\n",
    "2. Sentiment by floor and space [done]\n",
    "3. Sentiment by type of space i.e. group vs individual [done]\n",
    "4. Sentiment by topic"
   ]
  },
  {
   "cell_type": "code",
   "execution_count": 33,
   "id": "5e270e4f",
   "metadata": {
    "tags": []
   },
   "outputs": [],
   "source": [
    "import string\n",
    "\n",
    "import numpy as np\n",
    "import matplotlib.pyplot as plt \n",
    "import pandas as pd\n",
    "import seaborn as sns\n",
    "import spacy\n",
    "\n",
    "from textblob import TextBlob\n",
    "from transformers import pipeline\n",
    "from transformers import AutoTokenizer, AutoModelForSequenceClassification\n",
    "import torch.nn.functional as F\n",
    "from transformers import pipeline\n",
    "from wordcloud import WordCloud, STOPWORDS, ImageColorGenerator\n",
    "\n",
    "# Load spaCy's English language model\n",
    "nlp = spacy.load(\"en_core_web_sm\")\n",
    "\n",
    "# import nltk\n",
    "# # from nltk.corpus import stopwords\n",
    "# # from nltk.corpus import wordnet\n",
    "# from nltk.tokenize import word_tokenize, sent_tokenize\n",
    "# # from nltk.stem.wordnet import WordNetLemmatizer \n",
    "\n",
    "# # import stanfordnlp\n",
    "\n",
    "# from sklearn.preprocessing import MinMaxScaler\n",
    "# from sklearn.preprocessing import LabelEncoder\n",
    "# from nltk.sentiment import SentimentIntensityAnalyzer"
   ]
  },
  {
   "cell_type": "code",
   "execution_count": null,
   "id": "a139ac2b-96a5-41ab-b3e7-3ac03ef83cca",
   "metadata": {},
   "outputs": [],
   "source": [
    "# Settings\n",
    "# stanfordnlp.download('en')\n",
    "# nltk.download('stopwords')\n",
    "# nltk.download('punkt')\n",
    "# nltk.download('averaged_perceptron_tagger')"
   ]
  },
  {
   "cell_type": "code",
   "execution_count": null,
   "id": "f7e1a302-4814-4aa5-a11d-83885a45568e",
   "metadata": {},
   "outputs": [],
   "source": [
    "drop_col_emo=['occupation', 'usage', 'recruitment']"
   ]
  },
  {
   "cell_type": "markdown",
   "id": "24c48db1-07a4-4f38-bc32-00271a416399",
   "metadata": {
    "jp-MarkdownHeadingCollapsed": true
   },
   "source": [
    "# Students at LAB42"
   ]
  },
  {
   "cell_type": "code",
   "execution_count": null,
   "id": "77b647ee",
   "metadata": {
    "tags": []
   },
   "outputs": [],
   "source": [
    "emo_sl42 = pd.read_csv('data/lab42_cleaned_data.csv', index_col=0).drop(columns = drop_col_emo, axis=1).dropna(subset=['emotion'])"
   ]
  },
  {
   "cell_type": "markdown",
   "id": "8b42b309-3625-4c87-87c9-44d961ba66a2",
   "metadata": {},
   "source": [
    "## Emotions: LLM-based Overall Sentiment Analysis"
   ]
  },
  {
   "cell_type": "code",
   "execution_count": null,
   "id": "f805e89d-3f41-41c0-9bfe-ceb8c725c540",
   "metadata": {
    "tags": []
   },
   "outputs": [],
   "source": [
    "MODEL = f\"cardiffnlp/twitter-roberta-base-sentiment-latest\"\n",
    "sentiment_task = pipeline(\"sentiment-analysis\", model=MODEL, tokenizer=MODEL)"
   ]
  },
  {
   "cell_type": "code",
   "execution_count": null,
   "id": "97a0f444-081a-4636-8cdc-6b25b45bebe8",
   "metadata": {},
   "outputs": [],
   "source": [
    "def sentiment_analysis(sentence):\n",
    "    return sentiment_task(sentence, top_k=3)\n",
    "\n",
    "def assign_scores(idx):\n",
    "    emo_sl42.at[idx, 'positive'] = next(item for item in emo_sl42['senti'][idx] if item['label'] == 'positive')['score']\n",
    "    emo_sl42.at[idx, 'negative'] = next(item for item in emo_sl42['senti'][idx] if item['label'] == 'negative')['score']\n",
    "    emo_sl42.at[idx, 'neutral'] = next(item for item in emo_sl42['senti'][idx] if item['label'] == 'neutral')['score']\n",
    "\n",
    "def plot_sentiment_analysis(df, label):\n",
    "    sns.countplot(y=df[label + \"_label\"], \n",
    "                  palette=['#b2d8d8',\"#008080\", '#db3d13'],\n",
    "                  order=[\"positive\", \"negative\", \"neutral\"])\n",
    "    plt.ylabel(\"Overall Sentiment for Emotion Responses\")\n",
    "    plt.xlabel(\"Count\")\n",
    "    plt.savefig('plots/sentiment-analysis/students-lab42/' + label + '-llm-sentiment-count.jpg',\n",
    "                dpi=300, bbox_inches='tight')"
   ]
  },
  {
   "cell_type": "code",
   "execution_count": null,
   "id": "bbb126b3-cf3f-4ed8-8a4c-71ee41c5fe07",
   "metadata": {
    "tags": []
   },
   "outputs": [],
   "source": [
    "# 1. Calculate sentiment analysis on each emotion statement:\n",
    "emo_sl42['senti'] = emo_sl42['emotion'].apply(sentiment_analysis)\n",
    "\n",
    "# 2. Sort Sentiment Scores into Independent Columns\n",
    "for idx in emo_sl42.index:\n",
    "    assign_scores(idx)\n",
    "\n",
    "# 3. Drop Unecessary Columns\n",
    "emo_sl42 = emo_sl42.drop(columns=['senti'])\n",
    "\n",
    "# 4. Calculate the dominant overall sentiment of the response\n",
    "emo_sl42['emo_label'] = emo_sl42[['positive', 'negative', 'neutral']].idxmax(axis=1)\n",
    "\n",
    "# 5. Plot the overall sentiments distribution\n",
    "plot_sentiment_analysis(emo_sl42, 'emo')"
   ]
  },
  {
   "cell_type": "markdown",
   "id": "bbd61594-810d-43e5-bbc1-6d9b4d23b40f",
   "metadata": {
    "jp-MarkdownHeadingCollapsed": true
   },
   "source": [
    "## Comfort: LLM-based Overall Sentiment Analysis"
   ]
  },
  {
   "cell_type": "code",
   "execution_count": null,
   "id": "ff599c6b-780f-4299-833c-445e1e8713b1",
   "metadata": {},
   "outputs": [],
   "source": [
    "comfort_sl42 = pd.read_csv('data/lab42_cleaned_data.csv', index_col=0).drop(columns = drop_col_emo, axis=1).dropna(subset=['comfort'])"
   ]
  },
  {
   "cell_type": "code",
   "execution_count": null,
   "id": "fa536f29-e2b1-42bc-b338-ffb4462b684c",
   "metadata": {},
   "outputs": [],
   "source": [
    "def sentiment_analysis(sentence):\n",
    "    return sentiment_task(sentence, top_k=3)\n",
    "\n",
    "def assign_scores(idx):\n",
    "    comfort_sl42.at[idx, 'positive'] = next(item for item in comfort_sl42['senti'][idx] if item['label'] == 'positive')['score']\n",
    "    comfort_sl42.at[idx, 'negative'] = next(item for item in comfort_sl42['senti'][idx] if item['label'] == 'negative')['score']\n",
    "    comfort_sl42.at[idx, 'neutral'] = next(item for item in comfort_sl42['senti'][idx] if item['label'] == 'neutral')['score']\n",
    "\n",
    "def plot_sentiment_analysis(df, label):\n",
    "    sns.countplot(y=df[label + \"_label\"], \n",
    "                  palette=['#b2d8d8',\"#008080\", '#db3d13'],\n",
    "                  order=[\"positive\", \"negative\", \"neutral\"])\n",
    "    plt.ylabel(\"Overall Sentiment for Comfort Responses\")\n",
    "    plt.xlabel(\"Count\")\n",
    "    plt.savefig('plots/sentiment-analysis/students-lab42/' + label + '-llm-sentiment-count.jpg',\n",
    "                dpi=300, bbox_inches='tight')"
   ]
  },
  {
   "cell_type": "code",
   "execution_count": null,
   "id": "6e9ba05c-b602-490f-bbfb-6f9ec62552d8",
   "metadata": {},
   "outputs": [],
   "source": [
    "# 1. Calculate sentiment analysis on each emotion statement:\n",
    "comfort_sl42['senti'] = comfort_sl42['comfort'].apply(sentiment_analysis)\n",
    "\n",
    "# 2. Sort Sentiment Scores into Independent Columns\n",
    "for idx in comfort_sl42.index:\n",
    "    assign_scores(idx)\n",
    "\n",
    "# 3. Drop Unecessary Columns\n",
    "comfort_sl42 = comfort_sl42.drop(columns=['senti'])\n",
    "\n",
    "# 4. Calculate the dominant overall sentiment of the response\n",
    "comfort_sl42['comfort_label'] = comfort_sl42[['positive', 'negative', 'neutral']].idxmax(axis=1)\n",
    "\n",
    "# 5. Plot the overall sentiments distribution\n",
    "plot_sentiment_analysis(comfort_sl42, 'comfort')"
   ]
  },
  {
   "cell_type": "markdown",
   "id": "b03e9ad0-933a-4023-a666-1f7b6b9c6854",
   "metadata": {
    "jp-MarkdownHeadingCollapsed": true
   },
   "source": [
    "# Comparing Emotion and Comfort Sentiments\n",
    "How do positive emotion labels impact comfort? What about negative emo labels? Is there any relationship between the two?"
   ]
  },
  {
   "cell_type": "code",
   "execution_count": null,
   "id": "665a607b-f87b-4bac-999f-20929b1e80a7",
   "metadata": {},
   "outputs": [],
   "source": [
    "df = pd.read_csv('data/lab42_cleaned_data.csv', index_col=0)\n",
    "df = df[[\"emotion\", \"comfort\"]].dropna(how=\"any\")"
   ]
  },
  {
   "cell_type": "code",
   "execution_count": null,
   "id": "4aa07cc0-265a-444e-af2b-9a1571bbf836",
   "metadata": {},
   "outputs": [],
   "source": [
    "def sentiment_analysis(sentence):\n",
    "    return sentiment_task(sentence)\n",
    "    \n",
    "df_senti = df.applymap(sentiment_analysis)"
   ]
  },
  {
   "cell_type": "code",
   "execution_count": null,
   "id": "2e76edbf-0711-4cc4-8804-1af8127c11a3",
   "metadata": {},
   "outputs": [],
   "source": [
    "df.head()"
   ]
  },
  {
   "cell_type": "code",
   "execution_count": null,
   "id": "2f8f3258-d5ad-48f1-8931-809b3de81f18",
   "metadata": {},
   "outputs": [],
   "source": [
    "df_senti = df_senti.rename(columns={'emotion':'emo_label',\n",
    "                         'comfort': 'comfort_label'})"
   ]
  },
  {
   "cell_type": "code",
   "execution_count": null,
   "id": "ecc11029-08ae-4249-a3dd-468a952ed36f",
   "metadata": {},
   "outputs": [],
   "source": [
    "df = df_senti.join(df)"
   ]
  },
  {
   "cell_type": "code",
   "execution_count": null,
   "id": "35a4bb40-f03c-41bd-8b64-c74f39cf110b",
   "metadata": {},
   "outputs": [],
   "source": [
    "df.head()"
   ]
  },
  {
   "cell_type": "code",
   "execution_count": null,
   "id": "474cc43b-b87a-4062-b055-a24bf7b2d488",
   "metadata": {},
   "outputs": [],
   "source": [
    "def assign_labels(idx):\n",
    "    # print(idx)\n",
    "    # print(df['emotion'][idx][0]['label'])\n",
    "    df['emo_label'][idx] = df['emo_label'][idx][0]['label']\n",
    "    df['comfort_label'][idx] =  df['comfort_label'][idx][0]['label']"
   ]
  },
  {
   "cell_type": "code",
   "execution_count": null,
   "id": "e209b3ea-1e2f-41ed-bc5a-a236e1b29007",
   "metadata": {},
   "outputs": [],
   "source": [
    "for idx in df.index:\n",
    "   assign_labels(idx)"
   ]
  },
  {
   "cell_type": "code",
   "execution_count": null,
   "id": "1f1e140c-8d8c-4c67-bc6b-7e334a5bea05",
   "metadata": {},
   "outputs": [],
   "source": [
    "df[['emo_label', 'comfort_label']] = df[['emo_label', 'comfort_label']].replace({'positive': 1, \n",
    "                                                                                 'negative': -1,\n",
    "                                                                                 'neutral': 0})"
   ]
  },
  {
   "cell_type": "code",
   "execution_count": null,
   "id": "705969bb-8b76-40c2-b298-fe607ceef532",
   "metadata": {},
   "outputs": [],
   "source": [
    "df[['emo_label', 'comfort_label']].value_counts()"
   ]
  },
  {
   "cell_type": "code",
   "execution_count": null,
   "id": "26b9b2a3-a29c-4eec-b865-9cbdd8ed990f",
   "metadata": {},
   "outputs": [],
   "source": [
    "grouped = df.groupby(['emo_label', 'comfort_label']).size().unstack(fill_value=0)\n",
    "\n",
    "# Reset the index to use 'Emotion' as a column\n",
    "grouped = grouped.reset_index()\n",
    "\n",
    "# Melt the data to create a tidy format for Seaborn\n",
    "melted = pd.melt(grouped,\n",
    "                 id_vars=['emo_label'],\n",
    "                 value_vars=[-1, 0, 1],\n",
    "                 var_name='comfort_label',\n",
    "                 value_name='Count')\n",
    "\n",
    "# Map comfort values to colors\n",
    "comfort_colors = {-1: 'red', 0: 'gray', 1: 'green'}\n",
    "melted['Comfort_color'] = melted['comfort_label'].map(comfort_colors)\n",
    "\n",
    "labels = ['Negative', 'Neutral', 'Positive']\n",
    "\n",
    "# Create a grouped bar plot using Seaborn\n",
    "plt.figure(figsize=(8, 6))\n",
    "ax = sns.barplot(data=melted, x='emo_label', y='Count', hue='comfort_label')\n",
    "plt.xlabel('Emotion Sentiments')\n",
    "ax.set_xticklabels(['Negative', 'Neutral', 'Positive'])\n",
    "plt.ylabel('Count')\n",
    "plt.title('Relationship between Emotion and Comfort Sentiment Labels')\n",
    "\n",
    "h, l = ax.get_legend_handles_labels()\n",
    "ax.legend(h, labels, title='Comfort Sentiments')\n",
    "plt.savefig('plots/emotion-vs-comfort-sentiments.jpg',\n",
    "            dpi=300, bbox_inches='tight')"
   ]
  },
  {
   "cell_type": "markdown",
   "id": "b7c27028-e447-474c-8fdf-a735a7afd84c",
   "metadata": {},
   "source": [
    "## Overview of Relationship between Emotions and Comfort\n",
    "Positive emotion --> positive comfort (N=52) 42%\n",
    "\n",
    "Positive emotion --> neutral comfort (N=16) 13%\n",
    "\n",
    "Neutral emotion --> positive comfort (N=22) 18%\n",
    "\n",
    "Very rare that positive emotions --> negative comfort (N=4) 0.03%\n",
    "\n",
    "Very rare that negative emotions --> positive comfort (N=4) 0.03%\n",
    "\n",
    "Very rare that neutral emotions --> negative or neutral comfort (N=6/5)"
   ]
  },
  {
   "cell_type": "code",
   "execution_count": null,
   "id": "775bc912-c90f-4f77-b727-6d9296a90779",
   "metadata": {},
   "outputs": [],
   "source": [
    "for row in df[(df['emo_label']== -1) & (df['comfort_label'] == 1)].comfort:\n",
    "    print(\"*: \", row)"
   ]
  },
  {
   "cell_type": "code",
   "execution_count": null,
   "id": "bc8382bf-0748-4dae-91e1-85d30fc164e1",
   "metadata": {},
   "outputs": [],
   "source": [
    "for row in df[(df['emo_label']== 1) & (df['comfort_label'] == -1)].comfort:\n",
    "    print(\"*: \", row)"
   ]
  },
  {
   "cell_type": "code",
   "execution_count": null,
   "id": "60a273c5-c13b-448f-ab4e-a2cb7ace0b50",
   "metadata": {},
   "outputs": [],
   "source": [
    "for row in df[(df['emo_label']== 0) & (df['comfort_label'] == -1)].comfort:\n",
    "    print(\"*: \", row)"
   ]
  },
  {
   "cell_type": "markdown",
   "id": "9947d9a0-3e1f-4340-9805-86d53ce64f09",
   "metadata": {},
   "source": [
    "## Lexicon-based Analysis using VADER\n",
    "Here we are interested in the rule-based analysis. The compound score is computed by summing the \n",
    "valence scores of each word in the lexicon, adjusted according to the rules, and then normalized \n",
    "to be between -1 (most extreme negative) and +1 (most extreme positive). \n",
    "It is a 'normalized, weighted composite score."
   ]
  },
  {
   "cell_type": "code",
   "execution_count": null,
   "id": "8b8a48ac-8a2d-4275-ab5c-dfa460a45280",
   "metadata": {},
   "outputs": [],
   "source": [
    "def vader_lexicon_analysis(df, label):\n",
    "    analyzer = SentimentIntensityAnalyzer()\n",
    "    df[label + '-composite-score'] = df[label].apply(lambda x: analyzer.polarity_scores(str(x))['compound'])\n",
    "    \n",
    "    return df \n",
    "\n",
    "def plot_lexicon_analysis(df, label):\n",
    "    sns.boxplot(x='floor', y='emotion-composite-score', data=df)\n",
    "    plt.xlabel(\"Floor\")\n",
    "    plt.ylabel(\"Lexicon-based Normalised Weighted Composite Score \\n (1 = Most Positive; 0 = Neutral; -1 = Most Negative)\")\n",
    "    plt.tick_params(bottom=False)\n",
    "    plt.axhline(0, ls='--', c = 'grey')\n",
    "    plt.savefig('plots/sentiment-analysis/students-lab42/' +\n",
    "                label +\n",
    "                '-vader-lexicon-composite.jpg',\n",
    "                dpi=300,\n",
    "                bbox_inches='tight')\n",
    "\n",
    "    plt.clf()\n",
    "\n",
    "    sns.displot(x='emotion-composite-score', kde=True, \n",
    "                height=4,\n",
    "                aspect=1.5,\n",
    "                data=emo_sl42)\n",
    "    plt.xlabel(\"Lexicon-Based Normalised Weighted Composite Scores for Sentiments \\n (1 = Most Positive; 0 = Neutral; -1 = Most Negative)\")\n",
    "    plt.tick_params(bottom=False)\n",
    "    plt.axhline(0, ls='--', c = 'grey')\n",
    "    plt.savefig('plots/sentiment-analysis/students-lab42/' +\n",
    "                label +\n",
    "                '-distribution-lexicon-composite.jpg',\n",
    "                dpi=300,\n",
    "                bbox_inches='tight')\n",
    "    plt.clf()\n",
    "\n",
    "    sns.displot(x='emotion-composite-score', y='emo_label',\n",
    "                binwidth=(.2, .1),\n",
    "                height=4,\n",
    "                aspect=1.5,\n",
    "                data=emo_sl42)\n",
    "    plt.xlabel(\"Lexicon-Based Normalised Weighted Composite Scores for Sentiments \\n (1 = Most Positive; 0 = Neutral; -1 = Most Negative)\")\n",
    "    plt.ylabel(\"LLM Generated Sentiment Labels\")\n",
    "    plt.tick_params(bottom=False)\n",
    "    plt.savefig('plots/sentiment-analysis/students-lab42/' +\n",
    "                label +\n",
    "                '-vader-vs-lexicon-composite.jpg',\n",
    "                dpi=300,\n",
    "                bbox_inches='tight')\n",
    "\n",
    "def plot_sentiment_analysis_spaces(df, label):\n",
    "    df = df.where(df[\"space-type\"] != \"\").dropna(how=\"all\")\n",
    "    f = plt.figure(figsize=(10, 6))\n",
    "    sns.boxplot(x='space-type', y='compound', width=0.5,\n",
    " data=df)\n",
    "    plt.xlabel(\"Space Type\")\n",
    "    plt.ylabel(\"Sentiment Value \\n (1 = Most Positive; 0 = Neutral; -1 = Most Negative)\")\n",
    "    plt.tick_params(bottom=False)\n",
    "    plt.axhline(0, ls='--', c = 'grey')\n",
    "    plt.savefig('plots/lab42-' + label + '-space-wise-sentiment-distribution.jpg',\n",
    "                dpi=300, bbox_inches='tight')"
   ]
  },
  {
   "cell_type": "code",
   "execution_count": null,
   "id": "ba05b071-15eb-43c8-b4c2-3e692ae5411a",
   "metadata": {
    "scrolled": true
   },
   "outputs": [],
   "source": [
    "emo_sl42 = vader_lexicon_analysis(emo_sl42, 'emotion')\n",
    "plot_lexicon_analysis(emo_sl42, 'emotion')"
   ]
  },
  {
   "cell_type": "markdown",
   "id": "e40769e0-9f27-4273-ab44-e7f8bbae766c",
   "metadata": {},
   "source": [
    "## Scale data to scores between -1 and 1\n",
    "Polarity score in the range of -1 to -0.5 typically indicates negative sentiment\n",
    "Polarity score greater than -0.5 and less than +0.5 typically indicates neutral sentiment\n",
    "Polarity score in the range of +0.5 to 1 typically indicates positive sentiment"
   ]
  },
  {
   "cell_type": "code",
   "execution_count": null,
   "id": "52582e49-b5f5-4cc7-a157-f35cfda248f8",
   "metadata": {},
   "outputs": [],
   "source": [
    "def scale_emotion_values():\n",
    "    labels = ['positive', 'negative', 'neutral']\n",
    "    scales = [(0.5, 1.0), (-1.0, -0.5), (-0.5, 0.5)]\n",
    "    emo_sl42['scaled_scores'] = 0\n",
    "    \n",
    "    for label, scale in zip(labels, scales):\n",
    "        values = np.array(emo_sl42[label][emo_sl42['emo_label'] == label]).reshape(-1,1)\n",
    "        idx = emo_sl42.index[emo_sl42['emo_label'] == label].to_list()\n",
    "        scaled_values = minmax_scaler(scale, values, idx)\n",
    "        emo_sl42.loc[idx,'scaled_scores'] = scaled_values\n",
    "    \n",
    "    return emo_sl42\n",
    "\n",
    "\n",
    "def minmax_scaler(scale, values, idx):\n",
    "    scaler = MinMaxScaler(feature_range = scale)\n",
    "    scaled_values = pd.Series(scaler.fit_transform(values).flatten()).set_axis(idx)\n",
    "    \n",
    "    return scaled_values "
   ]
  },
  {
   "cell_type": "code",
   "execution_count": null,
   "id": "5453f1f5-f674-4298-9396-ec1befa53598",
   "metadata": {},
   "outputs": [],
   "source": [
    "emo_sl42 = scale_emotion_values()"
   ]
  },
  {
   "cell_type": "code",
   "execution_count": null,
   "id": "97da4ba8-7eea-4f12-86c1-88e4e6618d1f",
   "metadata": {},
   "outputs": [],
   "source": [
    "group = ['Round tables by the three plants (across wooden staircase)',\n",
    "                        'Next to the lockers',\n",
    "                        'Study corner next to the plant wall',\n",
    "                        'Yellow/white chairs & tables (besides the wooden staircase)',\n",
    "                        'Tables on the landing (with wooden floor) accessible by the black staircase',\n",
    "                        'Green group study tables (between a row of plants and railing)',\n",
    "                        'Group tables by the stairs',\n",
    "                        'Open lounge area',\n",
    "                        'Near the printer',\n",
    "                        'Round tables by the coffee machine']\n",
    "\n",
    "individual =  ['Library learning room',\n",
    "                             'Green chairs by the entrance',\n",
    "                             'Partly covered green chairs (along glass wall)']\n",
    "\n",
    "unsure = [\"Unsure\"]\n",
    "\n",
    "def assign_types_to_spaces(space):\n",
    "    if space in group:\n",
    "        return \"group\"\n",
    "    if space in individual:\n",
    "        return \"individual\"\n",
    "    if space in unsure:\n",
    "        return \"unsure\"\n",
    "    \n",
    "def merge_spaces(df):\n",
    "    df[\"space-type\"] = df[\"space-ground-floor\"] + df[\"space-1-floor\"] + df[\"space-2-floor\"] + df[\"space-3-floor\"]\n",
    "    df = df.drop(columns =[\"space-ground-floor\", \"space-1-floor\", \"space-2-floor\", \"space-3-floor\"])\n",
    "    \n",
    "    return df\n",
    "\n",
    "\n",
    "def create_group_solo_space_labels(df):\n",
    "    spaces = [\"ground-floor\", \"1-floor\", \"2-floor\", \"3-floor\"]\n",
    "    \n",
    "    for space in spaces:\n",
    "        df[\"space-\" + space] = df[space].apply(lambda space: assign_types_to_spaces(space)).fillna(\"\")\n",
    "    \n",
    "    return df\n",
    "\n",
    "\n",
    "def plot_sentiment_analysis_spaces(df, label):\n",
    "    df = df.where(df[\"space-type\"] != \"\").dropna(how=\"all\")\n",
    "    f = plt.figure(figsize=(10, 6))\n",
    "    sns.boxplot(x='space-type', y='scaled_scores',\n",
    "                width=0.5,\n",
    "                data=df)\n",
    "    plt.xlabel(\"Space Type\")\n",
    "    plt.ylabel(\"Sentiment Value \\n (1 = Most Positive; 0 = Neutral; -1 = Most Negative)\")\n",
    "    plt.tick_params(bottom=False)\n",
    "    plt.axhline(0, ls='--', c = 'grey')\n",
    "    plt.savefig('plots/lab42-' + label + '-space-wise-sentiment-distribution.jpg',\n",
    "                dpi=300, bbox_inches='tight')"
   ]
  },
  {
   "cell_type": "code",
   "execution_count": null,
   "id": "240769a1-5be4-4c2e-affe-3baa007832b7",
   "metadata": {},
   "outputs": [],
   "source": [
    "df = create_group_solo_space_labels(emo_sl42)\n",
    "df = merge_spaces(df)\n",
    "plot_sentiment_analysis_spaces(df, 'emotion')"
   ]
  },
  {
   "cell_type": "code",
   "execution_count": null,
   "id": "945fd417-4d0a-4ebc-820b-a21139d6557b",
   "metadata": {},
   "outputs": [],
   "source": [
    "def plot_overview_sentiment_analysis_spaces(df, label):\n",
    "    df = df.where(df[\"space-type\"] != \"\").dropna(how=\"all\")\n",
    "    f = plt.figure(figsize=(10, 6))\n",
    "    sns.catplot(data=df, \n",
    "                x=\"floor\", y='scaled_scores',\n",
    "                hue=\"emo_label\",\n",
    "                col=\"space-type\",\n",
    "                kind=\"swarm\" )\n",
    "    plt.xlabel(\"Floor\")\n",
    "    plt.ylabel(\"Scaled Sentiment Value \\n (1 = Most Positive; 0 = Neutral; -1 = Most Negative)\")\n",
    "    plt.tick_params(bottom=False)\n",
    "    plt.savefig('plots/lab42-' + label + 'floor-space-wise-sentiment-distribution.jpg',\n",
    "                dpi=300, bbox_inches='tight')\n",
    "\n",
    "\n",
    "\n",
    "# sns.countplot(y=emo_sl42[\"emo_label\"], palette=['#b2d8d8',\"#008080\", '#db3d13'],order=[\"positive\", \"negative\", \"neutral\"])"
   ]
  },
  {
   "cell_type": "code",
   "execution_count": null,
   "id": "e48387a8-852f-4800-bc70-4381324b9991",
   "metadata": {},
   "outputs": [],
   "source": [
    "plot_overview_sentiment_analysis_spaces(emo_sl42, \"emo\")"
   ]
  },
  {
   "cell_type": "code",
   "execution_count": null,
   "id": "7ee9b550-9851-4820-8d77-b37e64c982db",
   "metadata": {},
   "outputs": [],
   "source": [
    "emo_sl42['dominant_emo_val'] = emo_sl42[['positive', 'negative', 'neutral']].max(axis=1)\n"
   ]
  },
  {
   "cell_type": "code",
   "execution_count": null,
   "id": "53e56caf-af30-4394-883f-e1781ee56903",
   "metadata": {
    "scrolled": true
   },
   "outputs": [],
   "source": [
    "sns.catplot(x='emo_label', y='dominant_emo_val', hue=\"space-type\",\n",
    "            kind=\"bar\", errorbar=None, data=emo_sl42)"
   ]
  },
  {
   "cell_type": "markdown",
   "id": "c68eb827-4ef8-4bc4-80f1-4cfe84ba8043",
   "metadata": {},
   "source": [
    "# Aspect-Based Sentiment Analysis\n",
    "\n",
    "maybe train your own model: https://github.com/shwe24/Aspect-Based-Sentiment-Classification/blob/main/Aspect_Extraction.ipynb"
   ]
  },
  {
   "cell_type": "code",
   "execution_count": 66,
   "id": "a72c3319-a200-44a7-a173-6a46c9d5a297",
   "metadata": {},
   "outputs": [],
   "source": [
    "df = pd.read_csv('data/lab42_cleaned_data.csv', index_col=0)\n",
    "# df = df[[\"emotion\"]].dropna(how=\"any\")"
   ]
  },
  {
   "cell_type": "code",
   "execution_count": 67,
   "id": "88bf6f6b-001d-4d7c-b2db-d98f3a25419a",
   "metadata": {},
   "outputs": [
    {
     "name": "stderr",
     "output_type": "stream",
     "text": [
      "Some weights of the model checkpoint at cardiffnlp/twitter-roberta-base-sentiment-latest were not used when initializing RobertaForSequenceClassification: ['roberta.pooler.dense.bias', 'roberta.pooler.dense.weight']\n",
      "- This IS expected if you are initializing RobertaForSequenceClassification from the checkpoint of a model trained on another task or with another architecture (e.g. initializing a BertForSequenceClassification model from a BertForPreTraining model).\n",
      "- This IS NOT expected if you are initializing RobertaForSequenceClassification from the checkpoint of a model that you expect to be exactly identical (initializing a BertForSequenceClassification model from a BertForSequenceClassification model).\n"
     ]
    }
   ],
   "source": [
    "# Load Aspect-Based Sentiment Analysis model\n",
    "MODEL = f\"cardiffnlp/twitter-roberta-base-sentiment-latest\"\n",
    "sentiment_task = pipeline(\"sentiment-analysis\", model=MODEL, tokenizer=MODEL)"
   ]
  },
  {
   "cell_type": "code",
   "execution_count": 68,
   "id": "7fd1ea75-a728-462b-b4cb-3ccdd80dba87",
   "metadata": {},
   "outputs": [],
   "source": [
    "emotion_aspect = [\"calm\"]\n",
    "comfort_aspect = [\"noise\", \"air\", \"quality\", \"temperature\", \"light\"]\n",
    "# biophilic_aspect = [\"\"]"
   ]
  },
  {
   "cell_type": "markdown",
   "id": "49c9c093-6987-44af-a9b2-f5ae6a45000f",
   "metadata": {},
   "source": []
  },
  {
   "cell_type": "code",
   "execution_count": 69,
   "id": "7274332f-e4e1-48b0-bad7-feafd7c7440c",
   "metadata": {},
   "outputs": [],
   "source": [
    "def sentiment_analysis(sentence):\n",
    "    return sentiment_task(sentence)\n",
    "\n",
    "def clean_strings(str):\n",
    "    return str.translate(str.maketrans ('', '', string.punctuation))\n",
    "\n",
    "df['emotion'] = df['emotion'].apply(clean_strings)\n",
    "\n",
    "df['aspects'] = ''\n",
    "\n",
    "# Process each row in the DataFrame\n",
    "for index, row in df.iterrows():\n",
    "    doc = nlp(row['emotion'])\n",
    "    aspects = []\n",
    "\n",
    "    for token in doc:\n",
    "        if token.text.lower() in emotion_aspect:            \n",
    "            aspect = token.text\n",
    "            context = ' '.join([t.text for t in doc[token.i - 3:token.i + 4]])  # Extract 3 words before and after the aspect\n",
    "            sentiment = sentiment_analysis(context)\n",
    "            aspects.append(context)\n",
    "            df.at[index, 'aspect_key'] = aspect\n",
    "            df.at[index, 'aspect_sentiment'] = sentiment\n",
    "    df.at[index, 'aspects'] = aspects"
   ]
  },
  {
   "cell_type": "markdown",
   "id": "f1c0d514-5547-475b-ad45-53facf56370e",
   "metadata": {},
   "source": [
    "### Calm:\n"
   ]
  },
  {
   "cell_type": "code",
   "execution_count": 70,
   "id": "0253219c-09d6-411c-8f35-7c0d1add5c21",
   "metadata": {},
   "outputs": [
    {
     "data": {
      "image/png": "[encoded data removed]",
      "text/plain": [
       "<Figure size 1000x600 with 1 Axes>"
      ]
     },
     "metadata": {},
     "output_type": "display_data"
    }
   ],
   "source": [
    "# Initialize a dictionary to store extracted sentiment scores for each aspect\n",
    "aspect_scores = {}\n",
    "\n",
    "# Iterate through the rows and extract sentiment scores for each aspect\n",
    "for row in df['aspect_sentiment']:\n",
    "    if isinstance(row, list):\n",
    "        for sentiment in row:\n",
    "            label = sentiment['label']\n",
    "            score = sentiment['score']\n",
    "            aspect_scores[label] = aspect_scores.get(label, []) + [score]\n",
    "\n",
    "# Create box plots for sentiment scores of each aspect\n",
    "plt.figure(figsize=(10, 6))\n",
    "plt.boxplot(aspect_scores.values(), labels=aspect_scores.keys(), vert=False, patch_artist=True)\n",
    "plt.ylabel('Sentiment Label')\n",
    "plt.xlabel('Sentiment Score (0.0 - 1.0)')\n",
    "plt.title('Aspect Sentiment Distribution')\n",
    "plt.show()"
   ]
  },
  {
   "cell_type": "code",
   "execution_count": 78,
   "id": "de9882f5-7e52-4401-905a-cc2a8b6420fd",
   "metadata": {},
   "outputs": [],
   "source": [
    "def generate_wordcloud():\n",
    "    df['aspects'] = [''.join(map(str, l)) for l in df['aspects']]\n",
    "    df['aspects'].str.cat(sep=' ')  \n",
    "    wordcloud = WordCloud(background_color=\"white\").generate(df['aspects'].str.cat(sep=' '))\n",
    "\n",
    "    plt.imshow(wordcloud, interpolation='bilinear')\n",
    "    plt.axis(\"off\")\n",
    "    plt.show()"
   ]
  },
  {
   "cell_type": "code",
   "execution_count": 79,
   "id": "fd2f50ab-abd6-4a8e-8bad-d692743e084e",
   "metadata": {},
   "outputs": [
    {
     "data": {
      "image/png": "[encoded data removed]",
      "text/plain": [
       "<Figure size 640x480 with 1 Axes>"
      ]
     },
     "metadata": {},
     "output_type": "display_data"
    }
   ],
   "source": [
    "generate_wordcloud()"
   ]
  },
  {
   "cell_type": "code",
   "execution_count": null,
   "id": "7e18d307-308d-494b-98ca-dc2fbc8371e7",
   "metadata": {},
   "outputs": [],
   "source": []
  }
 ],
 "metadata": {
  "kernelspec": {
   "display_name": "venv",
   "language": "python",
   "name": "venv"
  },
  "language_info": {
   "codemirror_mode": {
    "name": "ipython",
    "version": 3
   },
   "file_extension": ".py",
   "mimetype": "text/x-python",
   "name": "python",
   "nbconvert_exporter": "python",
   "pygments_lexer": "ipython3",
   "version": "3.8.9"
  }
 },
 "nbformat": 4,
 "nbformat_minor": 5
}
